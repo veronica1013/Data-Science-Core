{
  "nbformat": 4,
  "nbformat_minor": 0,
  "metadata": {
    "colab": {
      "name": "Moringa_Data_Science_Core_W2_Independent_Project_2021_06_Veronica_Isiaho_Python_Notebook_ipynb",
      "provenance": [],
      "collapsed_sections": [],
      "toc_visible": true,
      "include_colab_link": true
    },
    "kernelspec": {
      "name": "python3",
      "display_name": "Python 3"
    }
  },
  "cells": [
    {
      "cell_type": "markdown",
      "metadata": {
        "id": "view-in-github",
        "colab_type": "text"
      },
      "source": [
        "<a href=\"https://colab.research.google.com/github/veronica1013/Data-Science-Core/blob/main/Moringa_Data_Science_Core_W2_Independent_Project_2021_06_Veronica_Isiaho_Python_Notebook_ipynb.ipynb\" target=\"_parent\"><img src=\"https://colab.research.google.com/assets/colab-badge.svg\" alt=\"Open In Colab\"/></a>"
      ]
    },
    {
      "cell_type": "markdown",
      "metadata": {
        "id": "OMlDY9LoXUaJ"
      },
      "source": [
        "# 1.0 Overview \n",
        "\n",
        "Financial Inclusion remains one of the main obstacles to economic and human development in Africa. For example, across Kenya, Rwanda, Tanzania, and Uganda only 9.1 million adults (or 13.9% of the adult population) have access to or use a commercial bank account.\n",
        "\n",
        "Traditionally, access to bank accounts has been regarded as an indicator of financial inclusion. Despite the proliferation of mobile money in Africa and the growth of innovative fintech solutions, banks still play a pivotal role in facilitating access to financial services. Access to bank accounts enables households to save and facilitate payments while also helping businesses build up their credit-worthiness and improve their access to other financial services. Therefore, access to bank accounts is an essential contributor to long-term economic growth.\n",
        "\n",
        "The research problem is to figure out how we can predict which individuals are most likely to have or use a bank account. Your solution will help provide an indication of the state of financial inclusion in Kenya, Rwanda, Tanzania, and Uganda, while providing insights into some of the key demographic factors that might drive individuals’ financial outcomes.\n",
        "\n",
        "## Methodology\n",
        "In order to work on the above problem, following will be done:\n",
        "\n",
        "1. Define the question, the metric for success, the context, experimental design taken and the appropriateness of the available data to answer the given question\n",
        "2. Find and deal with outliers, anomalies, and missing data within the dataset.\n",
        "3. Perform univariate, bivariate and multivariate analysis recording your observations.\n",
        "4. Implement the solution by performing the respective analysis i.e. factor analysis, principal component analysis, and discriminant analysis.\n",
        "5. Challenge your solution by providing insights on how you can make improvements.\n",
        "\n",
        "### Dataset\n",
        "\n",
        "The main dataset contains demographic information and what financial services are used by individuals across East Africa. This data was extracted from various Finscope surveys ranging from 2016 to 2018, and more information about these surveys can be found here:\n",
        "*   FinAccess Kenya 2018. [Link]\n",
        "*   Finscope Rwanda 2016. [Link]\n",
        "*   Finscope Tanzania 2017. [Link]\n",
        "*   Finscope Uganda 2018. [Link]\n",
        "\n",
        "Dataset Files:\n",
        "\n",
        "Variable Definitions: http://bit.ly/VariableDefinitions \n",
        "Dataset: http://bit.ly/FinancialDataset "
      ]
    },
    {
      "cell_type": "markdown",
      "metadata": {
        "id": "xMxtPsqcTsSH"
      },
      "source": [
        "# Exploratory Data Analysis: Univariate Analysis"
      ]
    },
    {
      "cell_type": "code",
      "metadata": {
        "id": "Z4Q3jQvH8NEf"
      },
      "source": [
        "# Import the revevant libraries\n",
        "# import pandas\n",
        "\n",
        "import pandas as pd\n",
        "\n",
        "# import numpy\n",
        "\n",
        "import numpy as np\n",
        "\n",
        "# import datetime\n",
        "\n",
        "import datetime\n",
        "\n",
        "# import seaborn\n",
        "\n",
        "import seaborn as sns\n",
        "\n",
        "# import matplotlib\n",
        "\n",
        "import matplotlib.pyplot as plt"
      ],
      "execution_count": 1,
      "outputs": []
    },
    {
      "cell_type": "markdown",
      "metadata": {
        "id": "iUNbvIvnT7ep"
      },
      "source": [
        "## 2. Reading the Data"
      ]
    },
    {
      "cell_type": "code",
      "metadata": {
        "colab": {
          "base_uri": "https://localhost:8080/",
          "height": 421
        },
        "id": "xKz3d1IhZWwP",
        "outputId": "2ee3f962-6b36-4bfa-b375-bf8e028d3e92"
      },
      "source": [
        "# Reading the variables definitions\n",
        "# Variables url = http://bit.ly/VariableDefinitions\n",
        "\n",
        "VariableDefinitions = pd.read_csv('http://bit.ly/VariableDefinitions')\n",
        "VariableDefinitions"
      ],
      "execution_count": 2,
      "outputs": [
        {
          "output_type": "execute_result",
          "data": {
            "text/html": [
              "<div>\n",
              "<style scoped>\n",
              "    .dataframe tbody tr th:only-of-type {\n",
              "        vertical-align: middle;\n",
              "    }\n",
              "\n",
              "    .dataframe tbody tr th {\n",
              "        vertical-align: top;\n",
              "    }\n",
              "\n",
              "    .dataframe thead th {\n",
              "        text-align: right;\n",
              "    }\n",
              "</style>\n",
              "<table border=\"1\" class=\"dataframe\">\n",
              "  <thead>\n",
              "    <tr style=\"text-align: right;\">\n",
              "      <th></th>\n",
              "      <th>Variable Definitions</th>\n",
              "      <th>Unnamed: 1</th>\n",
              "    </tr>\n",
              "  </thead>\n",
              "  <tbody>\n",
              "    <tr>\n",
              "      <th>0</th>\n",
              "      <td>country</td>\n",
              "      <td>Country interviewee is in.</td>\n",
              "    </tr>\n",
              "    <tr>\n",
              "      <th>1</th>\n",
              "      <td>year</td>\n",
              "      <td>Year survey was done in.</td>\n",
              "    </tr>\n",
              "    <tr>\n",
              "      <th>2</th>\n",
              "      <td>uniqueid</td>\n",
              "      <td>Unique identifier for each interviewee</td>\n",
              "    </tr>\n",
              "    <tr>\n",
              "      <th>3</th>\n",
              "      <td>location_type</td>\n",
              "      <td>Type of location: Rural, Urban</td>\n",
              "    </tr>\n",
              "    <tr>\n",
              "      <th>4</th>\n",
              "      <td>cellphone_access</td>\n",
              "      <td>If interviewee has access to a cellphone: Yes, No</td>\n",
              "    </tr>\n",
              "    <tr>\n",
              "      <th>5</th>\n",
              "      <td>household_size</td>\n",
              "      <td>Number of people living in one house</td>\n",
              "    </tr>\n",
              "    <tr>\n",
              "      <th>6</th>\n",
              "      <td>age_of_respondent</td>\n",
              "      <td>The age of the interviewee</td>\n",
              "    </tr>\n",
              "    <tr>\n",
              "      <th>7</th>\n",
              "      <td>gender_of_respondent</td>\n",
              "      <td>Gender of interviewee: Male, Female</td>\n",
              "    </tr>\n",
              "    <tr>\n",
              "      <th>8</th>\n",
              "      <td>relationship_with_head</td>\n",
              "      <td>The interviewee’s relationship with the head o...</td>\n",
              "    </tr>\n",
              "    <tr>\n",
              "      <th>9</th>\n",
              "      <td>marital_status</td>\n",
              "      <td>The martial status of the interviewee: Married...</td>\n",
              "    </tr>\n",
              "    <tr>\n",
              "      <th>10</th>\n",
              "      <td>education_level</td>\n",
              "      <td>Highest level of education: No formal educatio...</td>\n",
              "    </tr>\n",
              "    <tr>\n",
              "      <th>11</th>\n",
              "      <td>job_type</td>\n",
              "      <td>Type of job interviewee has: Farming and Fishi...</td>\n",
              "    </tr>\n",
              "  </tbody>\n",
              "</table>\n",
              "</div>"
            ],
            "text/plain": [
              "      Variable Definitions                                         Unnamed: 1\n",
              "0                  country                         Country interviewee is in.\n",
              "1                     year                           Year survey was done in.\n",
              "2                 uniqueid             Unique identifier for each interviewee\n",
              "3            location_type                     Type of location: Rural, Urban\n",
              "4         cellphone_access  If interviewee has access to a cellphone: Yes, No\n",
              "5           household_size               Number of people living in one house\n",
              "6        age_of_respondent                         The age of the interviewee\n",
              "7     gender_of_respondent                Gender of interviewee: Male, Female\n",
              "8   relationship_with_head  The interviewee’s relationship with the head o...\n",
              "9           marital_status  The martial status of the interviewee: Married...\n",
              "10         education_level  Highest level of education: No formal educatio...\n",
              "11                job_type  Type of job interviewee has: Farming and Fishi..."
            ]
          },
          "metadata": {
            "tags": []
          },
          "execution_count": 2
        }
      ]
    },
    {
      "cell_type": "code",
      "metadata": {
        "id": "XJn2KjW-WMlG"
      },
      "source": [
        "# Loading the Data from the source i.e. csv\n",
        "# ---\n",
        "# Dataset url = http://bit.ly/FinancialDataset\n",
        "# ---\n",
        "#\n",
        "# Loading the first dataset as sat_2017_df\n",
        "financial_dataset = pd.read_csv(\"http://bit.ly/FinancialDataset\")\n"
      ],
      "execution_count": 3,
      "outputs": []
    },
    {
      "cell_type": "markdown",
      "metadata": {
        "id": "OI3P3YnHUEBk"
      },
      "source": [
        "## 3. Checking the Data"
      ]
    },
    {
      "cell_type": "code",
      "metadata": {
        "id": "YjSVNwgptHxY",
        "colab": {
          "base_uri": "https://localhost:8080/"
        },
        "outputId": "e1edfd9b-22c3-4eb2-9414-cbcac6212385"
      },
      "source": [
        "# Determining the no. of records in the dataset\n",
        "\n",
        "financial_dataset.shape"
      ],
      "execution_count": 4,
      "outputs": [
        {
          "output_type": "execute_result",
          "data": {
            "text/plain": [
              "(23524, 13)"
            ]
          },
          "metadata": {
            "tags": []
          },
          "execution_count": 4
        }
      ]
    },
    {
      "cell_type": "code",
      "metadata": {
        "id": "xHhTw5eKWr0n",
        "colab": {
          "base_uri": "https://localhost:8080/",
          "height": 216
        },
        "outputId": "8e2e5c1d-15bd-4e19-cc63-3c7d00db7231"
      },
      "source": [
        "# Previewing the top of the dataset\n",
        "financial_dataset.head(2)"
      ],
      "execution_count": 5,
      "outputs": [
        {
          "output_type": "execute_result",
          "data": {
            "text/html": [
              "<div>\n",
              "<style scoped>\n",
              "    .dataframe tbody tr th:only-of-type {\n",
              "        vertical-align: middle;\n",
              "    }\n",
              "\n",
              "    .dataframe tbody tr th {\n",
              "        vertical-align: top;\n",
              "    }\n",
              "\n",
              "    .dataframe thead th {\n",
              "        text-align: right;\n",
              "    }\n",
              "</style>\n",
              "<table border=\"1\" class=\"dataframe\">\n",
              "  <thead>\n",
              "    <tr style=\"text-align: right;\">\n",
              "      <th></th>\n",
              "      <th>country</th>\n",
              "      <th>year</th>\n",
              "      <th>uniqueid</th>\n",
              "      <th>Has a Bank account</th>\n",
              "      <th>Type of Location</th>\n",
              "      <th>Cell Phone Access</th>\n",
              "      <th>household_size</th>\n",
              "      <th>Respondent Age</th>\n",
              "      <th>gender_of_respondent</th>\n",
              "      <th>The relathip with head</th>\n",
              "      <th>marital_status</th>\n",
              "      <th>Level of Educuation</th>\n",
              "      <th>Type of Job</th>\n",
              "    </tr>\n",
              "  </thead>\n",
              "  <tbody>\n",
              "    <tr>\n",
              "      <th>0</th>\n",
              "      <td>Kenya</td>\n",
              "      <td>2018</td>\n",
              "      <td>uniqueid_1</td>\n",
              "      <td>Yes</td>\n",
              "      <td>Rural</td>\n",
              "      <td>Yes</td>\n",
              "      <td>3.0</td>\n",
              "      <td>24.0</td>\n",
              "      <td>Female</td>\n",
              "      <td>Spouse</td>\n",
              "      <td>Married/Living together</td>\n",
              "      <td>Secondary education</td>\n",
              "      <td>Self employed</td>\n",
              "    </tr>\n",
              "    <tr>\n",
              "      <th>1</th>\n",
              "      <td>Kenya</td>\n",
              "      <td>2018</td>\n",
              "      <td>uniqueid_2</td>\n",
              "      <td>No</td>\n",
              "      <td>Rural</td>\n",
              "      <td>No</td>\n",
              "      <td>5.0</td>\n",
              "      <td>70.0</td>\n",
              "      <td>Female</td>\n",
              "      <td>Head of Household</td>\n",
              "      <td>Widowed</td>\n",
              "      <td>No formal education</td>\n",
              "      <td>Government Dependent</td>\n",
              "    </tr>\n",
              "  </tbody>\n",
              "</table>\n",
              "</div>"
            ],
            "text/plain": [
              "  country  year  ...  Level of Educuation           Type of Job\n",
              "0   Kenya  2018  ...  Secondary education         Self employed\n",
              "1   Kenya  2018  ...  No formal education  Government Dependent\n",
              "\n",
              "[2 rows x 13 columns]"
            ]
          },
          "metadata": {
            "tags": []
          },
          "execution_count": 5
        }
      ]
    },
    {
      "cell_type": "code",
      "metadata": {
        "colab": {
          "base_uri": "https://localhost:8080/",
          "height": 216
        },
        "id": "ubHTW9-j-ZN2",
        "outputId": "34425e86-e6cf-443d-bfb7-4534ecdaa2a6"
      },
      "source": [
        "# Previewing the bottom of the dataset\n",
        "financial_dataset.tail(2)"
      ],
      "execution_count": 6,
      "outputs": [
        {
          "output_type": "execute_result",
          "data": {
            "text/html": [
              "<div>\n",
              "<style scoped>\n",
              "    .dataframe tbody tr th:only-of-type {\n",
              "        vertical-align: middle;\n",
              "    }\n",
              "\n",
              "    .dataframe tbody tr th {\n",
              "        vertical-align: top;\n",
              "    }\n",
              "\n",
              "    .dataframe thead th {\n",
              "        text-align: right;\n",
              "    }\n",
              "</style>\n",
              "<table border=\"1\" class=\"dataframe\">\n",
              "  <thead>\n",
              "    <tr style=\"text-align: right;\">\n",
              "      <th></th>\n",
              "      <th>country</th>\n",
              "      <th>year</th>\n",
              "      <th>uniqueid</th>\n",
              "      <th>Has a Bank account</th>\n",
              "      <th>Type of Location</th>\n",
              "      <th>Cell Phone Access</th>\n",
              "      <th>household_size</th>\n",
              "      <th>Respondent Age</th>\n",
              "      <th>gender_of_respondent</th>\n",
              "      <th>The relathip with head</th>\n",
              "      <th>marital_status</th>\n",
              "      <th>Level of Educuation</th>\n",
              "      <th>Type of Job</th>\n",
              "    </tr>\n",
              "  </thead>\n",
              "  <tbody>\n",
              "    <tr>\n",
              "      <th>23522</th>\n",
              "      <td>Uganda</td>\n",
              "      <td>2018</td>\n",
              "      <td>uniqueid_2116</td>\n",
              "      <td>No</td>\n",
              "      <td>Urban</td>\n",
              "      <td>Yes</td>\n",
              "      <td>7.0</td>\n",
              "      <td>30.0</td>\n",
              "      <td>Female</td>\n",
              "      <td>Parent</td>\n",
              "      <td>Divorced/Seperated</td>\n",
              "      <td>Secondary education</td>\n",
              "      <td>Self employed</td>\n",
              "    </tr>\n",
              "    <tr>\n",
              "      <th>23523</th>\n",
              "      <td>Uganda</td>\n",
              "      <td>2018</td>\n",
              "      <td>uniqueid_2117</td>\n",
              "      <td>No</td>\n",
              "      <td>Rural</td>\n",
              "      <td>Yes</td>\n",
              "      <td>10.0</td>\n",
              "      <td>20.0</td>\n",
              "      <td>Male</td>\n",
              "      <td>Child</td>\n",
              "      <td>Single/Never Married</td>\n",
              "      <td>Secondary education</td>\n",
              "      <td>No Income</td>\n",
              "    </tr>\n",
              "  </tbody>\n",
              "</table>\n",
              "</div>"
            ],
            "text/plain": [
              "      country  year  ...  Level of Educuation    Type of Job\n",
              "23522  Uganda  2018  ...  Secondary education  Self employed\n",
              "23523  Uganda  2018  ...  Secondary education      No Income\n",
              "\n",
              "[2 rows x 13 columns]"
            ]
          },
          "metadata": {
            "tags": []
          },
          "execution_count": 6
        }
      ]
    },
    {
      "cell_type": "code",
      "metadata": {
        "id": "n8-dW4sQWzbc",
        "colab": {
          "base_uri": "https://localhost:8080/"
        },
        "outputId": "c845c3ce-26fe-4625-f69a-5f4339c781f6"
      },
      "source": [
        "# Checking whether each column has an appropriate datatypes\n",
        "financial_dataset.dtypes"
      ],
      "execution_count": 7,
      "outputs": [
        {
          "output_type": "execute_result",
          "data": {
            "text/plain": [
              "country                    object\n",
              "year                        int64\n",
              "uniqueid                   object\n",
              "Has a Bank account         object\n",
              "Type of Location           object\n",
              "Cell Phone Access          object\n",
              "household_size            float64\n",
              "Respondent Age            float64\n",
              "gender_of_respondent       object\n",
              "The relathip with head     object\n",
              "marital_status             object\n",
              "Level of Educuation        object\n",
              "Type of Job                object\n",
              "dtype: object"
            ]
          },
          "metadata": {
            "tags": []
          },
          "execution_count": 7
        }
      ]
    },
    {
      "cell_type": "markdown",
      "metadata": {
        "id": "ckfufNrcUHeH"
      },
      "source": [
        "## 4. External Data Source Validation"
      ]
    },
    {
      "cell_type": "markdown",
      "metadata": {
        "id": "6L4sl_0WXlbg"
      },
      "source": [
        "Making sure your data matches something outside of the dataset is very important. It allows you to ensure that the measurements are roughly in line with what they should be and it serves as a check on what other things might be wrong in your dataset. External validation can often be as simple as checking your data against a single number, as we will do here.\n",
        "\n",
        "An example would be suppose that you're working with a dataset on the population of countries during the year 2016. Validating such information with an external reliable resource such as World Bank Data would be important step to providing credibility to your dataset. Have a look at the following link for an example. [Link](https://rstudio-pubs-static.s3.amazonaws.com/182250_19977d0c5c06403fbad1e653850fc7c6.html)."
      ]
    },
    {
      "cell_type": "markdown",
      "metadata": {
        "id": "6XC_g-zKxe-r"
      },
      "source": [
        "### a.Validation"
      ]
    },
    {
      "cell_type": "markdown",
      "metadata": {
        "id": "FlBMxEDBUc9B"
      },
      "source": [
        "## 5. Tidying the Dataset"
      ]
    },
    {
      "cell_type": "code",
      "metadata": {
        "colab": {
          "base_uri": "https://localhost:8080/",
          "height": 297
        },
        "id": "VpmPTB-zlsir",
        "outputId": "9f6d93e3-3ad3-4713-f7ae-27eca2e361e0"
      },
      "source": [
        "# Identify outliers by first looking at the descriptive analysis\n",
        "# \n",
        "financial_dataset.describe()"
      ],
      "execution_count": 8,
      "outputs": [
        {
          "output_type": "execute_result",
          "data": {
            "text/html": [
              "<div>\n",
              "<style scoped>\n",
              "    .dataframe tbody tr th:only-of-type {\n",
              "        vertical-align: middle;\n",
              "    }\n",
              "\n",
              "    .dataframe tbody tr th {\n",
              "        vertical-align: top;\n",
              "    }\n",
              "\n",
              "    .dataframe thead th {\n",
              "        text-align: right;\n",
              "    }\n",
              "</style>\n",
              "<table border=\"1\" class=\"dataframe\">\n",
              "  <thead>\n",
              "    <tr style=\"text-align: right;\">\n",
              "      <th></th>\n",
              "      <th>year</th>\n",
              "      <th>household_size</th>\n",
              "      <th>Respondent Age</th>\n",
              "    </tr>\n",
              "  </thead>\n",
              "  <tbody>\n",
              "    <tr>\n",
              "      <th>count</th>\n",
              "      <td>23524.000000</td>\n",
              "      <td>23496.000000</td>\n",
              "      <td>23490.000000</td>\n",
              "    </tr>\n",
              "    <tr>\n",
              "      <th>mean</th>\n",
              "      <td>2016.979000</td>\n",
              "      <td>3.681818</td>\n",
              "      <td>38.804300</td>\n",
              "    </tr>\n",
              "    <tr>\n",
              "      <th>std</th>\n",
              "      <td>0.899669</td>\n",
              "      <td>2.279933</td>\n",
              "      <td>16.519996</td>\n",
              "    </tr>\n",
              "    <tr>\n",
              "      <th>min</th>\n",
              "      <td>2016.000000</td>\n",
              "      <td>0.000000</td>\n",
              "      <td>16.000000</td>\n",
              "    </tr>\n",
              "    <tr>\n",
              "      <th>25%</th>\n",
              "      <td>2016.000000</td>\n",
              "      <td>2.000000</td>\n",
              "      <td>26.000000</td>\n",
              "    </tr>\n",
              "    <tr>\n",
              "      <th>50%</th>\n",
              "      <td>2017.000000</td>\n",
              "      <td>3.000000</td>\n",
              "      <td>35.000000</td>\n",
              "    </tr>\n",
              "    <tr>\n",
              "      <th>75%</th>\n",
              "      <td>2018.000000</td>\n",
              "      <td>5.000000</td>\n",
              "      <td>49.000000</td>\n",
              "    </tr>\n",
              "    <tr>\n",
              "      <th>max</th>\n",
              "      <td>2056.000000</td>\n",
              "      <td>21.000000</td>\n",
              "      <td>100.000000</td>\n",
              "    </tr>\n",
              "  </tbody>\n",
              "</table>\n",
              "</div>"
            ],
            "text/plain": [
              "               year  household_size  Respondent Age\n",
              "count  23524.000000    23496.000000    23490.000000\n",
              "mean    2016.979000        3.681818       38.804300\n",
              "std        0.899669        2.279933       16.519996\n",
              "min     2016.000000        0.000000       16.000000\n",
              "25%     2016.000000        2.000000       26.000000\n",
              "50%     2017.000000        3.000000       35.000000\n",
              "75%     2018.000000        5.000000       49.000000\n",
              "max     2056.000000       21.000000      100.000000"
            ]
          },
          "metadata": {
            "tags": []
          },
          "execution_count": 8
        }
      ]
    },
    {
      "cell_type": "code",
      "metadata": {
        "colab": {
          "base_uri": "https://localhost:8080/",
          "height": 279
        },
        "id": "Ol0jt-YwVE1K",
        "outputId": "ce40e841-a4b9-44be-9936-070250b1c8e4"
      },
      "source": [
        "# Checking for Outliers in the dataset\n",
        "\n",
        "# year\n",
        "sns.boxplot(x=financial_dataset['year']);\n"
      ],
      "execution_count": 9,
      "outputs": [
        {
          "output_type": "display_data",
          "data": {
            "image/png": "[encoded data removed]",
            "text/plain": [
              "<Figure size 432x288 with 1 Axes>"
            ]
          },
          "metadata": {
            "tags": [],
            "needs_background": "light"
          }
        }
      ]
    },
    {
      "cell_type": "code",
      "metadata": {
        "colab": {
          "base_uri": "https://localhost:8080/",
          "height": 280
        },
        "id": "hG7zHpDvl79K",
        "outputId": "d426621b-2789-4809-9bea-fde24d275e30"
      },
      "source": [
        "# Checking for outliers in the dataset\n",
        "# household\n",
        "sns.boxplot(x=financial_dataset['household_size']);\n"
      ],
      "execution_count": 10,
      "outputs": [
        {
          "output_type": "display_data",
          "data": {
            "image/png": "[encoded data removed]",
            "text/plain": [
              "<Figure size 432x288 with 1 Axes>"
            ]
          },
          "metadata": {
            "tags": [],
            "needs_background": "light"
          }
        }
      ]
    },
    {
      "cell_type": "code",
      "metadata": {
        "colab": {
          "base_uri": "https://localhost:8080/",
          "height": 279
        },
        "id": "6GUfInC9mUUY",
        "outputId": "ff698440-3a1c-40bf-a03f-28546ffb9abc"
      },
      "source": [
        "# Checking for outliers in the dataset\n",
        "# respondent age\n",
        "sns.boxplot(x=financial_dataset['Respondent Age']);"
      ],
      "execution_count": 11,
      "outputs": [
        {
          "output_type": "display_data",
          "data": {
            "image/png": "[encoded data removed]",
            "text/plain": [
              "<Figure size 432x288 with 1 Axes>"
            ]
          },
          "metadata": {
            "tags": [],
            "needs_background": "light"
          }
        }
      ]
    },
    {
      "cell_type": "code",
      "metadata": {
        "id": "PWlukLKUvFQN"
      },
      "source": [
        "# Checking for Anomalies\n",
        "#"
      ],
      "execution_count": 12,
      "outputs": []
    },
    {
      "cell_type": "code",
      "metadata": {
        "colab": {
          "base_uri": "https://localhost:8080/"
        },
        "id": "uKMQoakevaSX",
        "outputId": "959fc61c-f99f-472f-e1e0-66e18ee2a8f0"
      },
      "source": [
        "# Establishing the outlier years in the year column\n",
        "for items in financial_dataset['year']:\n",
        "  if items > 2018:\n",
        "    print(items)\n"
      ],
      "execution_count": 13,
      "outputs": [
        {
          "output_type": "stream",
          "text": [
            "2029\n",
            "2056\n",
            "2039\n"
          ],
          "name": "stdout"
        }
      ]
    },
    {
      "cell_type": "code",
      "metadata": {
        "colab": {
          "base_uri": "https://localhost:8080/"
        },
        "id": "2wi8M2ZUoBUO",
        "outputId": "fb32c84c-b7e5-4a94-c7c7-51166387c544"
      },
      "source": [
        "financial_dataset.shape"
      ],
      "execution_count": 14,
      "outputs": [
        {
          "output_type": "execute_result",
          "data": {
            "text/plain": [
              "(23524, 13)"
            ]
          },
          "metadata": {
            "tags": []
          },
          "execution_count": 14
        }
      ]
    },
    {
      "cell_type": "code",
      "metadata": {
        "colab": {
          "base_uri": "https://localhost:8080/"
        },
        "id": "cjNX3CIQFY4s",
        "outputId": "b85edb9d-0b87-46f9-a4e9-b8f94c1627cf"
      },
      "source": [
        "# Dropping the outliers\n",
        "outliers_year = financial_dataset[financial_dataset['year'] > 2018].index\n",
        "financial_dataset_1= financial_dataset.drop(outliers_year, inplace=True)\n",
        "financial_dataset.shape"
      ],
      "execution_count": 15,
      "outputs": [
        {
          "output_type": "execute_result",
          "data": {
            "text/plain": [
              "(23521, 13)"
            ]
          },
          "metadata": {
            "tags": []
          },
          "execution_count": 15
        }
      ]
    },
    {
      "cell_type": "code",
      "metadata": {
        "colab": {
          "base_uri": "https://localhost:8080/"
        },
        "id": "MlbMVWPPpWYI",
        "outputId": "44b4769c-14b7-4318-d12f-7a1bda52e773"
      },
      "source": [
        "# Dropping the outliers in the household_size column\n",
        "outliers_household_size = financial_dataset[financial_dataset['household_size'] > 8].index\n",
        "financial_dataset.drop(outliers_household_size, inplace=True)\n",
        "financial_dataset.shape"
      ],
      "execution_count": 16,
      "outputs": [
        {
          "output_type": "execute_result",
          "data": {
            "text/plain": [
              "(22788, 13)"
            ]
          },
          "metadata": {
            "tags": []
          },
          "execution_count": 16
        }
      ]
    },
    {
      "cell_type": "code",
      "metadata": {
        "colab": {
          "base_uri": "https://localhost:8080/"
        },
        "id": "45jsjR1AqlpO",
        "outputId": "0a371a69-9007-42cc-c439-23cac570699d"
      },
      "source": [
        "# Dropping the outliers in the respondent_age column\n",
        "outliers_respondent_age = financial_dataset[financial_dataset['Respondent Age'] > 80].index\n",
        "financial_dataset.drop(outliers_respondent_age, inplace=True)\n",
        "financial_dataset.shape"
      ],
      "execution_count": 17,
      "outputs": [
        {
          "output_type": "execute_result",
          "data": {
            "text/plain": [
              "(22451, 13)"
            ]
          },
          "metadata": {
            "tags": []
          },
          "execution_count": 17
        }
      ]
    },
    {
      "cell_type": "code",
      "metadata": {
        "id": "PvCYb6dgW4yh",
        "colab": {
          "base_uri": "https://localhost:8080/"
        },
        "outputId": "de44e24b-b944-4c39-eaef-72d4d5c7da9d"
      },
      "source": [
        "# Identifying the Missing Data in SAT 2017 Dataset\n",
        "financial_dataset.isnull().sum()"
      ],
      "execution_count": 18,
      "outputs": [
        {
          "output_type": "execute_result",
          "data": {
            "text/plain": [
              "country                   14\n",
              "year                       0\n",
              "uniqueid                   0\n",
              "Has a Bank account        36\n",
              "Type of Location          14\n",
              "Cell Phone Access         10\n",
              "household_size            27\n",
              "Respondent Age            31\n",
              "gender_of_respondent      33\n",
              "The relathip with head     4\n",
              "marital_status            31\n",
              "Level of Educuation       28\n",
              "Type of Job               29\n",
              "dtype: int64"
            ]
          },
          "metadata": {
            "tags": []
          },
          "execution_count": 18
        }
      ]
    },
    {
      "cell_type": "code",
      "metadata": {
        "id": "MpsDGKZHsf_W",
        "colab": {
          "base_uri": "https://localhost:8080/"
        },
        "outputId": "db481275-0fe8-42bc-d07b-d423e82b357d"
      },
      "source": [
        "# Dealing with the Missing Data\n",
        "\n",
        "financial_dataset = financial_dataset.dropna()\n",
        "financial_dataset.shape"
      ],
      "execution_count": 19,
      "outputs": [
        {
          "output_type": "execute_result",
          "data": {
            "text/plain": [
              "(22276, 13)"
            ]
          },
          "metadata": {
            "tags": []
          },
          "execution_count": 19
        }
      ]
    },
    {
      "cell_type": "code",
      "metadata": {
        "colab": {
          "base_uri": "https://localhost:8080/"
        },
        "id": "0a2FIR70bihB",
        "outputId": "86e28889-dfea-4880-8b74-989b4ff98b1b"
      },
      "source": [
        "# Checking for duplicate values\n",
        "financial_dataset.duplicated().sum()"
      ],
      "execution_count": 20,
      "outputs": [
        {
          "output_type": "execute_result",
          "data": {
            "text/plain": [
              "0"
            ]
          },
          "metadata": {
            "tags": []
          },
          "execution_count": 20
        }
      ]
    },
    {
      "cell_type": "code",
      "metadata": {
        "id": "BCQ5VdUTLzpa",
        "colab": {
          "base_uri": "https://localhost:8080/",
          "height": 117
        },
        "outputId": "237eeaac-be9e-459f-e4f2-10fda6828fe0"
      },
      "source": [
        "# Rename the column names to lower case from upper cases \n",
        "# Replace the white spaces between the column names with underscore\n",
        " \n",
        "financial_dataset.columns = financial_dataset.columns.str.lower().str.replace(' ', '_').str.replace('-', '_')\n",
        "financial_dataset.head(1)"
      ],
      "execution_count": 21,
      "outputs": [
        {
          "output_type": "execute_result",
          "data": {
            "text/html": [
              "<div>\n",
              "<style scoped>\n",
              "    .dataframe tbody tr th:only-of-type {\n",
              "        vertical-align: middle;\n",
              "    }\n",
              "\n",
              "    .dataframe tbody tr th {\n",
              "        vertical-align: top;\n",
              "    }\n",
              "\n",
              "    .dataframe thead th {\n",
              "        text-align: right;\n",
              "    }\n",
              "</style>\n",
              "<table border=\"1\" class=\"dataframe\">\n",
              "  <thead>\n",
              "    <tr style=\"text-align: right;\">\n",
              "      <th></th>\n",
              "      <th>country</th>\n",
              "      <th>year</th>\n",
              "      <th>uniqueid</th>\n",
              "      <th>has_a_bank_account</th>\n",
              "      <th>type_of_location</th>\n",
              "      <th>cell_phone_access</th>\n",
              "      <th>household_size</th>\n",
              "      <th>respondent_age</th>\n",
              "      <th>gender_of_respondent</th>\n",
              "      <th>the_relathip_with_head</th>\n",
              "      <th>marital_status</th>\n",
              "      <th>level_of_educuation</th>\n",
              "      <th>type_of_job</th>\n",
              "    </tr>\n",
              "  </thead>\n",
              "  <tbody>\n",
              "    <tr>\n",
              "      <th>0</th>\n",
              "      <td>Kenya</td>\n",
              "      <td>2018</td>\n",
              "      <td>uniqueid_1</td>\n",
              "      <td>Yes</td>\n",
              "      <td>Rural</td>\n",
              "      <td>Yes</td>\n",
              "      <td>3.0</td>\n",
              "      <td>24.0</td>\n",
              "      <td>Female</td>\n",
              "      <td>Spouse</td>\n",
              "      <td>Married/Living together</td>\n",
              "      <td>Secondary education</td>\n",
              "      <td>Self employed</td>\n",
              "    </tr>\n",
              "  </tbody>\n",
              "</table>\n",
              "</div>"
            ],
            "text/plain": [
              "  country  year  ...  level_of_educuation    type_of_job\n",
              "0   Kenya  2018  ...  Secondary education  Self employed\n",
              "\n",
              "[1 rows x 13 columns]"
            ]
          },
          "metadata": {
            "tags": []
          },
          "execution_count": 21
        }
      ]
    },
    {
      "cell_type": "code",
      "metadata": {
        "id": "nR3GxZLZB7A_",
        "colab": {
          "base_uri": "https://localhost:8080/",
          "height": 117
        },
        "outputId": "1b83be88-defd-4a47-9b08-15b8f92d565b"
      },
      "source": [
        "# Rename the columns\n",
        "financial_dataset.rename(columns={'the_relathip_with_head':'the_relationship_with_head'}, inplace = True)\n",
        "financial_dataset.head(1)"
      ],
      "execution_count": 22,
      "outputs": [
        {
          "output_type": "execute_result",
          "data": {
            "text/html": [
              "<div>\n",
              "<style scoped>\n",
              "    .dataframe tbody tr th:only-of-type {\n",
              "        vertical-align: middle;\n",
              "    }\n",
              "\n",
              "    .dataframe tbody tr th {\n",
              "        vertical-align: top;\n",
              "    }\n",
              "\n",
              "    .dataframe thead th {\n",
              "        text-align: right;\n",
              "    }\n",
              "</style>\n",
              "<table border=\"1\" class=\"dataframe\">\n",
              "  <thead>\n",
              "    <tr style=\"text-align: right;\">\n",
              "      <th></th>\n",
              "      <th>country</th>\n",
              "      <th>year</th>\n",
              "      <th>uniqueid</th>\n",
              "      <th>has_a_bank_account</th>\n",
              "      <th>type_of_location</th>\n",
              "      <th>cell_phone_access</th>\n",
              "      <th>household_size</th>\n",
              "      <th>respondent_age</th>\n",
              "      <th>gender_of_respondent</th>\n",
              "      <th>the_relationship_with_head</th>\n",
              "      <th>marital_status</th>\n",
              "      <th>level_of_educuation</th>\n",
              "      <th>type_of_job</th>\n",
              "    </tr>\n",
              "  </thead>\n",
              "  <tbody>\n",
              "    <tr>\n",
              "      <th>0</th>\n",
              "      <td>Kenya</td>\n",
              "      <td>2018</td>\n",
              "      <td>uniqueid_1</td>\n",
              "      <td>Yes</td>\n",
              "      <td>Rural</td>\n",
              "      <td>Yes</td>\n",
              "      <td>3.0</td>\n",
              "      <td>24.0</td>\n",
              "      <td>Female</td>\n",
              "      <td>Spouse</td>\n",
              "      <td>Married/Living together</td>\n",
              "      <td>Secondary education</td>\n",
              "      <td>Self employed</td>\n",
              "    </tr>\n",
              "  </tbody>\n",
              "</table>\n",
              "</div>"
            ],
            "text/plain": [
              "  country  year  ...  level_of_educuation    type_of_job\n",
              "0   Kenya  2018  ...  Secondary education  Self employed\n",
              "\n",
              "[1 rows x 13 columns]"
            ]
          },
          "metadata": {
            "tags": []
          },
          "execution_count": 22
        }
      ]
    },
    {
      "cell_type": "code",
      "metadata": {
        "colab": {
          "base_uri": "https://localhost:8080/",
          "height": 117
        },
        "id": "4o6v7Ayxc9pL",
        "outputId": "1b9b687a-acf6-459d-d859-378856d87834"
      },
      "source": [
        "# Dropping irrelevant columns\n",
        "\n",
        "# financial_dataset.drop(['uniqueid'], axis=1, inplace=True)\n",
        "financial_dataset.head(1)"
      ],
      "execution_count": 23,
      "outputs": [
        {
          "output_type": "execute_result",
          "data": {
            "text/html": [
              "<div>\n",
              "<style scoped>\n",
              "    .dataframe tbody tr th:only-of-type {\n",
              "        vertical-align: middle;\n",
              "    }\n",
              "\n",
              "    .dataframe tbody tr th {\n",
              "        vertical-align: top;\n",
              "    }\n",
              "\n",
              "    .dataframe thead th {\n",
              "        text-align: right;\n",
              "    }\n",
              "</style>\n",
              "<table border=\"1\" class=\"dataframe\">\n",
              "  <thead>\n",
              "    <tr style=\"text-align: right;\">\n",
              "      <th></th>\n",
              "      <th>country</th>\n",
              "      <th>year</th>\n",
              "      <th>uniqueid</th>\n",
              "      <th>has_a_bank_account</th>\n",
              "      <th>type_of_location</th>\n",
              "      <th>cell_phone_access</th>\n",
              "      <th>household_size</th>\n",
              "      <th>respondent_age</th>\n",
              "      <th>gender_of_respondent</th>\n",
              "      <th>the_relationship_with_head</th>\n",
              "      <th>marital_status</th>\n",
              "      <th>level_of_educuation</th>\n",
              "      <th>type_of_job</th>\n",
              "    </tr>\n",
              "  </thead>\n",
              "  <tbody>\n",
              "    <tr>\n",
              "      <th>0</th>\n",
              "      <td>Kenya</td>\n",
              "      <td>2018</td>\n",
              "      <td>uniqueid_1</td>\n",
              "      <td>Yes</td>\n",
              "      <td>Rural</td>\n",
              "      <td>Yes</td>\n",
              "      <td>3.0</td>\n",
              "      <td>24.0</td>\n",
              "      <td>Female</td>\n",
              "      <td>Spouse</td>\n",
              "      <td>Married/Living together</td>\n",
              "      <td>Secondary education</td>\n",
              "      <td>Self employed</td>\n",
              "    </tr>\n",
              "  </tbody>\n",
              "</table>\n",
              "</div>"
            ],
            "text/plain": [
              "  country  year  ...  level_of_educuation    type_of_job\n",
              "0   Kenya  2018  ...  Secondary education  Self employed\n",
              "\n",
              "[1 rows x 13 columns]"
            ]
          },
          "metadata": {
            "tags": []
          },
          "execution_count": 23
        }
      ]
    },
    {
      "cell_type": "code",
      "metadata": {
        "colab": {
          "base_uri": "https://localhost:8080/",
          "height": 117
        },
        "id": "n__5ATQKV5Vs",
        "outputId": "21f52e7c-932e-4cfa-a6ee-112d5846c8e9"
      },
      "source": [
        "# Converting the respondent age and household size data type from float to integer\n",
        "financial_dataset[['respondent_age', 'household_size']] = financial_dataset[['respondent_age', 'household_size']].astype(int)\n",
        "financial_dataset.head(1)"
      ],
      "execution_count": 24,
      "outputs": [
        {
          "output_type": "execute_result",
          "data": {
            "text/html": [
              "<div>\n",
              "<style scoped>\n",
              "    .dataframe tbody tr th:only-of-type {\n",
              "        vertical-align: middle;\n",
              "    }\n",
              "\n",
              "    .dataframe tbody tr th {\n",
              "        vertical-align: top;\n",
              "    }\n",
              "\n",
              "    .dataframe thead th {\n",
              "        text-align: right;\n",
              "    }\n",
              "</style>\n",
              "<table border=\"1\" class=\"dataframe\">\n",
              "  <thead>\n",
              "    <tr style=\"text-align: right;\">\n",
              "      <th></th>\n",
              "      <th>country</th>\n",
              "      <th>year</th>\n",
              "      <th>uniqueid</th>\n",
              "      <th>has_a_bank_account</th>\n",
              "      <th>type_of_location</th>\n",
              "      <th>cell_phone_access</th>\n",
              "      <th>household_size</th>\n",
              "      <th>respondent_age</th>\n",
              "      <th>gender_of_respondent</th>\n",
              "      <th>the_relationship_with_head</th>\n",
              "      <th>marital_status</th>\n",
              "      <th>level_of_educuation</th>\n",
              "      <th>type_of_job</th>\n",
              "    </tr>\n",
              "  </thead>\n",
              "  <tbody>\n",
              "    <tr>\n",
              "      <th>0</th>\n",
              "      <td>Kenya</td>\n",
              "      <td>2018</td>\n",
              "      <td>uniqueid_1</td>\n",
              "      <td>Yes</td>\n",
              "      <td>Rural</td>\n",
              "      <td>Yes</td>\n",
              "      <td>3</td>\n",
              "      <td>24</td>\n",
              "      <td>Female</td>\n",
              "      <td>Spouse</td>\n",
              "      <td>Married/Living together</td>\n",
              "      <td>Secondary education</td>\n",
              "      <td>Self employed</td>\n",
              "    </tr>\n",
              "  </tbody>\n",
              "</table>\n",
              "</div>"
            ],
            "text/plain": [
              "  country  year  ...  level_of_educuation    type_of_job\n",
              "0   Kenya  2018  ...  Secondary education  Self employed\n",
              "\n",
              "[1 rows x 13 columns]"
            ]
          },
          "metadata": {
            "tags": []
          },
          "execution_count": 24
        }
      ]
    },
    {
      "cell_type": "code",
      "metadata": {
        "colab": {
          "base_uri": "https://localhost:8080/"
        },
        "id": "ry41kyDKVzIH",
        "outputId": "bdcf637f-a623-4d11-d689-84631dc40cfe"
      },
      "source": [
        "financial_dataset.info()"
      ],
      "execution_count": 25,
      "outputs": [
        {
          "output_type": "stream",
          "text": [
            "<class 'pandas.core.frame.DataFrame'>\n",
            "Int64Index: 22276 entries, 0 to 23522\n",
            "Data columns (total 13 columns):\n",
            " #   Column                      Non-Null Count  Dtype \n",
            "---  ------                      --------------  ----- \n",
            " 0   country                     22276 non-null  object\n",
            " 1   year                        22276 non-null  int64 \n",
            " 2   uniqueid                    22276 non-null  object\n",
            " 3   has_a_bank_account          22276 non-null  object\n",
            " 4   type_of_location            22276 non-null  object\n",
            " 5   cell_phone_access           22276 non-null  object\n",
            " 6   household_size              22276 non-null  int64 \n",
            " 7   respondent_age              22276 non-null  int64 \n",
            " 8   gender_of_respondent        22276 non-null  object\n",
            " 9   the_relationship_with_head  22276 non-null  object\n",
            " 10  marital_status              22276 non-null  object\n",
            " 11  level_of_educuation         22276 non-null  object\n",
            " 12  type_of_job                 22276 non-null  object\n",
            "dtypes: int64(3), object(10)\n",
            "memory usage: 2.4+ MB\n"
          ],
          "name": "stdout"
        }
      ]
    },
    {
      "cell_type": "markdown",
      "metadata": {
        "id": "rF2ABPsHUtbZ"
      },
      "source": [
        "## 6. Exploratory Analysis"
      ]
    },
    {
      "cell_type": "code",
      "metadata": {
        "colab": {
          "base_uri": "https://localhost:8080/",
          "height": 439
        },
        "id": "2xQy24GFJ80y",
        "outputId": "25ea67ab-1177-47de-de8e-0bccc5305581"
      },
      "source": [
        "# Finding the mode \n",
        "financial_dataset.mode()"
      ],
      "execution_count": 57,
      "outputs": [
        {
          "output_type": "execute_result",
          "data": {
            "text/html": [
              "<div>\n",
              "<style scoped>\n",
              "    .dataframe tbody tr th:only-of-type {\n",
              "        vertical-align: middle;\n",
              "    }\n",
              "\n",
              "    .dataframe tbody tr th {\n",
              "        vertical-align: top;\n",
              "    }\n",
              "\n",
              "    .dataframe thead th {\n",
              "        text-align: right;\n",
              "    }\n",
              "</style>\n",
              "<table border=\"1\" class=\"dataframe\">\n",
              "  <thead>\n",
              "    <tr style=\"text-align: right;\">\n",
              "      <th></th>\n",
              "      <th>country</th>\n",
              "      <th>year</th>\n",
              "      <th>uniqueid</th>\n",
              "      <th>has_a_bank_account</th>\n",
              "      <th>type_of_location</th>\n",
              "      <th>cell_phone_access</th>\n",
              "      <th>household_size</th>\n",
              "      <th>respondent_age</th>\n",
              "      <th>gender_of_respondent</th>\n",
              "      <th>the_relationship_with_head</th>\n",
              "      <th>marital_status</th>\n",
              "      <th>level_of_educuation</th>\n",
              "      <th>type_of_job</th>\n",
              "    </tr>\n",
              "  </thead>\n",
              "  <tbody>\n",
              "    <tr>\n",
              "      <th>0</th>\n",
              "      <td>1.0</td>\n",
              "      <td>2016.0</td>\n",
              "      <td>uniqueid_1</td>\n",
              "      <td>0.0</td>\n",
              "      <td>0.0</td>\n",
              "      <td>1.0</td>\n",
              "      <td>2.0</td>\n",
              "      <td>30.0</td>\n",
              "      <td>0.0</td>\n",
              "      <td>Head of Household</td>\n",
              "      <td>2.0</td>\n",
              "      <td>3.0</td>\n",
              "      <td>9.0</td>\n",
              "    </tr>\n",
              "    <tr>\n",
              "      <th>1</th>\n",
              "      <td>NaN</td>\n",
              "      <td>NaN</td>\n",
              "      <td>uniqueid_10</td>\n",
              "      <td>NaN</td>\n",
              "      <td>NaN</td>\n",
              "      <td>NaN</td>\n",
              "      <td>NaN</td>\n",
              "      <td>NaN</td>\n",
              "      <td>NaN</td>\n",
              "      <td>NaN</td>\n",
              "      <td>NaN</td>\n",
              "      <td>NaN</td>\n",
              "      <td>NaN</td>\n",
              "    </tr>\n",
              "    <tr>\n",
              "      <th>2</th>\n",
              "      <td>NaN</td>\n",
              "      <td>NaN</td>\n",
              "      <td>uniqueid_100</td>\n",
              "      <td>NaN</td>\n",
              "      <td>NaN</td>\n",
              "      <td>NaN</td>\n",
              "      <td>NaN</td>\n",
              "      <td>NaN</td>\n",
              "      <td>NaN</td>\n",
              "      <td>NaN</td>\n",
              "      <td>NaN</td>\n",
              "      <td>NaN</td>\n",
              "      <td>NaN</td>\n",
              "    </tr>\n",
              "    <tr>\n",
              "      <th>3</th>\n",
              "      <td>NaN</td>\n",
              "      <td>NaN</td>\n",
              "      <td>uniqueid_1000</td>\n",
              "      <td>NaN</td>\n",
              "      <td>NaN</td>\n",
              "      <td>NaN</td>\n",
              "      <td>NaN</td>\n",
              "      <td>NaN</td>\n",
              "      <td>NaN</td>\n",
              "      <td>NaN</td>\n",
              "      <td>NaN</td>\n",
              "      <td>NaN</td>\n",
              "      <td>NaN</td>\n",
              "    </tr>\n",
              "    <tr>\n",
              "      <th>4</th>\n",
              "      <td>NaN</td>\n",
              "      <td>NaN</td>\n",
              "      <td>uniqueid_1002</td>\n",
              "      <td>NaN</td>\n",
              "      <td>NaN</td>\n",
              "      <td>NaN</td>\n",
              "      <td>NaN</td>\n",
              "      <td>NaN</td>\n",
              "      <td>NaN</td>\n",
              "      <td>NaN</td>\n",
              "      <td>NaN</td>\n",
              "      <td>NaN</td>\n",
              "      <td>NaN</td>\n",
              "    </tr>\n",
              "    <tr>\n",
              "      <th>...</th>\n",
              "      <td>...</td>\n",
              "      <td>...</td>\n",
              "      <td>...</td>\n",
              "      <td>...</td>\n",
              "      <td>...</td>\n",
              "      <td>...</td>\n",
              "      <td>...</td>\n",
              "      <td>...</td>\n",
              "      <td>...</td>\n",
              "      <td>...</td>\n",
              "      <td>...</td>\n",
              "      <td>...</td>\n",
              "      <td>...</td>\n",
              "    </tr>\n",
              "    <tr>\n",
              "      <th>1621</th>\n",
              "      <td>NaN</td>\n",
              "      <td>NaN</td>\n",
              "      <td>uniqueid_993</td>\n",
              "      <td>NaN</td>\n",
              "      <td>NaN</td>\n",
              "      <td>NaN</td>\n",
              "      <td>NaN</td>\n",
              "      <td>NaN</td>\n",
              "      <td>NaN</td>\n",
              "      <td>NaN</td>\n",
              "      <td>NaN</td>\n",
              "      <td>NaN</td>\n",
              "      <td>NaN</td>\n",
              "    </tr>\n",
              "    <tr>\n",
              "      <th>1622</th>\n",
              "      <td>NaN</td>\n",
              "      <td>NaN</td>\n",
              "      <td>uniqueid_994</td>\n",
              "      <td>NaN</td>\n",
              "      <td>NaN</td>\n",
              "      <td>NaN</td>\n",
              "      <td>NaN</td>\n",
              "      <td>NaN</td>\n",
              "      <td>NaN</td>\n",
              "      <td>NaN</td>\n",
              "      <td>NaN</td>\n",
              "      <td>NaN</td>\n",
              "      <td>NaN</td>\n",
              "    </tr>\n",
              "    <tr>\n",
              "      <th>1623</th>\n",
              "      <td>NaN</td>\n",
              "      <td>NaN</td>\n",
              "      <td>uniqueid_995</td>\n",
              "      <td>NaN</td>\n",
              "      <td>NaN</td>\n",
              "      <td>NaN</td>\n",
              "      <td>NaN</td>\n",
              "      <td>NaN</td>\n",
              "      <td>NaN</td>\n",
              "      <td>NaN</td>\n",
              "      <td>NaN</td>\n",
              "      <td>NaN</td>\n",
              "      <td>NaN</td>\n",
              "    </tr>\n",
              "    <tr>\n",
              "      <th>1624</th>\n",
              "      <td>NaN</td>\n",
              "      <td>NaN</td>\n",
              "      <td>uniqueid_996</td>\n",
              "      <td>NaN</td>\n",
              "      <td>NaN</td>\n",
              "      <td>NaN</td>\n",
              "      <td>NaN</td>\n",
              "      <td>NaN</td>\n",
              "      <td>NaN</td>\n",
              "      <td>NaN</td>\n",
              "      <td>NaN</td>\n",
              "      <td>NaN</td>\n",
              "      <td>NaN</td>\n",
              "    </tr>\n",
              "    <tr>\n",
              "      <th>1625</th>\n",
              "      <td>NaN</td>\n",
              "      <td>NaN</td>\n",
              "      <td>uniqueid_999</td>\n",
              "      <td>NaN</td>\n",
              "      <td>NaN</td>\n",
              "      <td>NaN</td>\n",
              "      <td>NaN</td>\n",
              "      <td>NaN</td>\n",
              "      <td>NaN</td>\n",
              "      <td>NaN</td>\n",
              "      <td>NaN</td>\n",
              "      <td>NaN</td>\n",
              "      <td>NaN</td>\n",
              "    </tr>\n",
              "  </tbody>\n",
              "</table>\n",
              "<p>1626 rows × 13 columns</p>\n",
              "</div>"
            ],
            "text/plain": [
              "      country    year  ... level_of_educuation  type_of_job\n",
              "0         1.0  2016.0  ...                 3.0          9.0\n",
              "1         NaN     NaN  ...                 NaN          NaN\n",
              "2         NaN     NaN  ...                 NaN          NaN\n",
              "3         NaN     NaN  ...                 NaN          NaN\n",
              "4         NaN     NaN  ...                 NaN          NaN\n",
              "...       ...     ...  ...                 ...          ...\n",
              "1621      NaN     NaN  ...                 NaN          NaN\n",
              "1622      NaN     NaN  ...                 NaN          NaN\n",
              "1623      NaN     NaN  ...                 NaN          NaN\n",
              "1624      NaN     NaN  ...                 NaN          NaN\n",
              "1625      NaN     NaN  ...                 NaN          NaN\n",
              "\n",
              "[1626 rows x 13 columns]"
            ]
          },
          "metadata": {
            "tags": []
          },
          "execution_count": 57
        }
      ]
    },
    {
      "cell_type": "markdown",
      "metadata": {
        "id": "g2JQawepNSt_"
      },
      "source": [
        "The country with the highest number of repondents is Rwanda, with a majority living in the rural with a cell phone access but not having a bank account. Most of them were self employed 30 year old females who were married or living together and had their highest level of education as primary education."
      ]
    },
    {
      "cell_type": "code",
      "metadata": {
        "colab": {
          "base_uri": "https://localhost:8080/"
        },
        "id": "EtrGbZ3CLpPN",
        "outputId": "4fb6b151-69bc-42f6-d6d6-ade7ed0d3324"
      },
      "source": [
        "# Mean\n",
        "print(\"The mean for the household size and respondent age respectively are: \")\n",
        "financial_dataset[['household_size', 'respondent_age']].mean().round(2)"
      ],
      "execution_count": 27,
      "outputs": [
        {
          "output_type": "stream",
          "text": [
            "The mean for the household size and respondent age respectively are: \n"
          ],
          "name": "stdout"
        },
        {
          "output_type": "execute_result",
          "data": {
            "text/plain": [
              "household_size     3.50\n",
              "respondent_age    38.18\n",
              "dtype: float64"
            ]
          },
          "metadata": {
            "tags": []
          },
          "execution_count": 27
        }
      ]
    },
    {
      "cell_type": "markdown",
      "metadata": {
        "id": "tvtxOerUPfr-"
      },
      "source": [
        "The average age for the respondents was 38 years while the average household size was 4."
      ]
    },
    {
      "cell_type": "code",
      "metadata": {
        "colab": {
          "base_uri": "https://localhost:8080/"
        },
        "id": "dKFdDYkrPFPQ",
        "outputId": "d87beec7-8b50-45ea-c547-2487089acfeb"
      },
      "source": [
        "# Variance\n",
        "financial_dataset.var()"
      ],
      "execution_count": 28,
      "outputs": [
        {
          "output_type": "execute_result",
          "data": {
            "text/plain": [
              "year                0.712000\n",
              "household_size      3.927587\n",
              "respondent_age    243.362122\n",
              "dtype: float64"
            ]
          },
          "metadata": {
            "tags": []
          },
          "execution_count": 28
        }
      ]
    },
    {
      "cell_type": "markdown",
      "metadata": {
        "id": "bII6nZuwP7BB"
      },
      "source": [
        "It was noted that the data points for the household size were spread out within the mean value of 4 unlike the respondent age was widely spread out from the average age with a variance of 243.36."
      ]
    },
    {
      "cell_type": "code",
      "metadata": {
        "colab": {
          "base_uri": "https://localhost:8080/"
        },
        "id": "pvzdjzVNQ-LK",
        "outputId": "a7048761-0781-471a-9e5d-a22e434cabbb"
      },
      "source": [
        "# Standard deviation\n",
        "print(\"The standard deviation for the household size and respondent age are:\")\n",
        "financial_dataset.std()"
      ],
      "execution_count": 29,
      "outputs": [
        {
          "output_type": "stream",
          "text": [
            "The standard deviation for the household size and respondent age are:\n"
          ],
          "name": "stdout"
        },
        {
          "output_type": "execute_result",
          "data": {
            "text/plain": [
              "year               0.843801\n",
              "household_size     1.981814\n",
              "respondent_age    15.600068\n",
              "dtype: float64"
            ]
          },
          "metadata": {
            "tags": []
          },
          "execution_count": 29
        }
      ]
    },
    {
      "cell_type": "markdown",
      "metadata": {
        "id": "BJlBln-ERlop"
      },
      "source": [
        "The household size differs from the groups mean by 1.98 while the respondent age differs from the average mean by 15.6. This means that most of the respondents ages are spread out far from the average age of 38 years"
      ]
    },
    {
      "cell_type": "code",
      "metadata": {
        "colab": {
          "base_uri": "https://localhost:8080/"
        },
        "id": "dQ6VQljiTYAg",
        "outputId": "3796bafe-f8af-45d5-c95c-28d59b19d083"
      },
      "source": [
        "# Range\n",
        "maximum_age = financial_dataset['respondent_age'].max()\n",
        "maximum_age\n",
        "print(f\"The oldest respondent was {maximum_age} years old\")\n",
        "\n",
        "minimum_age = financial_dataset['respondent_age'].min()\n",
        "minimum_age\n",
        "print(f\"\\nThe youngest respondent was {minimum_age} years old\")\n",
        "\n",
        "age_range = maximum_age - minimum_age\n",
        "age_range\n",
        "print(f\"\\nThe age range between the youngest and the \" \n",
        "f\"oldest respondent was: {age_range}\")"
      ],
      "execution_count": 30,
      "outputs": [
        {
          "output_type": "stream",
          "text": [
            "The oldest respondent was 80 years old\n",
            "\n",
            "The youngest respondent was 16 years old\n",
            "\n",
            "The age range between the youngest and the oldest respondent was: 64\n"
          ],
          "name": "stdout"
        }
      ]
    },
    {
      "cell_type": "code",
      "metadata": {
        "colab": {
          "base_uri": "https://localhost:8080/"
        },
        "id": "uz-FEyZ5YI84",
        "outputId": "668d2297-f762-401a-9203-3317522f0302"
      },
      "source": [
        "# Skew\n",
        "financial_dataset.skew()"
      ],
      "execution_count": 31,
      "outputs": [
        {
          "output_type": "execute_result",
          "data": {
            "text/plain": [
              "year              0.064921\n",
              "household_size    0.515390\n",
              "respondent_age    0.721119\n",
              "dtype: float64"
            ]
          },
          "metadata": {
            "tags": []
          },
          "execution_count": 31
        }
      ]
    },
    {
      "cell_type": "markdown",
      "metadata": {
        "id": "5q_4pcVXZ-cf"
      },
      "source": [
        "Rounding off the skewness values to 1 is an indication of a positive skew. the mean is greater than the mode. The average respondent age was 38 while the mode was 30. On the other hand, the household size had an average mean of 4 while the mode was 2."
      ]
    },
    {
      "cell_type": "code",
      "metadata": {
        "colab": {
          "base_uri": "https://localhost:8080/"
        },
        "id": "VA9ObK8CYkTC",
        "outputId": "1d5d5fab-8613-4a48-eac8-b977f19991ce"
      },
      "source": [
        "# kurtosis\n",
        "financial_dataset.kurt()"
      ],
      "execution_count": 32,
      "outputs": [
        {
          "output_type": "execute_result",
          "data": {
            "text/plain": [
              "year             -1.592571\n",
              "household_size   -0.728949\n",
              "respondent_age   -0.295951\n",
              "dtype: float64"
            ]
          },
          "metadata": {
            "tags": []
          },
          "execution_count": 32
        }
      ]
    },
    {
      "cell_type": "markdown",
      "metadata": {
        "id": "IbuPTxHDZiKn"
      },
      "source": [
        "A kurtosis value of negative indicates that the fanancial dataset distribution is light. it has no outliers"
      ]
    },
    {
      "cell_type": "code",
      "metadata": {
        "colab": {
          "base_uri": "https://localhost:8080/"
        },
        "id": "0DgalBvqdGPE",
        "outputId": "0f58986a-d653-406b-b7c1-b837552dac91"
      },
      "source": [
        "# Frequency on the number of respondents with and without phone access\n",
        "phone_access_frequency = financial_dataset.groupby(['country', 'cell_phone_access'])['country'].count()\n",
        "phone_access_frequency"
      ],
      "execution_count": 33,
      "outputs": [
        {
          "output_type": "execute_result",
          "data": {
            "text/plain": [
              "country   cell_phone_access\n",
              "Kenya     No                   1150\n",
              "          Yes                  4565\n",
              "Rwanda    No                   1383\n",
              "          Yes                  6942\n",
              "Tanzania  No                   2530\n",
              "          Yes                  3860\n",
              "Uganda    No                    544\n",
              "          Yes                  1302\n",
              "Name: country, dtype: int64"
            ]
          },
          "metadata": {
            "tags": []
          },
          "execution_count": 33
        }
      ]
    },
    {
      "cell_type": "markdown",
      "metadata": {
        "id": "3YNhzIVpnNFB"
      },
      "source": [
        "### Cell phone access by country"
      ]
    },
    {
      "cell_type": "code",
      "metadata": {
        "colab": {
          "base_uri": "https://localhost:8080/",
          "height": 552
        },
        "id": "Qyc0b9fReRWr",
        "outputId": "2a076117-b8aa-4986-b383-28a245e5c3ab"
      },
      "source": [
        "# Plotting Cell phone access bar graph\n",
        "financial_dataset.groupby(['country','cell_phone_access']).year.count().unstack().plot(kind='bar',figsize=(12,8))\n",
        "\n",
        "# labels and title\n",
        "plt.title('Cell Phone Access per Country',fontsize=16, fontweight='bold')\n",
        "plt.xlabel('Country',fontsize=14)\n",
        "plt.ylabel('Number of cell phone',fontsize=14)\n",
        "plt.legend(fontsize=10);"
      ],
      "execution_count": 34,
      "outputs": [
        {
          "output_type": "display_data",
          "data": {
            "image/png": "[encoded data removed]",
            "text/plain": [
              "<Figure size 864x576 with 1 Axes>"
            ]
          },
          "metadata": {
            "tags": [],
            "needs_background": "light"
          }
        }
      ]
    },
    {
      "cell_type": "markdown",
      "metadata": {
        "id": "YF3lBWAtqXKV"
      },
      "source": [
        "Rwanda had the highest number of respondents (almost 7000) with cell phone access followed by Kenya then Tanzania"
      ]
    },
    {
      "cell_type": "markdown",
      "metadata": {
        "id": "iIZAiUdqrA46"
      },
      "source": [
        "#### Respondents having bank accounts per country"
      ]
    },
    {
      "cell_type": "code",
      "metadata": {
        "colab": {
          "base_uri": "https://localhost:8080/",
          "height": 552
        },
        "id": "7gGkAlMwq9MD",
        "outputId": "e127eb69-8cbc-4077-d137-617e28879b0f"
      },
      "source": [
        "# number of repondents with bank accounts\n",
        "\n",
        "financial_dataset.groupby(['country','has_a_bank_account']).year.count().unstack().plot(kind='bar',figsize=(12,8))\n",
        "\n",
        "# labels and title\n",
        "plt.title('Respondent with bank Accounts',fontsize=16, fontweight='bold')\n",
        "plt.xlabel('Country',fontsize=14)\n",
        "plt.ylabel('Bank Accounts',fontsize=14)\n",
        "plt.legend(fontsize=10);"
      ],
      "execution_count": 35,
      "outputs": [
        {
          "output_type": "display_data",
          "data": {
            "image/png": "[encoded data removed]",
            "text/plain": [
              "<Figure size 864x576 with 1 Axes>"
            ]
          },
          "metadata": {
            "tags": [],
            "needs_background": "light"
          }
        }
      ]
    },
    {
      "cell_type": "markdown",
      "metadata": {
        "id": "X3JAn40KsEKY"
      },
      "source": [
        "Majority of the Rwandans didn't have bank account despite having high access to cell phones. Kenya had the highest number of respondents with bank accounts but also majority of them didn't have. The number of kenyans without bank accounts was higher than those with bank accounts"
      ]
    },
    {
      "cell_type": "markdown",
      "metadata": {
        "id": "dRkh1IB4s-d6"
      },
      "source": [
        "### Repondents location"
      ]
    },
    {
      "cell_type": "code",
      "metadata": {
        "colab": {
          "base_uri": "https://localhost:8080/",
          "height": 552
        },
        "id": "Lg4T6K0xs-BO",
        "outputId": "f27c20df-43bc-4b96-86dc-c5843dc33e32"
      },
      "source": [
        "# location of the respondents\n",
        "\n",
        "financial_dataset.groupby(['country','type_of_location']).year.count().unstack().plot(kind='bar',figsize=(12,8))\n",
        "\n",
        "# labels and title\n",
        "plt.title('Respondents Location (Urban/Rural)',fontsize=16, fontweight='bold')\n",
        "plt.xlabel('Country',fontsize=14)\n",
        "plt.ylabel('Location Type',fontsize=14)\n",
        "plt.legend(fontsize=10);"
      ],
      "execution_count": 36,
      "outputs": [
        {
          "output_type": "display_data",
          "data": {
            "image/png": "[encoded data removed]",
            "text/plain": [
              "<Figure size 864x576 with 1 Axes>"
            ]
          },
          "metadata": {
            "tags": [],
            "needs_background": "light"
          }
        }
      ]
    },
    {
      "cell_type": "markdown",
      "metadata": {
        "id": "YeaYLuTDt3X3"
      },
      "source": [
        "It was evident that majority of the respondents in Rwanda lived in Rural areas whereas most of the repondents in Tanzania lived in urban areas."
      ]
    },
    {
      "cell_type": "code",
      "metadata": {
        "colab": {
          "base_uri": "https://localhost:8080/",
          "height": 522
        },
        "id": "X3NJrEhKzU8M",
        "outputId": "c4650b32-bdb1-461d-c266-8123be315285"
      },
      "source": [
        "# respondents age per country\n",
        "financial_dataset.groupby(['respondent_age', 'country']).respondent_age.count().unstack().plot(kind='bar', figsize=(12,8))\n",
        "\n",
        "# labels and title\n",
        "plt.title('Respondents Age per Country)',fontsize=16, fontweight='bold')\n",
        "plt.xlabel('Country',fontsize=14)\n",
        "plt.ylabel('Age',fontsize=14)\n",
        "plt.legend(fontsize=10);"
      ],
      "execution_count": 37,
      "outputs": [
        {
          "output_type": "display_data",
          "data": {
            "image/png": "[encoded data removed]",
            "text/plain": [
              "<Figure size 864x576 with 1 Axes>"
            ]
          },
          "metadata": {
            "tags": [],
            "needs_background": "light"
          }
        }
      ]
    },
    {
      "cell_type": "markdown",
      "metadata": {
        "id": "In7VH_mc8t1n"
      },
      "source": [
        "### Number of Respondents per Country per Year"
      ]
    },
    {
      "cell_type": "code",
      "metadata": {
        "colab": {
          "base_uri": "https://localhost:8080/",
          "height": 592
        },
        "id": "kwC1dhaq5sE5",
        "outputId": "c2ad1b5d-f6c7-4949-b8eb-5c1b773c575d"
      },
      "source": [
        "# Number of respondents per country per year\n",
        "financial_dataset.groupby(['year', 'country']).year.count().plot(kind='bar', figsize=(12,8))\n",
        "\n",
        "# labels and title\n",
        "plt.title('Respondents per Country/Year)',fontsize=16, fontweight='bold')\n",
        "plt.xlabel('Country',fontsize=14)\n",
        "plt.ylabel('Number of respondents',fontsize=14)\n",
        "plt.legend(fontsize=10);"
      ],
      "execution_count": 38,
      "outputs": [
        {
          "output_type": "display_data",
          "data": {
            "image/png": "[encoded data removed]",
            "text/plain": [
              "<Figure size 864x576 with 1 Axes>"
            ]
          },
          "metadata": {
            "tags": [],
            "needs_background": "light"
          }
        }
      ]
    },
    {
      "cell_type": "markdown",
      "metadata": {
        "id": "yJAfS_kB9K0M"
      },
      "source": [
        "### Respondents with Bank Accounts per Year"
      ]
    },
    {
      "cell_type": "code",
      "metadata": {
        "colab": {
          "base_uri": "https://localhost:8080/",
          "height": 534
        },
        "id": "xMUqHDbU7i8R",
        "outputId": "230f71ef-c43c-472b-ac65-fc51d76e1d01"
      },
      "source": [
        "# Respondents with bank accounts per year\n",
        "financial_dataset.groupby(['year', 'has_a_bank_account']).respondent_age.count().unstack().plot(kind='bar', figsize=(12,8))\n",
        "\n",
        "# labels and title\n",
        "plt.title('Respondents with Bank Accounts per Year',fontsize=16, fontweight='bold')\n",
        "plt.xlabel('Year',fontsize=14)\n",
        "plt.ylabel('Number of respondents',fontsize=14)\n",
        "plt.legend(fontsize=10);"
      ],
      "execution_count": 39,
      "outputs": [
        {
          "output_type": "display_data",
          "data": {
            "image/png": "[encoded data removed]",
            "text/plain": [
              "<Figure size 864x576 with 1 Axes>"
            ]
          },
          "metadata": {
            "tags": [],
            "needs_background": "light"
          }
        }
      ]
    },
    {
      "cell_type": "markdown",
      "metadata": {
        "id": "_3SjUJozBzfX"
      },
      "source": [
        "Most of the respondents didn't have bank accounts in 2016, 2017 and 2018."
      ]
    },
    {
      "cell_type": "markdown",
      "metadata": {
        "id": "BRS7HD4f-faX"
      },
      "source": [
        "### Respondents Education Level per Year"
      ]
    },
    {
      "cell_type": "code",
      "metadata": {
        "colab": {
          "base_uri": "https://localhost:8080/",
          "height": 534
        },
        "id": "XKfaRjqA9moC",
        "outputId": "7cdc1ab3-2ca3-49ac-ae15-0edb4f38f1e4"
      },
      "source": [
        "# education Level per year\n",
        "financial_dataset.groupby(['year', 'level_of_educuation']).respondent_age.count().unstack().plot(kind='bar', figsize=(12,8))\n",
        "\n",
        "# labels and title\n",
        "plt.title('Respondents level of Education per Year',fontsize=16, fontweight='bold')\n",
        "plt.xlabel('Year',fontsize=14)\n",
        "plt.ylabel('Number of respondents',fontsize=14)\n",
        "plt.legend(fontsize=10);"
      ],
      "execution_count": 40,
      "outputs": [
        {
          "output_type": "display_data",
          "data": {
            "image/png": "[encoded data removed]",
            "text/plain": [
              "<Figure size 864x576 with 1 Axes>"
            ]
          },
          "metadata": {
            "tags": [],
            "needs_background": "light"
          }
        }
      ]
    },
    {
      "cell_type": "markdown",
      "metadata": {
        "id": "zf5cw_0NBfcF"
      },
      "source": [
        "Most of the respondents had primary level of education across the year under review"
      ]
    },
    {
      "cell_type": "markdown",
      "metadata": {
        "id": "U8F8GrfkAAYa"
      },
      "source": [
        "### Level of education and bank accounts"
      ]
    },
    {
      "cell_type": "code",
      "metadata": {
        "colab": {
          "base_uri": "https://localhost:8080/",
          "height": 663
        },
        "id": "OmcE4TsY_u9s",
        "outputId": "4fa17df3-87ff-4bf1-b81c-0f2874e5d251"
      },
      "source": [
        "# Level of Education and Bank Accounts\n",
        "\n",
        "financial_dataset.groupby(['level_of_educuation', 'has_a_bank_account']).respondent_age.count().unstack().plot(kind='bar', figsize=(12,8))\n",
        "\n",
        "# labels and title\n",
        "plt.title('Respondents level of Education per Year',fontsize=16, fontweight='bold')\n",
        "plt.xlabel('Education level',fontsize=14)\n",
        "plt.ylabel('Bank Accounts',fontsize=14)\n",
        "plt.legend(fontsize=10);"
      ],
      "execution_count": 41,
      "outputs": [
        {
          "output_type": "display_data",
          "data": {
            "image/png": "[encoded data removed]",
            "text/plain": [
              "<Figure size 864x576 with 1 Axes>"
            ]
          },
          "metadata": {
            "tags": [],
            "needs_background": "light"
          }
        }
      ]
    },
    {
      "cell_type": "markdown",
      "metadata": {
        "id": "E3b3jprlA9al"
      },
      "source": [
        "Overally, it was evident that most of the primary school level respondents didn't have bank accounts"
      ]
    },
    {
      "cell_type": "markdown",
      "metadata": {
        "id": "f7ynseu-FUpj"
      },
      "source": [
        "### Marital status vs Access to bank account"
      ]
    },
    {
      "cell_type": "code",
      "metadata": {
        "colab": {
          "base_uri": "https://localhost:8080/",
          "height": 626
        },
        "id": "2kGAKFSbFTxT",
        "outputId": "b23b13c6-82d9-48b1-f6f5-9d10030c26bd"
      },
      "source": [
        "# Marital status tvs access to bank account\n",
        "financial_dataset.groupby(['marital_status', 'has_a_bank_account']).respondent_age.count().unstack().plot(kind='bar', figsize=(12,8))\n",
        "\n",
        "# labels and title\n",
        "plt.title('Respondents Marital status Vs Access to Bank Account',fontsize=16, fontweight='bold')\n",
        "plt.xlabel('Marital Status',fontsize=14)\n",
        "plt.ylabel('Bank Accounts',fontsize=14)\n",
        "plt.legend(fontsize=10);"
      ],
      "execution_count": 42,
      "outputs": [
        {
          "output_type": "display_data",
          "data": {
            "image/png": "[encoded data removed]",
            "text/plain": [
              "<Figure size 864x576 with 1 Axes>"
            ]
          },
          "metadata": {
            "tags": [],
            "needs_background": "light"
          }
        }
      ]
    },
    {
      "cell_type": "code",
      "metadata": {
        "colab": {
          "base_uri": "https://localhost:8080/",
          "height": 534
        },
        "id": "HpOOiInGGMuK",
        "outputId": "907ce372-12c1-4602-bc80-9207690138ff"
      },
      "source": [
        "# Marital status tvs access to bank account\n",
        "financial_dataset.groupby(['year', 'marital_status',]).year.count().unstack().plot(kind='bar', figsize=(12,8))\n",
        "\n",
        "# labels and title\n",
        "plt.title('Respondents Marital status per Year',fontsize=16, fontweight='bold')\n",
        "plt.xlabel('Marital Status',fontsize=14)\n",
        "plt.ylabel('Number',fontsize=14)\n",
        "plt.legend(fontsize=10);"
      ],
      "execution_count": 43,
      "outputs": [
        {
          "output_type": "display_data",
          "data": {
            "image/png": "[encoded data removed]",
            "text/plain": [
              "<Figure size 864x576 with 1 Axes>"
            ]
          },
          "metadata": {
            "tags": [],
            "needs_background": "light"
          }
        }
      ]
    },
    {
      "cell_type": "markdown",
      "metadata": {
        "id": "3jH4wH-aH65Y"
      },
      "source": [
        "Most of the respondents are married/living together but don't have bank accounts. 2016 had the highest number of married respondents followed by the year 2018."
      ]
    },
    {
      "cell_type": "markdown",
      "metadata": {
        "id": "PY_vyKntSBZ2"
      },
      "source": [
        "# Bivariate Analysis"
      ]
    },
    {
      "cell_type": "markdown",
      "metadata": {
        "id": "ePMUY1jqTDaN"
      },
      "source": [
        "### 2.01 Scatter Plots"
      ]
    },
    {
      "cell_type": "code",
      "metadata": {
        "id": "VjZ23mRYTVC1",
        "colab": {
          "base_uri": "https://localhost:8080/",
          "height": 295
        },
        "outputId": "d4cf22b0-a74f-4699-bff9-a604e66bcf1c"
      },
      "source": [
        "# Respondent age and household size\n",
        "\n",
        "# Using Pandas: Plotting our scatterplot to compare the variables\n",
        "financial_dataset.plot(x = 'respondent_age', y = 'household_size', kind='scatter')\n",
        "\n",
        "# Using Seaborn: Using the function regplot to create our scatterplot\n",
        "sns.regplot(x = financial_dataset[\"respondent_age\"], y = financial_dataset[\"household_size\"], fit_reg=False)\n",
        "\n",
        "# Giving our scatterplot a title\n",
        "plt.title('Respondent Age vs Household Size')\n",
        "\n",
        "# Labelling our x axis\n",
        "plt.xlabel('Respondent Age')\n",
        "\n",
        "# Labelling our y axis\n",
        "plt.ylabel('Household Size');\n",
        "\n",
        "# The scatterplot graph shows that the variable respondent age is strongly correlated to the household size."
      ],
      "execution_count": 44,
      "outputs": [
        {
          "output_type": "display_data",
          "data": {
            "image/png": "[encoded data removed]",
            "text/plain": [
              "<Figure size 432x288 with 1 Axes>"
            ]
          },
          "metadata": {
            "tags": [],
            "needs_background": "light"
          }
        }
      ]
    },
    {
      "cell_type": "markdown",
      "metadata": {
        "id": "TXfG7xuWTi4i"
      },
      "source": [
        "#### 2.02 Correlation"
      ]
    },
    {
      "cell_type": "code",
      "metadata": {
        "id": "HLieqeEATmGF",
        "colab": {
          "base_uri": "https://localhost:8080/"
        },
        "outputId": "6690e22c-3eb5-43a2-d5cc-5739cfec1cc6"
      },
      "source": [
        "# Calculating the pearson coefficient\n",
        "pearson_coeff = financial_dataset[\"respondent_age\"].corr(financial_dataset[\"household_size\"], method=\"pearson\") \n",
        "print(pearson_coeff)\n",
        "\n",
        "# Checking whether you have to define the pearson\n",
        "coeff = financial_dataset[\"respondent_age\"].corr(financial_dataset[\"household_size\"]) \n",
        "print(coeff)\n",
        "\n",
        "# The respondent age and household size are inversely correlated"
      ],
      "execution_count": 45,
      "outputs": [
        {
          "output_type": "stream",
          "text": [
            "-0.10241518313031248\n",
            "-0.10241518313031248\n"
          ],
          "name": "stdout"
        }
      ]
    },
    {
      "cell_type": "markdown",
      "metadata": {
        "id": "FuVo37yIT5RK"
      },
      "source": [
        "## 2.1 Categorical and Categorical"
      ]
    },
    {
      "cell_type": "code",
      "metadata": {
        "id": "mDLR8VO4R2lm"
      },
      "source": [
        "from sklearn.preprocessing import LabelEncoder\n",
        "lb=LabelEncoder()\n",
        "financial_dataset['country']=lb.fit_transform(financial_dataset['country'].astype(str))\n",
        "financial_dataset['type_of_location']=lb.fit_transform(financial_dataset['type_of_location'].astype(str))\n",
        "financial_dataset['cell_phone_access']=lb.fit_transform(financial_dataset['cell_phone_access'].astype(str))\n",
        "financial_dataset['gender_of_respondent']=lb.fit_transform(financial_dataset['gender_of_respondent'].astype(str))\n",
        "financial_dataset['marital_status']=lb.fit_transform(financial_dataset['marital_status'].astype(str))\n",
        "financial_dataset['level_of_educuation']=lb.fit_transform(financial_dataset['level_of_educuation'].astype(str))\n",
        "financial_dataset['type_of_job']=lb.fit_transform(financial_dataset['type_of_job'].astype(str))"
      ],
      "execution_count": 49,
      "outputs": []
    },
    {
      "cell_type": "code",
      "metadata": {
        "id": "1uJinCcyRBG4"
      },
      "source": [
        "financial_dataset['has_a_bank_account']=lb.fit_transform(financial_dataset['has_a_bank_account'].astype(str))"
      ],
      "execution_count": 50,
      "outputs": []
    },
    {
      "cell_type": "code",
      "metadata": {
        "colab": {
          "base_uri": "https://localhost:8080/",
          "height": 371
        },
        "id": "7QoutW4x-wgO",
        "outputId": "0ab14ab7-1659-42eb-f0c4-73ac8e20461d"
      },
      "source": [
        "hsizeage = financial_dataset[['has_a_bank_account', 'type_of_location',\n",
        "       'cell_phone_access', \n",
        "       'gender_of_respondent','marital_status',\n",
        "       'level_of_educuation', 'type_of_job']]\n",
        "sns.heatmap(hsizeage.corr(),annot=False);"
      ],
      "execution_count": 53,
      "outputs": [
        {
          "output_type": "display_data",
          "data": {
            "image/png": "[encoded data removed]",
            "text/plain": [
              "<Figure size 432x288 with 2 Axes>"
            ]
          },
          "metadata": {
            "tags": [],
            "needs_background": "light"
          }
        }
      ]
    },
    {
      "cell_type": "markdown",
      "metadata": {
        "id": "vTbdjSrhVIiT"
      },
      "source": [
        "## 7. Implementing the Solution"
      ]
    },
    {
      "cell_type": "markdown",
      "metadata": {
        "id": "Q9lkQqS6YRG4"
      },
      "source": [
        " N/B: The datasets included data from four different countries (Rwanda, Tanzania, kenya and uganda) which were collected in different years (2016, 2017 and 2018) respectively.\n",
        "\n",
        "Rwanda had the highest number of respondents (6,942) with phone access but a majority of them didn't have bank accounts. Kenya was second with highest number of respondents (4,565) with cell phone access with quite a huge number not having bank accounts as detalied below:  \n",
        "\n",
        "country   cell_phone_access\n",
        "Kenya     No                   1150\n",
        "          Yes                  4565\n",
        "Rwanda    No                   1383\n",
        "          Yes                  6942\n",
        "Tanzania  No                   2530\n",
        "          Yes                  3860\n",
        "Uganda    No                    544\n",
        "          Yes                  1302\n",
        "It was noted that majority of the respo of the respondents who didn't have access to bank accounts had primary level education and most of them lived in rural areas with Rwanda leading having more than 7,000 responses. Rwanda report a total of over 4,800 respondents with no bank accounts.\n",
        "\n"
      ]
    },
    {
      "cell_type": "markdown",
      "metadata": {
        "id": "lQ2G4ZPDVOXE"
      },
      "source": [
        "## 8. Challenging the solution"
      ]
    },
    {
      "cell_type": "markdown",
      "metadata": {
        "id": "jWVGKGuiYMWg"
      },
      "source": [
        "> Having data collected from four different country's and in different year's, it would have been better to have data from each country in all the fours years for fair comparison and prediction.\n",
        "\n",
        "Majority of the data was from Rwanda, then Tanzania and followed by Kenya and finaaly uganda. having such disparity in sample size, the results seemed to be biased towards Rwanda with majority of the respondents having primary education, self employed, doing fishing and having no bank accounts yet they have cell phone access. This was also the main reason why rwanda had the modal age of 30 and having a household modal value of 2.\n",
        "\n",
        "Despite the data biasness to Rwanda, it was noted that in the year 2016, the commercial banks could use the mobile access to tap into the Rwandan population and ensure that there's financial inclusion.\n",
        "\n",
        "The opportunity could help the respondents in Rwanda to grow their business as most of them are self employed and practice fish farming. The banks could also give them funds to enable them have value addition to their products. \n",
        "\n",
        "\n",
        "\n",
        "\n"
      ]
    },
    {
      "cell_type": "markdown",
      "metadata": {
        "id": "xrmHVMVsVS--"
      },
      "source": [
        "## 9. Follow up questions"
      ]
    },
    {
      "cell_type": "markdown",
      "metadata": {
        "id": "pth2qSWhuBIy"
      },
      "source": [
        "> At this point, we can refine our question or collect new data, all in an iterative process to get at the truth.\n",
        "\n"
      ]
    },
    {
      "cell_type": "markdown",
      "metadata": {
        "id": "HPQviDmNtta8"
      },
      "source": [
        "### a). Did we have the right data?"
      ]
    },
    {
      "cell_type": "markdown",
      "metadata": {
        "id": "KEDzPV0Kkfl1"
      },
      "source": [
        "Yes we had the right data but not as required to make proper comparison. Majority of the data was biased to one country thus influncing the results."
      ]
    },
    {
      "cell_type": "markdown",
      "metadata": {
        "id": "qjFHK1CKty7o"
      },
      "source": [
        "### b). Do we need other data to answer our question?"
      ]
    },
    {
      "cell_type": "markdown",
      "metadata": {
        "id": "muuZrufrkO9J"
      },
      "source": [
        "No. We don'e need other data to answer our question."
      ]
    },
    {
      "cell_type": "markdown",
      "metadata": {
        "id": "HSsicSdvt4Zs"
      },
      "source": [
        "### c). Did we have the right question?"
      ]
    },
    {
      "cell_type": "markdown",
      "metadata": {
        "id": "8eb-PoOkjiVu"
      },
      "source": [
        "Yes we had the right question. The main objective was to predict which individuals wereto use bank accounts and it was noted that the self employed respondents in the rural areas were the main target as the market was untapped with a majority in Rwanda, followed by Tanzanians."
      ]
    },
    {
      "cell_type": "markdown",
      "metadata": {
        "id": "voHmrXDdUrqG"
      },
      "source": [
        ""
      ]
    },
    {
      "cell_type": "code",
      "metadata": {
        "id": "9k7O2lq4Ujuh"
      },
      "source": [
        ""
      ],
      "execution_count": null,
      "outputs": []
    }
  ]
}