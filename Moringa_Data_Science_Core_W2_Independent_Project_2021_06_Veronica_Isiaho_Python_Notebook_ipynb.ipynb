{
  "nbformat": 4,
  "nbformat_minor": 0,
  "metadata": {
    "colab": {
      "name": "Moringa_Data_Science_Core_W2_Independent_Project_2021_06_Veronica_Isiaho_Python_Notebook_ipynb",
      "provenance": [],
      "collapsed_sections": [],
      "include_colab_link": true
    },
    "kernelspec": {
      "name": "python3",
      "display_name": "Python 3"
    }
  },
  "cells": [
    {
      "cell_type": "markdown",
      "metadata": {
        "id": "view-in-github",
        "colab_type": "text"
      },
      "source": [
        "<a href=\"https://colab.research.google.com/github/veronica1013/Data-Science-Core/blob/main/Moringa_Data_Science_Core_W2_Independent_Project_2021_06_Veronica_Isiaho_Python_Notebook_ipynb.ipynb\" target=\"_parent\"><img src=\"https://colab.research.google.com/assets/colab-badge.svg\" alt=\"Open In Colab\"/></a>"
      ]
    },
    {
      "cell_type": "markdown",
      "metadata": {
        "id": "VxxKHx7Ip7qv"
      },
      "source": [
        "## Overview\n",
        "\n",
        "### a) Specyfying the Data Analytic Question\n",
        "Determining the demographic factors that can be used to establish whether an individual has acess to bank services or not.\n",
        "\n",
        "### b) Metric of success\n",
        "\n",
        "To identify the features that can help know whether an individual has acess to bank services using the chi squared test\n",
        "\n",
        "### c) Understanding the context\n",
        "Traditionally, access to bank accounts has been regarded as an indicator of financial inclusion. Despite the proliferation of mobile money in Africa and the growth of innovative fintech solutions, banks still play a pivotal role in facilitating access to financial services. Access to bank accounts enables households to save and facilitate payments while also helping businesses build up their credit-worthiness and improve their access to other financial services. Therefore, access to bank accounts is an essential contributor to long-term economic growth.\n",
        "The research problem is to figure out how we can predict which individuals are most likely to have or use a bank account.\n",
        "\n",
        "### d) Recording the experimental design\n",
        "The project entails the use of pandas cross tabulations to get summaries of the different columns.\n",
        "The chi2_contingency() function will be used to get the chi squared statistics.\n",
        "The chi squared statistic will be used to determine whether two column features are independent. The null and alternative hypothesis for the chi square test is:\n",
        "Ho: The features are independnet\n",
        "Ha: There is a relationship between the features\n",
        "-- null hypothesis is rejected when p-value is less than 0.05\n",
        "\n",
        "### e) Relevance of the data\n",
        "The data provided is relevant to our research question which is to determine the factors that can help predict whether an individual has access to bank services."
      ]
    },
    {
      "cell_type": "markdown",
      "metadata": {
        "id": "4Ci0CpLWrofS"
      },
      "source": [
        "## Loading the Libraries"
      ]
    },
    {
      "cell_type": "code",
      "metadata": {
        "id": "Z4Q3jQvH8NEf"
      },
      "source": [
        "# Import the revevant libraries\n",
        "# import pandas\n",
        "import pandas as pd\n",
        "\n",
        "# import numpy\n",
        "import numpy as np\n",
        "\n",
        "# import datetime\n",
        "import datetime\n",
        "\n",
        "# import seaborn\n",
        "import seaborn as sns\n",
        "\n",
        "# import matplotlib\n",
        "import matplotlib.pyplot as plt\n",
        "\n",
        "# importing stats\n",
        "from scipy import stats\n"
      ],
      "execution_count": 77,
      "outputs": []
    },
    {
      "cell_type": "markdown",
      "metadata": {
        "id": "iUNbvIvnT7ep"
      },
      "source": [
        "## Reading the Data"
      ]
    },
    {
      "cell_type": "code",
      "metadata": {
        "colab": {
          "base_uri": "https://localhost:8080/",
          "height": 421
        },
        "id": "xKz3d1IhZWwP",
        "outputId": "4624f45d-3490-4d4f-f179-44e89a78b91f"
      },
      "source": [
        "# Reading the variables definitions\n",
        "# Variables url = http://bit.ly/VariableDefinitions\n",
        "\n",
        "VariableDefinitions = pd.read_csv('http://bit.ly/VariableDefinitions')\n",
        "VariableDefinitions"
      ],
      "execution_count": 3,
      "outputs": [
        {
          "output_type": "execute_result",
          "data": {
            "text/html": [
              "<div>\n",
              "<style scoped>\n",
              "    .dataframe tbody tr th:only-of-type {\n",
              "        vertical-align: middle;\n",
              "    }\n",
              "\n",
              "    .dataframe tbody tr th {\n",
              "        vertical-align: top;\n",
              "    }\n",
              "\n",
              "    .dataframe thead th {\n",
              "        text-align: right;\n",
              "    }\n",
              "</style>\n",
              "<table border=\"1\" class=\"dataframe\">\n",
              "  <thead>\n",
              "    <tr style=\"text-align: right;\">\n",
              "      <th></th>\n",
              "      <th>Variable Definitions</th>\n",
              "      <th>Unnamed: 1</th>\n",
              "    </tr>\n",
              "  </thead>\n",
              "  <tbody>\n",
              "    <tr>\n",
              "      <th>0</th>\n",
              "      <td>country</td>\n",
              "      <td>Country interviewee is in.</td>\n",
              "    </tr>\n",
              "    <tr>\n",
              "      <th>1</th>\n",
              "      <td>year</td>\n",
              "      <td>Year survey was done in.</td>\n",
              "    </tr>\n",
              "    <tr>\n",
              "      <th>2</th>\n",
              "      <td>uniqueid</td>\n",
              "      <td>Unique identifier for each interviewee</td>\n",
              "    </tr>\n",
              "    <tr>\n",
              "      <th>3</th>\n",
              "      <td>location_type</td>\n",
              "      <td>Type of location: Rural, Urban</td>\n",
              "    </tr>\n",
              "    <tr>\n",
              "      <th>4</th>\n",
              "      <td>cellphone_access</td>\n",
              "      <td>If interviewee has access to a cellphone: Yes, No</td>\n",
              "    </tr>\n",
              "    <tr>\n",
              "      <th>5</th>\n",
              "      <td>household_size</td>\n",
              "      <td>Number of people living in one house</td>\n",
              "    </tr>\n",
              "    <tr>\n",
              "      <th>6</th>\n",
              "      <td>age_of_respondent</td>\n",
              "      <td>The age of the interviewee</td>\n",
              "    </tr>\n",
              "    <tr>\n",
              "      <th>7</th>\n",
              "      <td>gender_of_respondent</td>\n",
              "      <td>Gender of interviewee: Male, Female</td>\n",
              "    </tr>\n",
              "    <tr>\n",
              "      <th>8</th>\n",
              "      <td>relationship_with_head</td>\n",
              "      <td>The interviewee’s relationship with the head o...</td>\n",
              "    </tr>\n",
              "    <tr>\n",
              "      <th>9</th>\n",
              "      <td>marital_status</td>\n",
              "      <td>The martial status of the interviewee: Married...</td>\n",
              "    </tr>\n",
              "    <tr>\n",
              "      <th>10</th>\n",
              "      <td>education_level</td>\n",
              "      <td>Highest level of education: No formal educatio...</td>\n",
              "    </tr>\n",
              "    <tr>\n",
              "      <th>11</th>\n",
              "      <td>job_type</td>\n",
              "      <td>Type of job interviewee has: Farming and Fishi...</td>\n",
              "    </tr>\n",
              "  </tbody>\n",
              "</table>\n",
              "</div>"
            ],
            "text/plain": [
              "      Variable Definitions                                         Unnamed: 1\n",
              "0                  country                         Country interviewee is in.\n",
              "1                     year                           Year survey was done in.\n",
              "2                 uniqueid             Unique identifier for each interviewee\n",
              "3            location_type                     Type of location: Rural, Urban\n",
              "4         cellphone_access  If interviewee has access to a cellphone: Yes, No\n",
              "5           household_size               Number of people living in one house\n",
              "6        age_of_respondent                         The age of the interviewee\n",
              "7     gender_of_respondent                Gender of interviewee: Male, Female\n",
              "8   relationship_with_head  The interviewee’s relationship with the head o...\n",
              "9           marital_status  The martial status of the interviewee: Married...\n",
              "10         education_level  Highest level of education: No formal educatio...\n",
              "11                job_type  Type of job interviewee has: Farming and Fishi..."
            ]
          },
          "metadata": {
            "tags": []
          },
          "execution_count": 3
        }
      ]
    },
    {
      "cell_type": "code",
      "metadata": {
        "id": "XJn2KjW-WMlG"
      },
      "source": [
        "# Loading the Data from the source i.e. csv\n",
        "# ---\n",
        "# Dataset url = http://bit.ly/FinancialDataset\n",
        "# ---\n",
        "#\n",
        "# Loading the first dataset as sat_2017_df\n",
        "financial_dataset = pd.read_csv(\"http://bit.ly/FinancialDataset\")\n"
      ],
      "execution_count": 4,
      "outputs": []
    },
    {
      "cell_type": "markdown",
      "metadata": {
        "id": "OI3P3YnHUEBk"
      },
      "source": [
        "## Checking the Data"
      ]
    },
    {
      "cell_type": "code",
      "metadata": {
        "id": "YjSVNwgptHxY",
        "colab": {
          "base_uri": "https://localhost:8080/"
        },
        "outputId": "5ac50240-ad3a-4699-ec08-34b95c902162"
      },
      "source": [
        "# Determining the no. of records in the dataset\n",
        "\n",
        "financial_dataset.shape"
      ],
      "execution_count": 5,
      "outputs": [
        {
          "output_type": "execute_result",
          "data": {
            "text/plain": [
              "(23524, 13)"
            ]
          },
          "metadata": {
            "tags": []
          },
          "execution_count": 5
        }
      ]
    },
    {
      "cell_type": "code",
      "metadata": {
        "id": "xHhTw5eKWr0n",
        "colab": {
          "base_uri": "https://localhost:8080/",
          "height": 179
        },
        "outputId": "a655fb72-8d20-401e-df5d-4bc6660c7da6"
      },
      "source": [
        "# Previewing the top of the dataset\n",
        "financial_dataset.head(2)"
      ],
      "execution_count": 6,
      "outputs": [
        {
          "output_type": "execute_result",
          "data": {
            "text/html": [
              "<div>\n",
              "<style scoped>\n",
              "    .dataframe tbody tr th:only-of-type {\n",
              "        vertical-align: middle;\n",
              "    }\n",
              "\n",
              "    .dataframe tbody tr th {\n",
              "        vertical-align: top;\n",
              "    }\n",
              "\n",
              "    .dataframe thead th {\n",
              "        text-align: right;\n",
              "    }\n",
              "</style>\n",
              "<table border=\"1\" class=\"dataframe\">\n",
              "  <thead>\n",
              "    <tr style=\"text-align: right;\">\n",
              "      <th></th>\n",
              "      <th>country</th>\n",
              "      <th>year</th>\n",
              "      <th>uniqueid</th>\n",
              "      <th>Has a Bank account</th>\n",
              "      <th>Type of Location</th>\n",
              "      <th>Cell Phone Access</th>\n",
              "      <th>household_size</th>\n",
              "      <th>Respondent Age</th>\n",
              "      <th>gender_of_respondent</th>\n",
              "      <th>The relathip with head</th>\n",
              "      <th>marital_status</th>\n",
              "      <th>Level of Educuation</th>\n",
              "      <th>Type of Job</th>\n",
              "    </tr>\n",
              "  </thead>\n",
              "  <tbody>\n",
              "    <tr>\n",
              "      <th>0</th>\n",
              "      <td>Kenya</td>\n",
              "      <td>2018</td>\n",
              "      <td>uniqueid_1</td>\n",
              "      <td>Yes</td>\n",
              "      <td>Rural</td>\n",
              "      <td>Yes</td>\n",
              "      <td>3.0</td>\n",
              "      <td>24.0</td>\n",
              "      <td>Female</td>\n",
              "      <td>Spouse</td>\n",
              "      <td>Married/Living together</td>\n",
              "      <td>Secondary education</td>\n",
              "      <td>Self employed</td>\n",
              "    </tr>\n",
              "    <tr>\n",
              "      <th>1</th>\n",
              "      <td>Kenya</td>\n",
              "      <td>2018</td>\n",
              "      <td>uniqueid_2</td>\n",
              "      <td>No</td>\n",
              "      <td>Rural</td>\n",
              "      <td>No</td>\n",
              "      <td>5.0</td>\n",
              "      <td>70.0</td>\n",
              "      <td>Female</td>\n",
              "      <td>Head of Household</td>\n",
              "      <td>Widowed</td>\n",
              "      <td>No formal education</td>\n",
              "      <td>Government Dependent</td>\n",
              "    </tr>\n",
              "  </tbody>\n",
              "</table>\n",
              "</div>"
            ],
            "text/plain": [
              "  country  year  ...  Level of Educuation           Type of Job\n",
              "0   Kenya  2018  ...  Secondary education         Self employed\n",
              "1   Kenya  2018  ...  No formal education  Government Dependent\n",
              "\n",
              "[2 rows x 13 columns]"
            ]
          },
          "metadata": {
            "tags": []
          },
          "execution_count": 6
        }
      ]
    },
    {
      "cell_type": "code",
      "metadata": {
        "colab": {
          "base_uri": "https://localhost:8080/",
          "height": 216
        },
        "id": "ubHTW9-j-ZN2",
        "outputId": "34425e86-e6cf-443d-bfb7-4534ecdaa2a6"
      },
      "source": [
        "# Previewing the bottom of the dataset\n",
        "financial_dataset.tail(2)"
      ],
      "execution_count": null,
      "outputs": [
        {
          "output_type": "execute_result",
          "data": {
            "text/html": [
              "<div>\n",
              "<style scoped>\n",
              "    .dataframe tbody tr th:only-of-type {\n",
              "        vertical-align: middle;\n",
              "    }\n",
              "\n",
              "    .dataframe tbody tr th {\n",
              "        vertical-align: top;\n",
              "    }\n",
              "\n",
              "    .dataframe thead th {\n",
              "        text-align: right;\n",
              "    }\n",
              "</style>\n",
              "<table border=\"1\" class=\"dataframe\">\n",
              "  <thead>\n",
              "    <tr style=\"text-align: right;\">\n",
              "      <th></th>\n",
              "      <th>country</th>\n",
              "      <th>year</th>\n",
              "      <th>uniqueid</th>\n",
              "      <th>Has a Bank account</th>\n",
              "      <th>Type of Location</th>\n",
              "      <th>Cell Phone Access</th>\n",
              "      <th>household_size</th>\n",
              "      <th>Respondent Age</th>\n",
              "      <th>gender_of_respondent</th>\n",
              "      <th>The relathip with head</th>\n",
              "      <th>marital_status</th>\n",
              "      <th>Level of Educuation</th>\n",
              "      <th>Type of Job</th>\n",
              "    </tr>\n",
              "  </thead>\n",
              "  <tbody>\n",
              "    <tr>\n",
              "      <th>23522</th>\n",
              "      <td>Uganda</td>\n",
              "      <td>2018</td>\n",
              "      <td>uniqueid_2116</td>\n",
              "      <td>No</td>\n",
              "      <td>Urban</td>\n",
              "      <td>Yes</td>\n",
              "      <td>7.0</td>\n",
              "      <td>30.0</td>\n",
              "      <td>Female</td>\n",
              "      <td>Parent</td>\n",
              "      <td>Divorced/Seperated</td>\n",
              "      <td>Secondary education</td>\n",
              "      <td>Self employed</td>\n",
              "    </tr>\n",
              "    <tr>\n",
              "      <th>23523</th>\n",
              "      <td>Uganda</td>\n",
              "      <td>2018</td>\n",
              "      <td>uniqueid_2117</td>\n",
              "      <td>No</td>\n",
              "      <td>Rural</td>\n",
              "      <td>Yes</td>\n",
              "      <td>10.0</td>\n",
              "      <td>20.0</td>\n",
              "      <td>Male</td>\n",
              "      <td>Child</td>\n",
              "      <td>Single/Never Married</td>\n",
              "      <td>Secondary education</td>\n",
              "      <td>No Income</td>\n",
              "    </tr>\n",
              "  </tbody>\n",
              "</table>\n",
              "</div>"
            ],
            "text/plain": [
              "      country  year  ...  Level of Educuation    Type of Job\n",
              "23522  Uganda  2018  ...  Secondary education  Self employed\n",
              "23523  Uganda  2018  ...  Secondary education      No Income\n",
              "\n",
              "[2 rows x 13 columns]"
            ]
          },
          "metadata": {
            "tags": []
          },
          "execution_count": 6
        }
      ]
    },
    {
      "cell_type": "code",
      "metadata": {
        "id": "n8-dW4sQWzbc",
        "colab": {
          "base_uri": "https://localhost:8080/"
        },
        "outputId": "c845c3ce-26fe-4625-f69a-5f4339c781f6"
      },
      "source": [
        "# Checking whether each column has an appropriate datatypes\n",
        "financial_dataset.dtypes"
      ],
      "execution_count": null,
      "outputs": [
        {
          "output_type": "execute_result",
          "data": {
            "text/plain": [
              "country                    object\n",
              "year                        int64\n",
              "uniqueid                   object\n",
              "Has a Bank account         object\n",
              "Type of Location           object\n",
              "Cell Phone Access          object\n",
              "household_size            float64\n",
              "Respondent Age            float64\n",
              "gender_of_respondent       object\n",
              "The relathip with head     object\n",
              "marital_status             object\n",
              "Level of Educuation        object\n",
              "Type of Job                object\n",
              "dtype: object"
            ]
          },
          "metadata": {
            "tags": []
          },
          "execution_count": 7
        }
      ]
    },
    {
      "cell_type": "markdown",
      "metadata": {
        "id": "ckfufNrcUHeH"
      },
      "source": [
        "## 4. External Data Source Validation"
      ]
    },
    {
      "cell_type": "markdown",
      "metadata": {
        "id": "6L4sl_0WXlbg"
      },
      "source": [
        "Making sure your data matches something outside of the dataset is very important. It allows you to ensure that the measurements are roughly in line with what they should be and it serves as a check on what other things might be wrong in your dataset. External validation can often be as simple as checking your data against a single number, as we will do here.\n",
        "\n",
        "An example would be suppose that you're working with a dataset on the population of countries during the year 2016. Validating such information with an external reliable resource such as World Bank Data would be important step to providing credibility to your dataset. Have a look at the following link for an example. [Link](https://rstudio-pubs-static.s3.amazonaws.com/182250_19977d0c5c06403fbad1e653850fc7c6.html)."
      ]
    },
    {
      "cell_type": "markdown",
      "metadata": {
        "id": "6XC_g-zKxe-r"
      },
      "source": [
        "### a.Validation"
      ]
    },
    {
      "cell_type": "markdown",
      "metadata": {
        "id": "FlBMxEDBUc9B"
      },
      "source": [
        "## Tidying the Dataset"
      ]
    },
    {
      "cell_type": "code",
      "metadata": {
        "colab": {
          "base_uri": "https://localhost:8080/",
          "height": 297
        },
        "id": "VpmPTB-zlsir",
        "outputId": "9f6d93e3-3ad3-4713-f7ae-27eca2e361e0"
      },
      "source": [
        "# Identify outliers by first looking at the descriptive analysis\n",
        "# \n",
        "financial_dataset.describe()"
      ],
      "execution_count": null,
      "outputs": [
        {
          "output_type": "execute_result",
          "data": {
            "text/html": [
              "<div>\n",
              "<style scoped>\n",
              "    .dataframe tbody tr th:only-of-type {\n",
              "        vertical-align: middle;\n",
              "    }\n",
              "\n",
              "    .dataframe tbody tr th {\n",
              "        vertical-align: top;\n",
              "    }\n",
              "\n",
              "    .dataframe thead th {\n",
              "        text-align: right;\n",
              "    }\n",
              "</style>\n",
              "<table border=\"1\" class=\"dataframe\">\n",
              "  <thead>\n",
              "    <tr style=\"text-align: right;\">\n",
              "      <th></th>\n",
              "      <th>year</th>\n",
              "      <th>household_size</th>\n",
              "      <th>Respondent Age</th>\n",
              "    </tr>\n",
              "  </thead>\n",
              "  <tbody>\n",
              "    <tr>\n",
              "      <th>count</th>\n",
              "      <td>23524.000000</td>\n",
              "      <td>23496.000000</td>\n",
              "      <td>23490.000000</td>\n",
              "    </tr>\n",
              "    <tr>\n",
              "      <th>mean</th>\n",
              "      <td>2016.979000</td>\n",
              "      <td>3.681818</td>\n",
              "      <td>38.804300</td>\n",
              "    </tr>\n",
              "    <tr>\n",
              "      <th>std</th>\n",
              "      <td>0.899669</td>\n",
              "      <td>2.279933</td>\n",
              "      <td>16.519996</td>\n",
              "    </tr>\n",
              "    <tr>\n",
              "      <th>min</th>\n",
              "      <td>2016.000000</td>\n",
              "      <td>0.000000</td>\n",
              "      <td>16.000000</td>\n",
              "    </tr>\n",
              "    <tr>\n",
              "      <th>25%</th>\n",
              "      <td>2016.000000</td>\n",
              "      <td>2.000000</td>\n",
              "      <td>26.000000</td>\n",
              "    </tr>\n",
              "    <tr>\n",
              "      <th>50%</th>\n",
              "      <td>2017.000000</td>\n",
              "      <td>3.000000</td>\n",
              "      <td>35.000000</td>\n",
              "    </tr>\n",
              "    <tr>\n",
              "      <th>75%</th>\n",
              "      <td>2018.000000</td>\n",
              "      <td>5.000000</td>\n",
              "      <td>49.000000</td>\n",
              "    </tr>\n",
              "    <tr>\n",
              "      <th>max</th>\n",
              "      <td>2056.000000</td>\n",
              "      <td>21.000000</td>\n",
              "      <td>100.000000</td>\n",
              "    </tr>\n",
              "  </tbody>\n",
              "</table>\n",
              "</div>"
            ],
            "text/plain": [
              "               year  household_size  Respondent Age\n",
              "count  23524.000000    23496.000000    23490.000000\n",
              "mean    2016.979000        3.681818       38.804300\n",
              "std        0.899669        2.279933       16.519996\n",
              "min     2016.000000        0.000000       16.000000\n",
              "25%     2016.000000        2.000000       26.000000\n",
              "50%     2017.000000        3.000000       35.000000\n",
              "75%     2018.000000        5.000000       49.000000\n",
              "max     2056.000000       21.000000      100.000000"
            ]
          },
          "metadata": {
            "tags": []
          },
          "execution_count": 8
        }
      ]
    },
    {
      "cell_type": "code",
      "metadata": {
        "colab": {
          "base_uri": "https://localhost:8080/",
          "height": 279
        },
        "id": "Ol0jt-YwVE1K",
        "outputId": "ce40e841-a4b9-44be-9936-070250b1c8e4"
      },
      "source": [
        "# Checking for Outliers in the dataset\n",
        "\n",
        "# year\n",
        "sns.boxplot(x=financial_dataset['year']);\n"
      ],
      "execution_count": null,
      "outputs": [
        {
          "output_type": "display_data",
          "data": {
            "image/png": "[encoded data removed]",
            "text/plain": [
              "<Figure size 432x288 with 1 Axes>"
            ]
          },
          "metadata": {
            "tags": [],
            "needs_background": "light"
          }
        }
      ]
    },
    {
      "cell_type": "code",
      "metadata": {
        "colab": {
          "base_uri": "https://localhost:8080/",
          "height": 280
        },
        "id": "hG7zHpDvl79K",
        "outputId": "d426621b-2789-4809-9bea-fde24d275e30"
      },
      "source": [
        "# Checking for outliers in the dataset\n",
        "# household\n",
        "sns.boxplot(x=financial_dataset['household_size']);\n"
      ],
      "execution_count": null,
      "outputs": [
        {
          "output_type": "display_data",
          "data": {
            "image/png": "[encoded data removed]",
            "text/plain": [
              "<Figure size 432x288 with 1 Axes>"
            ]
          },
          "metadata": {
            "tags": [],
            "needs_background": "light"
          }
        }
      ]
    },
    {
      "cell_type": "code",
      "metadata": {
        "colab": {
          "base_uri": "https://localhost:8080/",
          "height": 279
        },
        "id": "6GUfInC9mUUY",
        "outputId": "ff698440-3a1c-40bf-a03f-28546ffb9abc"
      },
      "source": [
        "# Checking for outliers in the dataset\n",
        "# respondent age\n",
        "sns.boxplot(x=financial_dataset['Respondent Age']);"
      ],
      "execution_count": null,
      "outputs": [
        {
          "output_type": "display_data",
          "data": {
            "image/png": "[encoded data removed]",
            "text/plain": [
              "<Figure size 432x288 with 1 Axes>"
            ]
          },
          "metadata": {
            "tags": [],
            "needs_background": "light"
          }
        }
      ]
    },
    {
      "cell_type": "code",
      "metadata": {
        "id": "PWlukLKUvFQN"
      },
      "source": [
        "# Checking for Anomalies\n",
        "#"
      ],
      "execution_count": null,
      "outputs": []
    },
    {
      "cell_type": "code",
      "metadata": {
        "colab": {
          "base_uri": "https://localhost:8080/"
        },
        "id": "uKMQoakevaSX",
        "outputId": "959fc61c-f99f-472f-e1e0-66e18ee2a8f0"
      },
      "source": [
        "# Establishing the outlier years in the year column\n",
        "for items in financial_dataset['year']:\n",
        "  if items > 2018:\n",
        "    print(items)\n"
      ],
      "execution_count": null,
      "outputs": [
        {
          "output_type": "stream",
          "text": [
            "2029\n",
            "2056\n",
            "2039\n"
          ],
          "name": "stdout"
        }
      ]
    },
    {
      "cell_type": "code",
      "metadata": {
        "colab": {
          "base_uri": "https://localhost:8080/"
        },
        "id": "2wi8M2ZUoBUO",
        "outputId": "fb32c84c-b7e5-4a94-c7c7-51166387c544"
      },
      "source": [
        "financial_dataset.shape"
      ],
      "execution_count": null,
      "outputs": [
        {
          "output_type": "execute_result",
          "data": {
            "text/plain": [
              "(23524, 13)"
            ]
          },
          "metadata": {
            "tags": []
          },
          "execution_count": 14
        }
      ]
    },
    {
      "cell_type": "code",
      "metadata": {
        "colab": {
          "base_uri": "https://localhost:8080/"
        },
        "id": "cjNX3CIQFY4s",
        "outputId": "84f0f842-43e4-43bf-d518-83adadef2bc6"
      },
      "source": [
        "# Dropping the outliers\n",
        "outliers_year = financial_dataset[financial_dataset['year'] > 2018].index\n",
        "financial_dataset_1= financial_dataset.drop(outliers_year, inplace=True)\n",
        "financial_dataset.shape"
      ],
      "execution_count": 7,
      "outputs": [
        {
          "output_type": "execute_result",
          "data": {
            "text/plain": [
              "(23521, 13)"
            ]
          },
          "metadata": {
            "tags": []
          },
          "execution_count": 7
        }
      ]
    },
    {
      "cell_type": "code",
      "metadata": {
        "colab": {
          "base_uri": "https://localhost:8080/"
        },
        "id": "MlbMVWPPpWYI",
        "outputId": "876d3a91-c0aa-4657-d3b7-fe355d5ab306"
      },
      "source": [
        "# Dropping the outliers in the household_size column\n",
        "outliers_household_size = financial_dataset[financial_dataset['household_size'] > 8].index\n",
        "financial_dataset.drop(outliers_household_size, inplace=True)\n",
        "financial_dataset.shape"
      ],
      "execution_count": 8,
      "outputs": [
        {
          "output_type": "execute_result",
          "data": {
            "text/plain": [
              "(22788, 13)"
            ]
          },
          "metadata": {
            "tags": []
          },
          "execution_count": 8
        }
      ]
    },
    {
      "cell_type": "code",
      "metadata": {
        "colab": {
          "base_uri": "https://localhost:8080/"
        },
        "id": "45jsjR1AqlpO",
        "outputId": "e57ca121-8f7c-4fad-c128-ff984ed106c6"
      },
      "source": [
        "# Dropping the outliers in the respondent_age column\n",
        "outliers_respondent_age = financial_dataset[financial_dataset['Respondent Age'] > 80].index\n",
        "financial_dataset.drop(outliers_respondent_age, inplace=True)\n",
        "financial_dataset.shape"
      ],
      "execution_count": 9,
      "outputs": [
        {
          "output_type": "execute_result",
          "data": {
            "text/plain": [
              "(22451, 13)"
            ]
          },
          "metadata": {
            "tags": []
          },
          "execution_count": 9
        }
      ]
    },
    {
      "cell_type": "code",
      "metadata": {
        "id": "PvCYb6dgW4yh",
        "colab": {
          "base_uri": "https://localhost:8080/"
        },
        "outputId": "d4ca4a55-0086-4215-990b-7fe2ef068807"
      },
      "source": [
        "# Identifying the Missing Data in SAT 2017 Dataset\n",
        "financial_dataset.isnull().sum()"
      ],
      "execution_count": 10,
      "outputs": [
        {
          "output_type": "execute_result",
          "data": {
            "text/plain": [
              "country                   14\n",
              "year                       0\n",
              "uniqueid                   0\n",
              "Has a Bank account        36\n",
              "Type of Location          14\n",
              "Cell Phone Access         10\n",
              "household_size            27\n",
              "Respondent Age            31\n",
              "gender_of_respondent      33\n",
              "The relathip with head     4\n",
              "marital_status            31\n",
              "Level of Educuation       28\n",
              "Type of Job               29\n",
              "dtype: int64"
            ]
          },
          "metadata": {
            "tags": []
          },
          "execution_count": 10
        }
      ]
    },
    {
      "cell_type": "code",
      "metadata": {
        "id": "MpsDGKZHsf_W",
        "colab": {
          "base_uri": "https://localhost:8080/"
        },
        "outputId": "a4c22634-8261-4590-a6f7-1c1b15a5ab71"
      },
      "source": [
        "# Dealing with the Missing Data\n",
        "\n",
        "financial_dataset = financial_dataset.dropna()\n",
        "financial_dataset.shape"
      ],
      "execution_count": 11,
      "outputs": [
        {
          "output_type": "execute_result",
          "data": {
            "text/plain": [
              "(22276, 13)"
            ]
          },
          "metadata": {
            "tags": []
          },
          "execution_count": 11
        }
      ]
    },
    {
      "cell_type": "code",
      "metadata": {
        "colab": {
          "base_uri": "https://localhost:8080/"
        },
        "id": "0a2FIR70bihB",
        "outputId": "86e28889-dfea-4880-8b74-989b4ff98b1b"
      },
      "source": [
        "# Checking for duplicate values\n",
        "financial_dataset.duplicated().sum()"
      ],
      "execution_count": null,
      "outputs": [
        {
          "output_type": "execute_result",
          "data": {
            "text/plain": [
              "0"
            ]
          },
          "metadata": {
            "tags": []
          },
          "execution_count": 20
        }
      ]
    },
    {
      "cell_type": "code",
      "metadata": {
        "id": "BCQ5VdUTLzpa",
        "colab": {
          "base_uri": "https://localhost:8080/",
          "height": 117
        },
        "outputId": "613ffe87-205e-490b-fd34-36a74b065e9f"
      },
      "source": [
        "# Rename the column names to lower case from upper cases \n",
        "# Replace the white spaces between the column names with underscore\n",
        " \n",
        "financial_dataset.columns = financial_dataset.columns.str.lower().str.replace(' ', '_').str.replace('-', '_')\n",
        "financial_dataset.head(1)"
      ],
      "execution_count": 32,
      "outputs": [
        {
          "output_type": "execute_result",
          "data": {
            "text/html": [
              "<div>\n",
              "<style scoped>\n",
              "    .dataframe tbody tr th:only-of-type {\n",
              "        vertical-align: middle;\n",
              "    }\n",
              "\n",
              "    .dataframe tbody tr th {\n",
              "        vertical-align: top;\n",
              "    }\n",
              "\n",
              "    .dataframe thead th {\n",
              "        text-align: right;\n",
              "    }\n",
              "</style>\n",
              "<table border=\"1\" class=\"dataframe\">\n",
              "  <thead>\n",
              "    <tr style=\"text-align: right;\">\n",
              "      <th></th>\n",
              "      <th>country</th>\n",
              "      <th>year</th>\n",
              "      <th>uniqueid</th>\n",
              "      <th>has_a_bank_account</th>\n",
              "      <th>type_of_location</th>\n",
              "      <th>cell_phone_access</th>\n",
              "      <th>household_size</th>\n",
              "      <th>respondent_age</th>\n",
              "      <th>gender_of_respondent</th>\n",
              "      <th>the_relationship_with_head</th>\n",
              "      <th>marital_status</th>\n",
              "      <th>level_of_educuation</th>\n",
              "      <th>type_of_job</th>\n",
              "    </tr>\n",
              "  </thead>\n",
              "  <tbody>\n",
              "    <tr>\n",
              "      <th>0</th>\n",
              "      <td>Kenya</td>\n",
              "      <td>2018</td>\n",
              "      <td>uniqueid_1</td>\n",
              "      <td>Yes</td>\n",
              "      <td>Rural</td>\n",
              "      <td>Yes</td>\n",
              "      <td>3</td>\n",
              "      <td>24</td>\n",
              "      <td>Female</td>\n",
              "      <td>Spouse</td>\n",
              "      <td>Married/Living together</td>\n",
              "      <td>Secondary education</td>\n",
              "      <td>Self employed</td>\n",
              "    </tr>\n",
              "  </tbody>\n",
              "</table>\n",
              "</div>"
            ],
            "text/plain": [
              "  country  year  ...  level_of_educuation    type_of_job\n",
              "0   Kenya  2018  ...  Secondary education  Self employed\n",
              "\n",
              "[1 rows x 13 columns]"
            ]
          },
          "metadata": {
            "tags": []
          },
          "execution_count": 32
        }
      ]
    },
    {
      "cell_type": "code",
      "metadata": {
        "id": "nR3GxZLZB7A_",
        "colab": {
          "base_uri": "https://localhost:8080/",
          "height": 117
        },
        "outputId": "acf912f6-79e2-4646-9acf-cb0edae9559c"
      },
      "source": [
        "# Rename the columns\n",
        "financial_dataset.rename(columns={'the_relathip_with_head':'the_relationship_with_head'}, inplace = True)\n",
        "financial_dataset.head(1)"
      ],
      "execution_count": 33,
      "outputs": [
        {
          "output_type": "execute_result",
          "data": {
            "text/html": [
              "<div>\n",
              "<style scoped>\n",
              "    .dataframe tbody tr th:only-of-type {\n",
              "        vertical-align: middle;\n",
              "    }\n",
              "\n",
              "    .dataframe tbody tr th {\n",
              "        vertical-align: top;\n",
              "    }\n",
              "\n",
              "    .dataframe thead th {\n",
              "        text-align: right;\n",
              "    }\n",
              "</style>\n",
              "<table border=\"1\" class=\"dataframe\">\n",
              "  <thead>\n",
              "    <tr style=\"text-align: right;\">\n",
              "      <th></th>\n",
              "      <th>country</th>\n",
              "      <th>year</th>\n",
              "      <th>uniqueid</th>\n",
              "      <th>has_a_bank_account</th>\n",
              "      <th>type_of_location</th>\n",
              "      <th>cell_phone_access</th>\n",
              "      <th>household_size</th>\n",
              "      <th>respondent_age</th>\n",
              "      <th>gender_of_respondent</th>\n",
              "      <th>the_relationship_with_head</th>\n",
              "      <th>marital_status</th>\n",
              "      <th>level_of_educuation</th>\n",
              "      <th>type_of_job</th>\n",
              "    </tr>\n",
              "  </thead>\n",
              "  <tbody>\n",
              "    <tr>\n",
              "      <th>0</th>\n",
              "      <td>Kenya</td>\n",
              "      <td>2018</td>\n",
              "      <td>uniqueid_1</td>\n",
              "      <td>Yes</td>\n",
              "      <td>Rural</td>\n",
              "      <td>Yes</td>\n",
              "      <td>3</td>\n",
              "      <td>24</td>\n",
              "      <td>Female</td>\n",
              "      <td>Spouse</td>\n",
              "      <td>Married/Living together</td>\n",
              "      <td>Secondary education</td>\n",
              "      <td>Self employed</td>\n",
              "    </tr>\n",
              "  </tbody>\n",
              "</table>\n",
              "</div>"
            ],
            "text/plain": [
              "  country  year  ...  level_of_educuation    type_of_job\n",
              "0   Kenya  2018  ...  Secondary education  Self employed\n",
              "\n",
              "[1 rows x 13 columns]"
            ]
          },
          "metadata": {
            "tags": []
          },
          "execution_count": 33
        }
      ]
    },
    {
      "cell_type": "code",
      "metadata": {
        "colab": {
          "base_uri": "https://localhost:8080/",
          "height": 117
        },
        "id": "4o6v7Ayxc9pL",
        "outputId": "1b9b687a-acf6-459d-d859-378856d87834"
      },
      "source": [
        "# Dropping irrelevant columns\n",
        "\n",
        "# financial_dataset.drop(['uniqueid'], axis=1, inplace=True)\n",
        "financial_dataset.head(1)"
      ],
      "execution_count": null,
      "outputs": [
        {
          "output_type": "execute_result",
          "data": {
            "text/html": [
              "<div>\n",
              "<style scoped>\n",
              "    .dataframe tbody tr th:only-of-type {\n",
              "        vertical-align: middle;\n",
              "    }\n",
              "\n",
              "    .dataframe tbody tr th {\n",
              "        vertical-align: top;\n",
              "    }\n",
              "\n",
              "    .dataframe thead th {\n",
              "        text-align: right;\n",
              "    }\n",
              "</style>\n",
              "<table border=\"1\" class=\"dataframe\">\n",
              "  <thead>\n",
              "    <tr style=\"text-align: right;\">\n",
              "      <th></th>\n",
              "      <th>country</th>\n",
              "      <th>year</th>\n",
              "      <th>uniqueid</th>\n",
              "      <th>has_a_bank_account</th>\n",
              "      <th>type_of_location</th>\n",
              "      <th>cell_phone_access</th>\n",
              "      <th>household_size</th>\n",
              "      <th>respondent_age</th>\n",
              "      <th>gender_of_respondent</th>\n",
              "      <th>the_relationship_with_head</th>\n",
              "      <th>marital_status</th>\n",
              "      <th>level_of_educuation</th>\n",
              "      <th>type_of_job</th>\n",
              "    </tr>\n",
              "  </thead>\n",
              "  <tbody>\n",
              "    <tr>\n",
              "      <th>0</th>\n",
              "      <td>Kenya</td>\n",
              "      <td>2018</td>\n",
              "      <td>uniqueid_1</td>\n",
              "      <td>Yes</td>\n",
              "      <td>Rural</td>\n",
              "      <td>Yes</td>\n",
              "      <td>3.0</td>\n",
              "      <td>24.0</td>\n",
              "      <td>Female</td>\n",
              "      <td>Spouse</td>\n",
              "      <td>Married/Living together</td>\n",
              "      <td>Secondary education</td>\n",
              "      <td>Self employed</td>\n",
              "    </tr>\n",
              "  </tbody>\n",
              "</table>\n",
              "</div>"
            ],
            "text/plain": [
              "  country  year  ...  level_of_educuation    type_of_job\n",
              "0   Kenya  2018  ...  Secondary education  Self employed\n",
              "\n",
              "[1 rows x 13 columns]"
            ]
          },
          "metadata": {
            "tags": []
          },
          "execution_count": 23
        }
      ]
    },
    {
      "cell_type": "code",
      "metadata": {
        "colab": {
          "base_uri": "https://localhost:8080/",
          "height": 117
        },
        "id": "n__5ATQKV5Vs",
        "outputId": "93d2493d-6db8-4f7a-dfc5-1df64f897f39"
      },
      "source": [
        "# Converting the respondent age and household size data type from float to integer\n",
        "financial_dataset[['respondent_age', 'household_size']] = financial_dataset[['respondent_age', 'household_size']].astype(int)\n",
        "financial_dataset.head(1)"
      ],
      "execution_count": 31,
      "outputs": [
        {
          "output_type": "execute_result",
          "data": {
            "text/html": [
              "<div>\n",
              "<style scoped>\n",
              "    .dataframe tbody tr th:only-of-type {\n",
              "        vertical-align: middle;\n",
              "    }\n",
              "\n",
              "    .dataframe tbody tr th {\n",
              "        vertical-align: top;\n",
              "    }\n",
              "\n",
              "    .dataframe thead th {\n",
              "        text-align: right;\n",
              "    }\n",
              "</style>\n",
              "<table border=\"1\" class=\"dataframe\">\n",
              "  <thead>\n",
              "    <tr style=\"text-align: right;\">\n",
              "      <th></th>\n",
              "      <th>country</th>\n",
              "      <th>year</th>\n",
              "      <th>uniqueid</th>\n",
              "      <th>has_a_bank_account</th>\n",
              "      <th>type_of_location</th>\n",
              "      <th>cell_phone_access</th>\n",
              "      <th>household_size</th>\n",
              "      <th>respondent_age</th>\n",
              "      <th>gender_of_respondent</th>\n",
              "      <th>the_relationship_with_head</th>\n",
              "      <th>marital_status</th>\n",
              "      <th>level_of_educuation</th>\n",
              "      <th>type_of_job</th>\n",
              "    </tr>\n",
              "  </thead>\n",
              "  <tbody>\n",
              "    <tr>\n",
              "      <th>0</th>\n",
              "      <td>Kenya</td>\n",
              "      <td>2018</td>\n",
              "      <td>uniqueid_1</td>\n",
              "      <td>Yes</td>\n",
              "      <td>Rural</td>\n",
              "      <td>Yes</td>\n",
              "      <td>3</td>\n",
              "      <td>24</td>\n",
              "      <td>Female</td>\n",
              "      <td>Spouse</td>\n",
              "      <td>Married/Living together</td>\n",
              "      <td>Secondary education</td>\n",
              "      <td>Self employed</td>\n",
              "    </tr>\n",
              "  </tbody>\n",
              "</table>\n",
              "</div>"
            ],
            "text/plain": [
              "  country  year  ...  level_of_educuation    type_of_job\n",
              "0   Kenya  2018  ...  Secondary education  Self employed\n",
              "\n",
              "[1 rows x 13 columns]"
            ]
          },
          "metadata": {
            "tags": []
          },
          "execution_count": 31
        }
      ]
    },
    {
      "cell_type": "code",
      "metadata": {
        "colab": {
          "base_uri": "https://localhost:8080/"
        },
        "id": "ry41kyDKVzIH",
        "outputId": "bdcf637f-a623-4d11-d689-84631dc40cfe"
      },
      "source": [
        "financial_dataset.info()"
      ],
      "execution_count": null,
      "outputs": [
        {
          "output_type": "stream",
          "text": [
            "<class 'pandas.core.frame.DataFrame'>\n",
            "Int64Index: 22276 entries, 0 to 23522\n",
            "Data columns (total 13 columns):\n",
            " #   Column                      Non-Null Count  Dtype \n",
            "---  ------                      --------------  ----- \n",
            " 0   country                     22276 non-null  object\n",
            " 1   year                        22276 non-null  int64 \n",
            " 2   uniqueid                    22276 non-null  object\n",
            " 3   has_a_bank_account          22276 non-null  object\n",
            " 4   type_of_location            22276 non-null  object\n",
            " 5   cell_phone_access           22276 non-null  object\n",
            " 6   household_size              22276 non-null  int64 \n",
            " 7   respondent_age              22276 non-null  int64 \n",
            " 8   gender_of_respondent        22276 non-null  object\n",
            " 9   the_relationship_with_head  22276 non-null  object\n",
            " 10  marital_status              22276 non-null  object\n",
            " 11  level_of_educuation         22276 non-null  object\n",
            " 12  type_of_job                 22276 non-null  object\n",
            "dtypes: int64(3), object(10)\n",
            "memory usage: 2.4+ MB\n"
          ],
          "name": "stdout"
        }
      ]
    },
    {
      "cell_type": "markdown",
      "metadata": {
        "id": "xMxtPsqcTsSH"
      },
      "source": [
        "## Exploratory Data Analysis: Univariate Analysis"
      ]
    },
    {
      "cell_type": "code",
      "metadata": {
        "colab": {
          "base_uri": "https://localhost:8080/",
          "height": 439
        },
        "id": "2xQy24GFJ80y",
        "outputId": "25ea67ab-1177-47de-de8e-0bccc5305581"
      },
      "source": [
        "# Finding the mode \n",
        "financial_dataset.mode()"
      ],
      "execution_count": null,
      "outputs": [
        {
          "output_type": "execute_result",
          "data": {
            "text/html": [
              "<div>\n",
              "<style scoped>\n",
              "    .dataframe tbody tr th:only-of-type {\n",
              "        vertical-align: middle;\n",
              "    }\n",
              "\n",
              "    .dataframe tbody tr th {\n",
              "        vertical-align: top;\n",
              "    }\n",
              "\n",
              "    .dataframe thead th {\n",
              "        text-align: right;\n",
              "    }\n",
              "</style>\n",
              "<table border=\"1\" class=\"dataframe\">\n",
              "  <thead>\n",
              "    <tr style=\"text-align: right;\">\n",
              "      <th></th>\n",
              "      <th>country</th>\n",
              "      <th>year</th>\n",
              "      <th>uniqueid</th>\n",
              "      <th>has_a_bank_account</th>\n",
              "      <th>type_of_location</th>\n",
              "      <th>cell_phone_access</th>\n",
              "      <th>household_size</th>\n",
              "      <th>respondent_age</th>\n",
              "      <th>gender_of_respondent</th>\n",
              "      <th>the_relationship_with_head</th>\n",
              "      <th>marital_status</th>\n",
              "      <th>level_of_educuation</th>\n",
              "      <th>type_of_job</th>\n",
              "    </tr>\n",
              "  </thead>\n",
              "  <tbody>\n",
              "    <tr>\n",
              "      <th>0</th>\n",
              "      <td>1.0</td>\n",
              "      <td>2016.0</td>\n",
              "      <td>uniqueid_1</td>\n",
              "      <td>0.0</td>\n",
              "      <td>0.0</td>\n",
              "      <td>1.0</td>\n",
              "      <td>2.0</td>\n",
              "      <td>30.0</td>\n",
              "      <td>0.0</td>\n",
              "      <td>Head of Household</td>\n",
              "      <td>2.0</td>\n",
              "      <td>3.0</td>\n",
              "      <td>9.0</td>\n",
              "    </tr>\n",
              "    <tr>\n",
              "      <th>1</th>\n",
              "      <td>NaN</td>\n",
              "      <td>NaN</td>\n",
              "      <td>uniqueid_10</td>\n",
              "      <td>NaN</td>\n",
              "      <td>NaN</td>\n",
              "      <td>NaN</td>\n",
              "      <td>NaN</td>\n",
              "      <td>NaN</td>\n",
              "      <td>NaN</td>\n",
              "      <td>NaN</td>\n",
              "      <td>NaN</td>\n",
              "      <td>NaN</td>\n",
              "      <td>NaN</td>\n",
              "    </tr>\n",
              "    <tr>\n",
              "      <th>2</th>\n",
              "      <td>NaN</td>\n",
              "      <td>NaN</td>\n",
              "      <td>uniqueid_100</td>\n",
              "      <td>NaN</td>\n",
              "      <td>NaN</td>\n",
              "      <td>NaN</td>\n",
              "      <td>NaN</td>\n",
              "      <td>NaN</td>\n",
              "      <td>NaN</td>\n",
              "      <td>NaN</td>\n",
              "      <td>NaN</td>\n",
              "      <td>NaN</td>\n",
              "      <td>NaN</td>\n",
              "    </tr>\n",
              "    <tr>\n",
              "      <th>3</th>\n",
              "      <td>NaN</td>\n",
              "      <td>NaN</td>\n",
              "      <td>uniqueid_1000</td>\n",
              "      <td>NaN</td>\n",
              "      <td>NaN</td>\n",
              "      <td>NaN</td>\n",
              "      <td>NaN</td>\n",
              "      <td>NaN</td>\n",
              "      <td>NaN</td>\n",
              "      <td>NaN</td>\n",
              "      <td>NaN</td>\n",
              "      <td>NaN</td>\n",
              "      <td>NaN</td>\n",
              "    </tr>\n",
              "    <tr>\n",
              "      <th>4</th>\n",
              "      <td>NaN</td>\n",
              "      <td>NaN</td>\n",
              "      <td>uniqueid_1002</td>\n",
              "      <td>NaN</td>\n",
              "      <td>NaN</td>\n",
              "      <td>NaN</td>\n",
              "      <td>NaN</td>\n",
              "      <td>NaN</td>\n",
              "      <td>NaN</td>\n",
              "      <td>NaN</td>\n",
              "      <td>NaN</td>\n",
              "      <td>NaN</td>\n",
              "      <td>NaN</td>\n",
              "    </tr>\n",
              "    <tr>\n",
              "      <th>...</th>\n",
              "      <td>...</td>\n",
              "      <td>...</td>\n",
              "      <td>...</td>\n",
              "      <td>...</td>\n",
              "      <td>...</td>\n",
              "      <td>...</td>\n",
              "      <td>...</td>\n",
              "      <td>...</td>\n",
              "      <td>...</td>\n",
              "      <td>...</td>\n",
              "      <td>...</td>\n",
              "      <td>...</td>\n",
              "      <td>...</td>\n",
              "    </tr>\n",
              "    <tr>\n",
              "      <th>1621</th>\n",
              "      <td>NaN</td>\n",
              "      <td>NaN</td>\n",
              "      <td>uniqueid_993</td>\n",
              "      <td>NaN</td>\n",
              "      <td>NaN</td>\n",
              "      <td>NaN</td>\n",
              "      <td>NaN</td>\n",
              "      <td>NaN</td>\n",
              "      <td>NaN</td>\n",
              "      <td>NaN</td>\n",
              "      <td>NaN</td>\n",
              "      <td>NaN</td>\n",
              "      <td>NaN</td>\n",
              "    </tr>\n",
              "    <tr>\n",
              "      <th>1622</th>\n",
              "      <td>NaN</td>\n",
              "      <td>NaN</td>\n",
              "      <td>uniqueid_994</td>\n",
              "      <td>NaN</td>\n",
              "      <td>NaN</td>\n",
              "      <td>NaN</td>\n",
              "      <td>NaN</td>\n",
              "      <td>NaN</td>\n",
              "      <td>NaN</td>\n",
              "      <td>NaN</td>\n",
              "      <td>NaN</td>\n",
              "      <td>NaN</td>\n",
              "      <td>NaN</td>\n",
              "    </tr>\n",
              "    <tr>\n",
              "      <th>1623</th>\n",
              "      <td>NaN</td>\n",
              "      <td>NaN</td>\n",
              "      <td>uniqueid_995</td>\n",
              "      <td>NaN</td>\n",
              "      <td>NaN</td>\n",
              "      <td>NaN</td>\n",
              "      <td>NaN</td>\n",
              "      <td>NaN</td>\n",
              "      <td>NaN</td>\n",
              "      <td>NaN</td>\n",
              "      <td>NaN</td>\n",
              "      <td>NaN</td>\n",
              "      <td>NaN</td>\n",
              "    </tr>\n",
              "    <tr>\n",
              "      <th>1624</th>\n",
              "      <td>NaN</td>\n",
              "      <td>NaN</td>\n",
              "      <td>uniqueid_996</td>\n",
              "      <td>NaN</td>\n",
              "      <td>NaN</td>\n",
              "      <td>NaN</td>\n",
              "      <td>NaN</td>\n",
              "      <td>NaN</td>\n",
              "      <td>NaN</td>\n",
              "      <td>NaN</td>\n",
              "      <td>NaN</td>\n",
              "      <td>NaN</td>\n",
              "      <td>NaN</td>\n",
              "    </tr>\n",
              "    <tr>\n",
              "      <th>1625</th>\n",
              "      <td>NaN</td>\n",
              "      <td>NaN</td>\n",
              "      <td>uniqueid_999</td>\n",
              "      <td>NaN</td>\n",
              "      <td>NaN</td>\n",
              "      <td>NaN</td>\n",
              "      <td>NaN</td>\n",
              "      <td>NaN</td>\n",
              "      <td>NaN</td>\n",
              "      <td>NaN</td>\n",
              "      <td>NaN</td>\n",
              "      <td>NaN</td>\n",
              "      <td>NaN</td>\n",
              "    </tr>\n",
              "  </tbody>\n",
              "</table>\n",
              "<p>1626 rows × 13 columns</p>\n",
              "</div>"
            ],
            "text/plain": [
              "      country    year  ... level_of_educuation  type_of_job\n",
              "0         1.0  2016.0  ...                 3.0          9.0\n",
              "1         NaN     NaN  ...                 NaN          NaN\n",
              "2         NaN     NaN  ...                 NaN          NaN\n",
              "3         NaN     NaN  ...                 NaN          NaN\n",
              "4         NaN     NaN  ...                 NaN          NaN\n",
              "...       ...     ...  ...                 ...          ...\n",
              "1621      NaN     NaN  ...                 NaN          NaN\n",
              "1622      NaN     NaN  ...                 NaN          NaN\n",
              "1623      NaN     NaN  ...                 NaN          NaN\n",
              "1624      NaN     NaN  ...                 NaN          NaN\n",
              "1625      NaN     NaN  ...                 NaN          NaN\n",
              "\n",
              "[1626 rows x 13 columns]"
            ]
          },
          "metadata": {
            "tags": []
          },
          "execution_count": 57
        }
      ]
    },
    {
      "cell_type": "markdown",
      "metadata": {
        "id": "g2JQawepNSt_"
      },
      "source": [
        "The country with the highest number of repondents is Rwanda, with a majority living in the rural with a cell phone access but not having a bank account. Most of them were self employed 30 year old females who were married or living together and had their highest level of education as primary education."
      ]
    },
    {
      "cell_type": "code",
      "metadata": {
        "colab": {
          "base_uri": "https://localhost:8080/"
        },
        "id": "EtrGbZ3CLpPN",
        "outputId": "4fb6b151-69bc-42f6-d6d6-ade7ed0d3324"
      },
      "source": [
        "# Mean\n",
        "print(\"The mean for the household size and respondent age respectively are: \")\n",
        "financial_dataset[['household_size', 'respondent_age']].mean().round(2)"
      ],
      "execution_count": null,
      "outputs": [
        {
          "output_type": "stream",
          "text": [
            "The mean for the household size and respondent age respectively are: \n"
          ],
          "name": "stdout"
        },
        {
          "output_type": "execute_result",
          "data": {
            "text/plain": [
              "household_size     3.50\n",
              "respondent_age    38.18\n",
              "dtype: float64"
            ]
          },
          "metadata": {
            "tags": []
          },
          "execution_count": 27
        }
      ]
    },
    {
      "cell_type": "markdown",
      "metadata": {
        "id": "tvtxOerUPfr-"
      },
      "source": [
        "The average age for the respondents was 38 years while the average household size was 4."
      ]
    },
    {
      "cell_type": "code",
      "metadata": {
        "colab": {
          "base_uri": "https://localhost:8080/"
        },
        "id": "dKFdDYkrPFPQ",
        "outputId": "d87beec7-8b50-45ea-c547-2487089acfeb"
      },
      "source": [
        "# Variance\n",
        "financial_dataset.var()"
      ],
      "execution_count": null,
      "outputs": [
        {
          "output_type": "execute_result",
          "data": {
            "text/plain": [
              "year                0.712000\n",
              "household_size      3.927587\n",
              "respondent_age    243.362122\n",
              "dtype: float64"
            ]
          },
          "metadata": {
            "tags": []
          },
          "execution_count": 28
        }
      ]
    },
    {
      "cell_type": "markdown",
      "metadata": {
        "id": "bII6nZuwP7BB"
      },
      "source": [
        "It was noted that the data points for the household size were spread out within the mean value of 4 unlike the respondent age was widely spread out from the average age with a variance of 243.36."
      ]
    },
    {
      "cell_type": "code",
      "metadata": {
        "colab": {
          "base_uri": "https://localhost:8080/"
        },
        "id": "pvzdjzVNQ-LK",
        "outputId": "a7048761-0781-471a-9e5d-a22e434cabbb"
      },
      "source": [
        "# Standard deviation\n",
        "print(\"The standard deviation for the household size and respondent age are:\")\n",
        "financial_dataset.std()"
      ],
      "execution_count": null,
      "outputs": [
        {
          "output_type": "stream",
          "text": [
            "The standard deviation for the household size and respondent age are:\n"
          ],
          "name": "stdout"
        },
        {
          "output_type": "execute_result",
          "data": {
            "text/plain": [
              "year               0.843801\n",
              "household_size     1.981814\n",
              "respondent_age    15.600068\n",
              "dtype: float64"
            ]
          },
          "metadata": {
            "tags": []
          },
          "execution_count": 29
        }
      ]
    },
    {
      "cell_type": "markdown",
      "metadata": {
        "id": "BJlBln-ERlop"
      },
      "source": [
        "The household size differs from the groups mean by 1.98 while the respondent age differs from the average mean by 15.6. This means that most of the respondents ages are spread out far from the average age of 38 years"
      ]
    },
    {
      "cell_type": "code",
      "metadata": {
        "colab": {
          "base_uri": "https://localhost:8080/"
        },
        "id": "dQ6VQljiTYAg",
        "outputId": "3796bafe-f8af-45d5-c95c-28d59b19d083"
      },
      "source": [
        "# Range\n",
        "maximum_age = financial_dataset['respondent_age'].max()\n",
        "maximum_age\n",
        "print(f\"The oldest respondent was {maximum_age} years old\")\n",
        "\n",
        "minimum_age = financial_dataset['respondent_age'].min()\n",
        "minimum_age\n",
        "print(f\"\\nThe youngest respondent was {minimum_age} years old\")\n",
        "\n",
        "age_range = maximum_age - minimum_age\n",
        "age_range\n",
        "print(f\"\\nThe age range between the youngest and the \" \n",
        "f\"oldest respondent was: {age_range}\")"
      ],
      "execution_count": null,
      "outputs": [
        {
          "output_type": "stream",
          "text": [
            "The oldest respondent was 80 years old\n",
            "\n",
            "The youngest respondent was 16 years old\n",
            "\n",
            "The age range between the youngest and the oldest respondent was: 64\n"
          ],
          "name": "stdout"
        }
      ]
    },
    {
      "cell_type": "code",
      "metadata": {
        "colab": {
          "base_uri": "https://localhost:8080/"
        },
        "id": "uz-FEyZ5YI84",
        "outputId": "668d2297-f762-401a-9203-3317522f0302"
      },
      "source": [
        "# Skew\n",
        "financial_dataset.skew()"
      ],
      "execution_count": null,
      "outputs": [
        {
          "output_type": "execute_result",
          "data": {
            "text/plain": [
              "year              0.064921\n",
              "household_size    0.515390\n",
              "respondent_age    0.721119\n",
              "dtype: float64"
            ]
          },
          "metadata": {
            "tags": []
          },
          "execution_count": 31
        }
      ]
    },
    {
      "cell_type": "markdown",
      "metadata": {
        "id": "5q_4pcVXZ-cf"
      },
      "source": [
        "Rounding off the skewness values to 1 is an indication of a positive skew. the mean is greater than the mode. The average respondent age was 38 while the mode was 30. On the other hand, the household size had an average mean of 4 while the mode was 2."
      ]
    },
    {
      "cell_type": "code",
      "metadata": {
        "colab": {
          "base_uri": "https://localhost:8080/"
        },
        "id": "VA9ObK8CYkTC",
        "outputId": "1d5d5fab-8613-4a48-eac8-b977f19991ce"
      },
      "source": [
        "# kurtosis\n",
        "financial_dataset.kurt()"
      ],
      "execution_count": null,
      "outputs": [
        {
          "output_type": "execute_result",
          "data": {
            "text/plain": [
              "year             -1.592571\n",
              "household_size   -0.728949\n",
              "respondent_age   -0.295951\n",
              "dtype: float64"
            ]
          },
          "metadata": {
            "tags": []
          },
          "execution_count": 32
        }
      ]
    },
    {
      "cell_type": "markdown",
      "metadata": {
        "id": "IbuPTxHDZiKn"
      },
      "source": [
        "A kurtosis value of negative indicates that the fanancial dataset distribution is light. it has no outliers"
      ]
    },
    {
      "cell_type": "code",
      "metadata": {
        "colab": {
          "base_uri": "https://localhost:8080/"
        },
        "id": "0DgalBvqdGPE",
        "outputId": "0f58986a-d653-406b-b7c1-b837552dac91"
      },
      "source": [
        "# Frequency on the number of respondents with and without phone access\n",
        "phone_access_frequency = financial_dataset.groupby(['country', 'cell_phone_access'])['country'].count()\n",
        "phone_access_frequency"
      ],
      "execution_count": null,
      "outputs": [
        {
          "output_type": "execute_result",
          "data": {
            "text/plain": [
              "country   cell_phone_access\n",
              "Kenya     No                   1150\n",
              "          Yes                  4565\n",
              "Rwanda    No                   1383\n",
              "          Yes                  6942\n",
              "Tanzania  No                   2530\n",
              "          Yes                  3860\n",
              "Uganda    No                    544\n",
              "          Yes                  1302\n",
              "Name: country, dtype: int64"
            ]
          },
          "metadata": {
            "tags": []
          },
          "execution_count": 33
        }
      ]
    },
    {
      "cell_type": "markdown",
      "metadata": {
        "id": "7M1LJiZ51sM0"
      },
      "source": [
        "### Overall cell Phone Access"
      ]
    },
    {
      "cell_type": "code",
      "metadata": {
        "colab": {
          "base_uri": "https://localhost:8080/",
          "height": 522
        },
        "id": "-iXKDc850zR5",
        "outputId": "ac14471a-4518-4e35-f3fb-61235367ad9b"
      },
      "source": [
        "# Overall cell phone access\n",
        "plt.figure(figsize=(8,8))\n",
        "plt.title('bar chart')\n",
        "plt.ylabel('Cell phone Access', fontsize=10)\n",
        "color=['purple','blue']\n",
        "plt.legend(fontsize=10)\n",
        "financial_dataset['cell_phone_access'].value_counts().plot(kind='bar',color=color);"
      ],
      "execution_count": 25,
      "outputs": [
        {
          "output_type": "stream",
          "text": [
            "No handles with labels found to put in legend.\n"
          ],
          "name": "stderr"
        },
        {
          "output_type": "display_data",
          "data": {
            "image/png": "[encoded data removed]",
            "text/plain": [
              "<Figure size 576x576 with 1 Axes>"
            ]
          },
          "metadata": {
            "tags": [],
            "needs_background": "light"
          }
        }
      ]
    },
    {
      "cell_type": "markdown",
      "metadata": {
        "id": "JYbBYAiQ2mMV"
      },
      "source": [
        "Most respondents had access to mobile phones"
      ]
    },
    {
      "cell_type": "markdown",
      "metadata": {
        "id": "3YNhzIVpnNFB"
      },
      "source": [
        "### Cell phone access by country"
      ]
    },
    {
      "cell_type": "code",
      "metadata": {
        "colab": {
          "base_uri": "https://localhost:8080/",
          "height": 552
        },
        "id": "Qyc0b9fReRWr",
        "outputId": "2a076117-b8aa-4986-b383-28a245e5c3ab"
      },
      "source": [
        "# Plotting Cell phone access bar graph\n",
        "financial_dataset.groupby(['country','cell_phone_access']).year.count().unstack().plot(kind='bar',figsize=(12,8))\n",
        "\n",
        "# labels and title\n",
        "plt.title('Cell Phone Access per Country',fontsize=16, fontweight='bold')\n",
        "plt.xlabel('Country',fontsize=14)\n",
        "plt.ylabel('Number of cell phone',fontsize=14)\n",
        "plt.legend(fontsize=10);"
      ],
      "execution_count": null,
      "outputs": [
        {
          "output_type": "display_data",
          "data": {
            "image/png": "[encoded data removed]",
            "text/plain": [
              "<Figure size 864x576 with 1 Axes>"
            ]
          },
          "metadata": {
            "tags": [],
            "needs_background": "light"
          }
        }
      ]
    },
    {
      "cell_type": "markdown",
      "metadata": {
        "id": "YF3lBWAtqXKV"
      },
      "source": [
        "Rwanda had the highest number of respondents (almost 7000) with cell phone access followed by Kenya then Tanzania"
      ]
    },
    {
      "cell_type": "markdown",
      "metadata": {
        "id": "iIZAiUdqrA46"
      },
      "source": [
        "#### Respondents having bank accounts per country"
      ]
    },
    {
      "cell_type": "code",
      "metadata": {
        "colab": {
          "base_uri": "https://localhost:8080/",
          "height": 552
        },
        "id": "7gGkAlMwq9MD",
        "outputId": "e127eb69-8cbc-4077-d137-617e28879b0f"
      },
      "source": [
        "# number of repondents with bank accounts\n",
        "\n",
        "financial_dataset.groupby(['country','has_a_bank_account']).year.count().unstack().plot(kind='bar',figsize=(12,8))\n",
        "\n",
        "# labels and title\n",
        "plt.title('Respondent with bank Accounts',fontsize=16, fontweight='bold')\n",
        "plt.xlabel('Country',fontsize=14)\n",
        "plt.ylabel('Bank Accounts',fontsize=14)\n",
        "plt.legend(fontsize=10);"
      ],
      "execution_count": null,
      "outputs": [
        {
          "output_type": "display_data",
          "data": {
            "image/png": "[encoded data removed]",
            "text/plain": [
              "<Figure size 864x576 with 1 Axes>"
            ]
          },
          "metadata": {
            "tags": [],
            "needs_background": "light"
          }
        }
      ]
    },
    {
      "cell_type": "markdown",
      "metadata": {
        "id": "X3JAn40KsEKY"
      },
      "source": [
        "Majority of the Rwandans didn't have bank account despite having high access to cell phones. Kenya had the highest number of respondents with bank accounts but also majority of them didn't have. The number of kenyans without bank accounts was higher than those with bank accounts"
      ]
    },
    {
      "cell_type": "markdown",
      "metadata": {
        "id": "dRkh1IB4s-d6"
      },
      "source": [
        "### Repondents location"
      ]
    },
    {
      "cell_type": "code",
      "metadata": {
        "colab": {
          "base_uri": "https://localhost:8080/",
          "height": 552
        },
        "id": "Lg4T6K0xs-BO",
        "outputId": "f27c20df-43bc-4b96-86dc-c5843dc33e32"
      },
      "source": [
        "# location of the respondents\n",
        "\n",
        "financial_dataset.groupby(['country','type_of_location']).year.count().unstack().plot(kind='bar',figsize=(12,8))\n",
        "\n",
        "# labels and title\n",
        "plt.title('Respondents Location (Urban/Rural)',fontsize=16, fontweight='bold')\n",
        "plt.xlabel('Country',fontsize=14)\n",
        "plt.ylabel('Location Type',fontsize=14)\n",
        "plt.legend(fontsize=10);"
      ],
      "execution_count": null,
      "outputs": [
        {
          "output_type": "display_data",
          "data": {
            "image/png": "[encoded data removed]",
            "text/plain": [
              "<Figure size 864x576 with 1 Axes>"
            ]
          },
          "metadata": {
            "tags": [],
            "needs_background": "light"
          }
        }
      ]
    },
    {
      "cell_type": "markdown",
      "metadata": {
        "id": "YeaYLuTDt3X3"
      },
      "source": [
        "It was evident that majority of the respondents in Rwanda lived in Rural areas whereas most of the repondents in Tanzania lived in urban areas."
      ]
    },
    {
      "cell_type": "code",
      "metadata": {
        "colab": {
          "base_uri": "https://localhost:8080/",
          "height": 522
        },
        "id": "X3NJrEhKzU8M",
        "outputId": "c4650b32-bdb1-461d-c266-8123be315285"
      },
      "source": [
        "# respondents age per country\n",
        "financial_dataset.groupby(['respondent_age', 'country']).respondent_age.count().unstack().plot(kind='bar', figsize=(12,8))\n",
        "\n",
        "# labels and title\n",
        "plt.title('Respondents Age per Country)',fontsize=16, fontweight='bold')\n",
        "plt.xlabel('Country',fontsize=14)\n",
        "plt.ylabel('Age',fontsize=14)\n",
        "plt.legend(fontsize=10);"
      ],
      "execution_count": null,
      "outputs": [
        {
          "output_type": "display_data",
          "data": {
            "image/png": "[encoded data removed]",
            "text/plain": [
              "<Figure size 864x576 with 1 Axes>"
            ]
          },
          "metadata": {
            "tags": [],
            "needs_background": "light"
          }
        }
      ]
    },
    {
      "cell_type": "markdown",
      "metadata": {
        "id": "In7VH_mc8t1n"
      },
      "source": [
        "### Number of Respondents per Country per Year"
      ]
    },
    {
      "cell_type": "code",
      "metadata": {
        "colab": {
          "base_uri": "https://localhost:8080/",
          "height": 592
        },
        "id": "kwC1dhaq5sE5",
        "outputId": "c2ad1b5d-f6c7-4949-b8eb-5c1b773c575d"
      },
      "source": [
        "# Number of respondents per country per year\n",
        "financial_dataset.groupby(['year', 'country']).year.count().plot(kind='bar', figsize=(12,8))\n",
        "\n",
        "# labels and title\n",
        "plt.title('Respondents per Country/Year)',fontsize=16, fontweight='bold')\n",
        "plt.xlabel('Country',fontsize=14)\n",
        "plt.ylabel('Number of respondents',fontsize=14)\n",
        "plt.legend(fontsize=10);"
      ],
      "execution_count": null,
      "outputs": [
        {
          "output_type": "display_data",
          "data": {
            "image/png": "[encoded data removed]",
            "text/plain": [
              "<Figure size 864x576 with 1 Axes>"
            ]
          },
          "metadata": {
            "tags": [],
            "needs_background": "light"
          }
        }
      ]
    },
    {
      "cell_type": "markdown",
      "metadata": {
        "id": "iu7KSUrpyHFF"
      },
      "source": [
        "### Respondents with Bank Accounts Overall"
      ]
    },
    {
      "cell_type": "code",
      "metadata": {
        "colab": {
          "base_uri": "https://localhost:8080/",
          "height": 505
        },
        "id": "iwtKdfZwyOl4",
        "outputId": "16283d97-4607-4545-8ac7-05fdc3d6c466"
      },
      "source": [
        "# Has bank accounts overall\n",
        "plt.figure(figsize=(8,8))\n",
        "plt.title('bar chart')\n",
        "plt.ylabel('number of people')\n",
        "color=['red','green']\n",
        "financial_dataset['has_a_bank_account'].value_counts().plot(kind='bar',color=color);\n",
        "\n",
        "# It's noted that most respondents did not have a bank account"
      ],
      "execution_count": 15,
      "outputs": [
        {
          "output_type": "display_data",
          "data": {
            "image/png": "[encoded data removed]",
            "text/plain": [
              "<Figure size 576x576 with 1 Axes>"
            ]
          },
          "metadata": {
            "tags": [],
            "needs_background": "light"
          }
        }
      ]
    },
    {
      "cell_type": "markdown",
      "metadata": {
        "id": "yJAfS_kB9K0M"
      },
      "source": [
        "### Respondents with Bank Accounts per Year"
      ]
    },
    {
      "cell_type": "code",
      "metadata": {
        "colab": {
          "base_uri": "https://localhost:8080/",
          "height": 534
        },
        "id": "xMUqHDbU7i8R",
        "outputId": "230f71ef-c43c-472b-ac65-fc51d76e1d01"
      },
      "source": [
        "# Respondents with bank accounts per year\n",
        "financial_dataset.groupby(['year', 'has_a_bank_account']).respondent_age.count().unstack().plot(kind='bar', figsize=(12,8))\n",
        "\n",
        "# labels and title\n",
        "plt.title('Respondents with Bank Accounts per Year',fontsize=16, fontweight='bold')\n",
        "plt.xlabel('Year',fontsize=14)\n",
        "plt.ylabel('Number of respondents',fontsize=14)\n",
        "plt.legend(fontsize=10);"
      ],
      "execution_count": null,
      "outputs": [
        {
          "output_type": "display_data",
          "data": {
            "image/png": "[encoded data removed]",
            "text/plain": [
              "<Figure size 864x576 with 1 Axes>"
            ]
          },
          "metadata": {
            "tags": [],
            "needs_background": "light"
          }
        }
      ]
    },
    {
      "cell_type": "markdown",
      "metadata": {
        "id": "_3SjUJozBzfX"
      },
      "source": [
        "Most of the respondents didn't have bank accounts in 2016, 2017 and 2018."
      ]
    },
    {
      "cell_type": "markdown",
      "metadata": {
        "id": "BRS7HD4f-faX"
      },
      "source": [
        "### Respondents Education Level per Year"
      ]
    },
    {
      "cell_type": "code",
      "metadata": {
        "colab": {
          "base_uri": "https://localhost:8080/",
          "height": 534
        },
        "id": "XKfaRjqA9moC",
        "outputId": "7cdc1ab3-2ca3-49ac-ae15-0edb4f38f1e4"
      },
      "source": [
        "# education Level per year\n",
        "financial_dataset.groupby(['year', 'level_of_educuation']).respondent_age.count().unstack().plot(kind='bar', figsize=(12,8))\n",
        "\n",
        "# labels and title\n",
        "plt.title('Respondents level of Education per Year',fontsize=16, fontweight='bold')\n",
        "plt.xlabel('Year',fontsize=14)\n",
        "plt.ylabel('Number of respondents',fontsize=14)\n",
        "plt.legend(fontsize=10);"
      ],
      "execution_count": null,
      "outputs": [
        {
          "output_type": "display_data",
          "data": {
            "image/png": "[encoded data removed]",
            "text/plain": [
              "<Figure size 864x576 with 1 Axes>"
            ]
          },
          "metadata": {
            "tags": [],
            "needs_background": "light"
          }
        }
      ]
    },
    {
      "cell_type": "markdown",
      "metadata": {
        "id": "zf5cw_0NBfcF"
      },
      "source": [
        "Most of the respondents had primary level of education across the year under review"
      ]
    },
    {
      "cell_type": "markdown",
      "metadata": {
        "id": "U8F8GrfkAAYa"
      },
      "source": [
        "### Level of education and bank accounts"
      ]
    },
    {
      "cell_type": "code",
      "metadata": {
        "colab": {
          "base_uri": "https://localhost:8080/",
          "height": 663
        },
        "id": "OmcE4TsY_u9s",
        "outputId": "4fa17df3-87ff-4bf1-b81c-0f2874e5d251"
      },
      "source": [
        "# Level of Education and Bank Accounts\n",
        "\n",
        "financial_dataset.groupby(['level_of_educuation', 'has_a_bank_account']).respondent_age.count().unstack().plot(kind='bar', figsize=(12,8))\n",
        "\n",
        "# labels and title\n",
        "plt.title('Respondents level of Education per Year',fontsize=16, fontweight='bold')\n",
        "plt.xlabel('Education level',fontsize=14)\n",
        "plt.ylabel('Bank Accounts',fontsize=14)\n",
        "plt.legend(fontsize=10);"
      ],
      "execution_count": null,
      "outputs": [
        {
          "output_type": "display_data",
          "data": {
            "image/png": "[encoded data removed]",
            "text/plain": [
              "<Figure size 864x576 with 1 Axes>"
            ]
          },
          "metadata": {
            "tags": [],
            "needs_background": "light"
          }
        }
      ]
    },
    {
      "cell_type": "markdown",
      "metadata": {
        "id": "E3b3jprlA9al"
      },
      "source": [
        "Overally, it was evident that most of the primary school level respondents didn't have bank accounts"
      ]
    },
    {
      "cell_type": "markdown",
      "metadata": {
        "id": "f7ynseu-FUpj"
      },
      "source": [
        "### Marital status vs Access to bank account"
      ]
    },
    {
      "cell_type": "code",
      "metadata": {
        "colab": {
          "base_uri": "https://localhost:8080/",
          "height": 626
        },
        "id": "2kGAKFSbFTxT",
        "outputId": "b23b13c6-82d9-48b1-f6f5-9d10030c26bd"
      },
      "source": [
        "# Marital status tvs access to bank account\n",
        "financial_dataset.groupby(['marital_status', 'has_a_bank_account']).respondent_age.count().unstack().plot(kind='bar', figsize=(12,8))\n",
        "\n",
        "# labels and title\n",
        "plt.title('Respondents Marital status Vs Access to Bank Account',fontsize=16, fontweight='bold')\n",
        "plt.xlabel('Marital Status',fontsize=14)\n",
        "plt.ylabel('Bank Accounts',fontsize=14)\n",
        "plt.legend(fontsize=10);"
      ],
      "execution_count": null,
      "outputs": [
        {
          "output_type": "display_data",
          "data": {
            "image/png": "[encoded data removed]",
            "text/plain": [
              "<Figure size 864x576 with 1 Axes>"
            ]
          },
          "metadata": {
            "tags": [],
            "needs_background": "light"
          }
        }
      ]
    },
    {
      "cell_type": "code",
      "metadata": {
        "colab": {
          "base_uri": "https://localhost:8080/",
          "height": 534
        },
        "id": "HpOOiInGGMuK",
        "outputId": "907ce372-12c1-4602-bc80-9207690138ff"
      },
      "source": [
        "# Marital status tvs access to bank account\n",
        "financial_dataset.groupby(['year', 'marital_status',]).year.count().unstack().plot(kind='bar', figsize=(12,8))\n",
        "\n",
        "# labels and title\n",
        "plt.title('Respondents Marital status per Year',fontsize=16, fontweight='bold')\n",
        "plt.xlabel('Marital Status',fontsize=14)\n",
        "plt.ylabel('Number',fontsize=14)\n",
        "plt.legend(fontsize=10);"
      ],
      "execution_count": null,
      "outputs": [
        {
          "output_type": "display_data",
          "data": {
            "image/png": "[encoded data removed]",
            "text/plain": [
              "<Figure size 864x576 with 1 Axes>"
            ]
          },
          "metadata": {
            "tags": [],
            "needs_background": "light"
          }
        }
      ]
    },
    {
      "cell_type": "markdown",
      "metadata": {
        "id": "3jH4wH-aH65Y"
      },
      "source": [
        "Most of the respondents are married/living together but don't have bank accounts. 2016 had the highest number of married respondents followed by the year 2018."
      ]
    },
    {
      "cell_type": "code",
      "metadata": {
        "colab": {
          "base_uri": "https://localhost:8080/",
          "height": 117
        },
        "id": "8PEb8ZLb0Gsc",
        "outputId": "55588e3c-7871-45a4-e834-270a1215b667"
      },
      "source": [
        "financial_dataset.head(1)"
      ],
      "execution_count": 17,
      "outputs": [
        {
          "output_type": "execute_result",
          "data": {
            "text/html": [
              "<div>\n",
              "<style scoped>\n",
              "    .dataframe tbody tr th:only-of-type {\n",
              "        vertical-align: middle;\n",
              "    }\n",
              "\n",
              "    .dataframe tbody tr th {\n",
              "        vertical-align: top;\n",
              "    }\n",
              "\n",
              "    .dataframe thead th {\n",
              "        text-align: right;\n",
              "    }\n",
              "</style>\n",
              "<table border=\"1\" class=\"dataframe\">\n",
              "  <thead>\n",
              "    <tr style=\"text-align: right;\">\n",
              "      <th></th>\n",
              "      <th>country</th>\n",
              "      <th>year</th>\n",
              "      <th>uniqueid</th>\n",
              "      <th>has_a_bank_account</th>\n",
              "      <th>type_of_location</th>\n",
              "      <th>cell_phone_access</th>\n",
              "      <th>household_size</th>\n",
              "      <th>respondent_age</th>\n",
              "      <th>gender_of_respondent</th>\n",
              "      <th>the_relathip_with_head</th>\n",
              "      <th>marital_status</th>\n",
              "      <th>level_of_educuation</th>\n",
              "      <th>type_of_job</th>\n",
              "    </tr>\n",
              "  </thead>\n",
              "  <tbody>\n",
              "    <tr>\n",
              "      <th>0</th>\n",
              "      <td>Kenya</td>\n",
              "      <td>2018</td>\n",
              "      <td>uniqueid_1</td>\n",
              "      <td>Yes</td>\n",
              "      <td>Rural</td>\n",
              "      <td>Yes</td>\n",
              "      <td>3</td>\n",
              "      <td>24</td>\n",
              "      <td>Female</td>\n",
              "      <td>Spouse</td>\n",
              "      <td>Married/Living together</td>\n",
              "      <td>Secondary education</td>\n",
              "      <td>Self employed</td>\n",
              "    </tr>\n",
              "  </tbody>\n",
              "</table>\n",
              "</div>"
            ],
            "text/plain": [
              "  country  year  ...  level_of_educuation    type_of_job\n",
              "0   Kenya  2018  ...  Secondary education  Self employed\n",
              "\n",
              "[1 rows x 13 columns]"
            ]
          },
          "metadata": {
            "tags": []
          },
          "execution_count": 17
        }
      ]
    },
    {
      "cell_type": "markdown",
      "metadata": {
        "id": "Ua-X16vz0UHa"
      },
      "source": [
        "### Overall location type"
      ]
    },
    {
      "cell_type": "code",
      "metadata": {
        "colab": {
          "base_uri": "https://localhost:8080/",
          "height": 519
        },
        "id": "YAj4cL45z1oW",
        "outputId": "624c140f-034e-4cee-f038-f9e41c2bd0d7"
      },
      "source": [
        "# Resapondents location\n",
        "plt.figure(figsize=(8,8))\n",
        "plt.title('bar chart')\n",
        "plt.ylabel('Location Type')\n",
        "color=['blue','green']\n",
        "financial_dataset['type_of_location'].value_counts().plot(kind='bar',color=color);\n",
        "\n",
        "# It's evident that most respondents reside in the rural areas"
      ],
      "execution_count": 18,
      "outputs": [
        {
          "output_type": "display_data",
          "data": {
            "image/png": "[encoded data removed]",
            "text/plain": [
              "<Figure size 576x576 with 1 Axes>"
            ]
          },
          "metadata": {
            "tags": [],
            "needs_background": "light"
          }
        }
      ]
    },
    {
      "cell_type": "markdown",
      "metadata": {
        "id": "oFjwWSmH3CNf"
      },
      "source": [
        "### Relationship with the head"
      ]
    },
    {
      "cell_type": "code",
      "metadata": {
        "colab": {
          "base_uri": "https://localhost:8080/",
          "height": 586
        },
        "id": "yliYYrgT3GIQ",
        "outputId": "a287fdcd-e604-4ae5-8578-08269f9b9aa5"
      },
      "source": [
        "# Relationship with the head\n",
        "plt.figure(figsize=(8,8))\n",
        "plt.title('The relationship with head')\n",
        "plt.ylabel('count')\n",
        "financial_dataset['the_relationship_with_head'].value_counts().plot(kind='bar');"
      ],
      "execution_count": 36,
      "outputs": [
        {
          "output_type": "display_data",
          "data": {
            "image/png": "[encoded data removed]",
            "text/plain": [
              "<Figure size 576x576 with 1 Axes>"
            ]
          },
          "metadata": {
            "tags": [],
            "needs_background": "light"
          }
        }
      ]
    },
    {
      "cell_type": "markdown",
      "metadata": {
        "id": "afe9c-TU4ZJs"
      },
      "source": [
        "### Marital status"
      ]
    },
    {
      "cell_type": "code",
      "metadata": {
        "colab": {
          "base_uri": "https://localhost:8080/"
        },
        "id": "2d65ISaa4cIn",
        "outputId": "0a9020b7-fe7c-4d4c-d4ad-ff4e5958ef39"
      },
      "source": [
        "# marital status\n",
        "marital_df = financial_dataset['marital_status'].value_counts()\n",
        "marital_df"
      ],
      "execution_count": 78,
      "outputs": [
        {
          "output_type": "execute_result",
          "data": {
            "text/plain": [
              "Married/Living together    10186\n",
              "Single/Never Married        7634\n",
              "Widowed                     2439\n",
              "Divorced/Seperated          2009\n",
              "Dont know                      8\n",
              "Name: marital_status, dtype: int64"
            ]
          },
          "metadata": {
            "tags": []
          },
          "execution_count": 78
        }
      ]
    },
    {
      "cell_type": "code",
      "metadata": {
        "colab": {
          "base_uri": "https://localhost:8080/",
          "height": 482
        },
        "id": "ofxWYBPx4vM-",
        "outputId": "543188cd-b33a-4e17-9df3-ae03ed7c65df"
      },
      "source": [
        "# Plot a pie chart for marital status\n",
        "\n",
        "plt.figure(figsize=(8,8))\n",
        "plt.title('Marital Status of the Respondent')\n",
        "explode=0,0,0,0.1,0\n",
        "financial_dataset['marital_status'].value_counts().plot(kind='pie', startangle=360,shadow=True, explode=explode,autopct='%1.3f%%');\n",
        "plt.legend(financial_dataset['marital_status'],loc = (1,0.7));\n",
        "# Most respondnets were married/ living together"
      ],
      "execution_count": 69,
      "outputs": [
        {
          "output_type": "display_data",
          "data": {
            "image/png": "[encoded data removed]",
            "text/plain": [
              "<Figure size 576x576 with 1 Axes>"
            ]
          },
          "metadata": {
            "tags": []
          }
        }
      ]
    },
    {
      "cell_type": "markdown",
      "metadata": {
        "id": "PY_vyKntSBZ2"
      },
      "source": [
        "## Bivariate Analysis"
      ]
    },
    {
      "cell_type": "markdown",
      "metadata": {
        "id": "ZV3Bmavf-rDJ"
      },
      "source": [
        "The main aim was to determine the demographic factors that can be used to establish whether an individual has acess to bank services. Will therefore compare the 'has bank account variable' with other factors using the chi-squared test"
      ]
    },
    {
      "cell_type": "markdown",
      "metadata": {
        "id": "jtk6jlnPAofR"
      },
      "source": [
        "### Has Bank account and location"
      ]
    },
    {
      "cell_type": "code",
      "metadata": {
        "colab": {
          "base_uri": "https://localhost:8080/",
          "height": 173
        },
        "id": "lOflwuBX-qm-",
        "outputId": "4a2336ab-430e-4c60-88d7-3a244f92c7bf"
      },
      "source": [
        "# Make a crosstab\n",
        "pd.crosstab(financial_dataset['type_of_location'],financial_dataset['has_a_bank_account'],margins=True,margins_name='Total')\n"
      ],
      "execution_count": 71,
      "outputs": [
        {
          "output_type": "execute_result",
          "data": {
            "text/html": [
              "<div>\n",
              "<style scoped>\n",
              "    .dataframe tbody tr th:only-of-type {\n",
              "        vertical-align: middle;\n",
              "    }\n",
              "\n",
              "    .dataframe tbody tr th {\n",
              "        vertical-align: top;\n",
              "    }\n",
              "\n",
              "    .dataframe thead th {\n",
              "        text-align: right;\n",
              "    }\n",
              "</style>\n",
              "<table border=\"1\" class=\"dataframe\">\n",
              "  <thead>\n",
              "    <tr style=\"text-align: right;\">\n",
              "      <th>has_a_bank_account</th>\n",
              "      <th>No</th>\n",
              "      <th>Yes</th>\n",
              "      <th>Total</th>\n",
              "    </tr>\n",
              "    <tr>\n",
              "      <th>type_of_location</th>\n",
              "      <th></th>\n",
              "      <th></th>\n",
              "      <th></th>\n",
              "    </tr>\n",
              "  </thead>\n",
              "  <tbody>\n",
              "    <tr>\n",
              "      <th>Rural</th>\n",
              "      <td>11882</td>\n",
              "      <td>1594</td>\n",
              "      <td>13476</td>\n",
              "    </tr>\n",
              "    <tr>\n",
              "      <th>Urban</th>\n",
              "      <td>7205</td>\n",
              "      <td>1595</td>\n",
              "      <td>8800</td>\n",
              "    </tr>\n",
              "    <tr>\n",
              "      <th>Total</th>\n",
              "      <td>19087</td>\n",
              "      <td>3189</td>\n",
              "      <td>22276</td>\n",
              "    </tr>\n",
              "  </tbody>\n",
              "</table>\n",
              "</div>"
            ],
            "text/plain": [
              "has_a_bank_account     No   Yes  Total\n",
              "type_of_location                      \n",
              "Rural               11882  1594  13476\n",
              "Urban                7205  1595   8800\n",
              "Total               19087  3189  22276"
            ]
          },
          "metadata": {
            "tags": []
          },
          "execution_count": 71
        }
      ]
    },
    {
      "cell_type": "markdown",
      "metadata": {
        "id": "2XTYl1gbCxjQ"
      },
      "source": [
        "Majority of the respondnents in rural areas did not have bank accounts. Also the proportion of those respondents who had bank accounts in the urban and rural areas was not that different."
      ]
    },
    {
      "cell_type": "code",
      "metadata": {
        "colab": {
          "base_uri": "https://localhost:8080/",
          "height": 316
        },
        "id": "9GtuX-rTDPPx",
        "outputId": "e6b171d7-1483-448f-b358-447c80fecd00"
      },
      "source": [
        "# Plotting a bar graph for location and bank account\n",
        "bank_account_location = pd.crosstab(financial_dataset['type_of_location'],financial_dataset['has_a_bank_account'])\n",
        "\n",
        "bank_account_location.plot.bar(color=color)\n",
        "plt.ylabel('count')\n",
        "plt.title(\"Has bank Account per Location\");\n"
      ],
      "execution_count": 75,
      "outputs": [
        {
          "output_type": "display_data",
          "data": {
            "image/png": "[encoded data removed]",
            "text/plain": [
              "<Figure size 432x288 with 1 Axes>"
            ]
          },
          "metadata": {
            "tags": [],
            "needs_background": "light"
          }
        }
      ]
    },
    {
      "cell_type": "markdown",
      "metadata": {
        "id": "b8vccoPwEUnH"
      },
      "source": [
        "The number of respondents without bank accounts was higher in rural areas than in urban areas. similarly, thise with bank accounts were residing from urban areas than in rural areas although the difference is not big"
      ]
    },
    {
      "cell_type": "code",
      "metadata": {
        "colab": {
          "base_uri": "https://localhost:8080/"
        },
        "id": "Jrt6YEfhE6uF",
        "outputId": "c7a655a2-90f3-465a-d9b4-401b301a2f13"
      },
      "source": [
        "# chis stattistics between location and those with bank accounts\n",
        "stats.chi2_contingency(bank_account_location)\n"
      ],
      "execution_count": 79,
      "outputs": [
        {
          "output_type": "execute_result",
          "data": {
            "text/plain": [
              "(171.55342545137012,\n",
              " 3.387596563950349e-39,\n",
              " 1,\n",
              " array([[11546.79529539,  1929.20470461],\n",
              "        [ 7540.20470461,  1259.79529539]]))"
            ]
          },
          "metadata": {
            "tags": []
          },
          "execution_count": 79
        }
      ]
    },
    {
      "cell_type": "markdown",
      "metadata": {
        "id": "aM2ABo8nGT-P"
      },
      "source": [
        "From the above results, the chi-squared statistic was 171.6 and a p-value that is less than the 0.05 threshold. Therefore the null hypothesis is rejected because there is no dependence between the location and accesibily of bank services.\n",
        "The result however implies that there is a relationship between the location of the respondent and the the accesibility of bank services"
      ]
    },
    {
      "cell_type": "markdown",
      "metadata": {
        "id": "SccUenXAHFN3"
      },
      "source": [
        "### Relationship between Has bank account and country "
      ]
    },
    {
      "cell_type": "code",
      "metadata": {
        "colab": {
          "base_uri": "https://localhost:8080/",
          "height": 235
        },
        "id": "8dhTsoOcHqR-",
        "outputId": "df47c334-0f60-4036-97ac-eedc59cb2949"
      },
      "source": [
        "# Create a crosstab for has bank account and country\n",
        "pd.crosstab(financial_dataset.country,financial_dataset['has_a_bank_account'],margins=True,margins_name='total')\n"
      ],
      "execution_count": 81,
      "outputs": [
        {
          "output_type": "execute_result",
          "data": {
            "text/html": [
              "<div>\n",
              "<style scoped>\n",
              "    .dataframe tbody tr th:only-of-type {\n",
              "        vertical-align: middle;\n",
              "    }\n",
              "\n",
              "    .dataframe tbody tr th {\n",
              "        vertical-align: top;\n",
              "    }\n",
              "\n",
              "    .dataframe thead th {\n",
              "        text-align: right;\n",
              "    }\n",
              "</style>\n",
              "<table border=\"1\" class=\"dataframe\">\n",
              "  <thead>\n",
              "    <tr style=\"text-align: right;\">\n",
              "      <th>has_a_bank_account</th>\n",
              "      <th>No</th>\n",
              "      <th>Yes</th>\n",
              "      <th>total</th>\n",
              "    </tr>\n",
              "    <tr>\n",
              "      <th>country</th>\n",
              "      <th></th>\n",
              "      <th></th>\n",
              "      <th></th>\n",
              "    </tr>\n",
              "  </thead>\n",
              "  <tbody>\n",
              "    <tr>\n",
              "      <th>Kenya</th>\n",
              "      <td>4245</td>\n",
              "      <td>1470</td>\n",
              "      <td>5715</td>\n",
              "    </tr>\n",
              "    <tr>\n",
              "      <th>Rwanda</th>\n",
              "      <td>7367</td>\n",
              "      <td>958</td>\n",
              "      <td>8325</td>\n",
              "    </tr>\n",
              "    <tr>\n",
              "      <th>Tanzania</th>\n",
              "      <td>5793</td>\n",
              "      <td>597</td>\n",
              "      <td>6390</td>\n",
              "    </tr>\n",
              "    <tr>\n",
              "      <th>Uganda</th>\n",
              "      <td>1682</td>\n",
              "      <td>164</td>\n",
              "      <td>1846</td>\n",
              "    </tr>\n",
              "    <tr>\n",
              "      <th>total</th>\n",
              "      <td>19087</td>\n",
              "      <td>3189</td>\n",
              "      <td>22276</td>\n",
              "    </tr>\n",
              "  </tbody>\n",
              "</table>\n",
              "</div>"
            ],
            "text/plain": [
              "has_a_bank_account     No   Yes  total\n",
              "country                               \n",
              "Kenya                4245  1470   5715\n",
              "Rwanda               7367   958   8325\n",
              "Tanzania             5793   597   6390\n",
              "Uganda               1682   164   1846\n",
              "total               19087  3189  22276"
            ]
          },
          "metadata": {
            "tags": []
          },
          "execution_count": 81
        }
      ]
    },
    {
      "cell_type": "markdown",
      "metadata": {
        "id": "TnTVfXjUIK_f"
      },
      "source": [
        "It is evident that Rwanda had most of the respondnents with bank accounts, followed by Tanzania at 6,390 while uganda had few respondents with bank accounts \n"
      ]
    },
    {
      "cell_type": "code",
      "metadata": {
        "colab": {
          "base_uri": "https://localhost:8080/",
          "height": 329
        },
        "id": "Dm0TL0r_Iwbn",
        "outputId": "587f6059-5a89-4040-e829-ad653d449d5a"
      },
      "source": [
        "# plot a bar graph with those who have/don't have bank accounts\n",
        "df = pd.crosstab(financial_dataset.country,financial_dataset['has_a_bank_account'])\n",
        "\n",
        "df.plot.bar(color=color)\n",
        "plt.ylabel('count')\n",
        "plt.title('Bar Chart of those with and without bank accounts');\n"
      ],
      "execution_count": 82,
      "outputs": [
        {
          "output_type": "display_data",
          "data": {
            "image/png": "[encoded data removed]",
            "text/plain": [
              "<Figure size 432x288 with 1 Axes>"
            ]
          },
          "metadata": {
            "tags": [],
            "needs_background": "light"
          }
        }
      ]
    },
    {
      "cell_type": "markdown",
      "metadata": {
        "id": "fgMXcvatJ2aH"
      },
      "source": [
        "Rwanda wasthe country with majority of the respondents with no bank accounts followed by Tanzania then Kenya. overall, the number of respondents who didn't have bank accounts was higher than those who had"
      ]
    },
    {
      "cell_type": "code",
      "metadata": {
        "colab": {
          "base_uri": "https://localhost:8080/"
        },
        "id": "Wh_9EWyDJ1wc",
        "outputId": "63e63ec7-ae08-4863-bff2-558991bf11ba"
      },
      "source": [
        "# chi-squared statistics for those with bank accounts and country\n",
        "stats.chi2_contingency(df)"
      ],
      "execution_count": 83,
      "outputs": [
        {
          "output_type": "execute_result",
          "data": {
            "text/plain": [
              "(832.8874485343508,\n",
              " 3.1881756775409666e-180,\n",
              " 3,\n",
              " array([[4896.84885078,  818.15114922],\n",
              "        [7133.20501885, 1191.79498115],\n",
              "        [5475.21682528,  914.78317472],\n",
              "        [1581.72930508,  264.27069492]]))"
            ]
          },
          "metadata": {
            "tags": []
          },
          "execution_count": 83
        }
      ]
    },
    {
      "cell_type": "markdown",
      "metadata": {
        "id": "C6UJt8mCLmUV"
      },
      "source": [
        "The chi-squared statistic is 832, the degrees of freedom is 3 and the p-values is 3.12. The p-value is greater than the threshold of 0.05. therefore, we'll fail to reject the null hypothesis that the country and acess to bank services are independent"
      ]
    },
    {
      "cell_type": "markdown",
      "metadata": {
        "id": "ePMUY1jqTDaN"
      },
      "source": [
        "### Scatter Plots"
      ]
    },
    {
      "cell_type": "code",
      "metadata": {
        "id": "VjZ23mRYTVC1",
        "colab": {
          "base_uri": "https://localhost:8080/",
          "height": 295
        },
        "outputId": "d4cf22b0-a74f-4699-bff9-a604e66bcf1c"
      },
      "source": [
        "# Respondent age and household size\n",
        "\n",
        "# Using Pandas: Plotting our scatterplot to compare the variables\n",
        "financial_dataset.plot(x = 'respondent_age', y = 'household_size', kind='scatter')\n",
        "\n",
        "# Using Seaborn: Using the function regplot to create our scatterplot\n",
        "sns.regplot(x = financial_dataset[\"respondent_age\"], y = financial_dataset[\"household_size\"], fit_reg=False)\n",
        "\n",
        "# Giving our scatterplot a title\n",
        "plt.title('Respondent Age vs Household Size')\n",
        "\n",
        "# Labelling our x axis\n",
        "plt.xlabel('Respondent Age')\n",
        "\n",
        "# Labelling our y axis\n",
        "plt.ylabel('Household Size');\n",
        "\n",
        "# The scatterplot graph shows that the variable respondent age is strongly correlated to the household size."
      ],
      "execution_count": null,
      "outputs": [
        {
          "output_type": "display_data",
          "data": {
            "image/png": "[encoded data removed]",
            "text/plain": [
              "<Figure size 432x288 with 1 Axes>"
            ]
          },
          "metadata": {
            "tags": [],
            "needs_background": "light"
          }
        }
      ]
    },
    {
      "cell_type": "markdown",
      "metadata": {
        "id": "TXfG7xuWTi4i"
      },
      "source": [
        "#### Correlation"
      ]
    },
    {
      "cell_type": "code",
      "metadata": {
        "colab": {
          "base_uri": "https://localhost:8080/",
          "height": 371
        },
        "id": "7QoutW4x-wgO",
        "outputId": "0ab14ab7-1659-42eb-f0c4-73ac8e20461d"
      },
      "source": [
        "# Heatmap to show if there's correlation\n",
        "hsizeage = financial_dataset[['has_a_bank_account', 'type_of_location',\n",
        "       'cell_phone_access', \n",
        "       'gender_of_respondent','marital_status',\n",
        "       'level_of_educuation', 'type_of_job']]\n",
        "sns.heatmap(hsizeage.corr(),annot=False);"
      ],
      "execution_count": null,
      "outputs": [
        {
          "output_type": "display_data",
          "data": {
            "image/png": "[encoded data removed]",
            "text/plain": [
              "<Figure size 432x288 with 2 Axes>"
            ]
          },
          "metadata": {
            "tags": [],
            "needs_background": "light"
          }
        }
      ]
    },
    {
      "cell_type": "code",
      "metadata": {
        "id": "HLieqeEATmGF",
        "colab": {
          "base_uri": "https://localhost:8080/"
        },
        "outputId": "6690e22c-3eb5-43a2-d5cc-5739cfec1cc6"
      },
      "source": [
        "# Calculating the pearson coefficient\n",
        "pearson_coeff = financial_dataset[\"respondent_age\"].corr(financial_dataset[\"household_size\"], method=\"pearson\") \n",
        "print(pearson_coeff)\n",
        "\n",
        "# Checking whether you have to define the pearson\n",
        "coeff = financial_dataset[\"respondent_age\"].corr(financial_dataset[\"household_size\"]) \n",
        "print(coeff)\n",
        "\n",
        "# The respondent age and household size are inversely correlated"
      ],
      "execution_count": null,
      "outputs": [
        {
          "output_type": "stream",
          "text": [
            "-0.10241518313031248\n",
            "-0.10241518313031248\n"
          ],
          "name": "stdout"
        }
      ]
    },
    {
      "cell_type": "code",
      "metadata": {
        "colab": {
          "base_uri": "https://localhost:8080/",
          "height": 550
        },
        "id": "CS4j5uk1M9CX",
        "outputId": "e2bbff1d-6ccb-4fb5-958a-7f00314a36f7"
      },
      "source": [
        "# Establishing correlation between variables\n",
        "sns.pairplot(financial_dataset);\n"
      ],
      "execution_count": 84,
      "outputs": [
        {
          "output_type": "display_data",
          "data": {
            "image/png": "[encoded data removed]",
            "text/plain": [
              "<Figure size 540x540 with 12 Axes>"
            ]
          },
          "metadata": {
            "tags": [],
            "needs_background": "light"
          }
        }
      ]
    },
    {
      "cell_type": "markdown",
      "metadata": {
        "id": "IIVUpR5ANVow"
      },
      "source": [
        "It is evident that there's no correlation between the variables."
      ]
    },
    {
      "cell_type": "markdown",
      "metadata": {
        "id": "X80Ul82iYTxD"
      },
      "source": [
        "### Relationship between location type vis a vis age and household size"
      ]
    },
    {
      "cell_type": "code",
      "metadata": {
        "colab": {
          "base_uri": "https://localhost:8080/",
          "height": 494
        },
        "id": "r54OPivJWeRf",
        "outputId": "fccfe31b-31e3-40fc-cdac-ba81575b4ffd"
      },
      "source": [
        "# Categorical relationship between location, age and household\n",
        "fig, (a,b) = plt.subplots(1,2, figsize=(14, 7))\n",
        "fig.suptitle('Categorical-Numerical Relationships')\n",
        "sns.barplot(x= financial_dataset['type_of_location'], y= financial_dataset['household_size'], ax=a)\n",
        "sns.barplot(x= financial_dataset['type_of_location'], y= financial_dataset['respondent_age'], ax=b);\n"
      ],
      "execution_count": 93,
      "outputs": [
        {
          "output_type": "display_data",
          "data": {
            "image/png": "[encoded data removed]",
            "text/plain": [
              "<Figure size 1008x504 with 2 Axes>"
            ]
          },
          "metadata": {
            "tags": [],
            "needs_background": "light"
          }
        }
      ]
    },
    {
      "cell_type": "markdown",
      "metadata": {
        "id": "IAN6xiOIXzuP"
      },
      "source": [
        "Rural areas had an average of 4 people per house while urban areas had an average mean of 2.8.  The ages were also almost similar between 37 - 39 years."
      ]
    },
    {
      "cell_type": "markdown",
      "metadata": {
        "id": "w9ajBq3GYudK"
      },
      "source": [
        "### Relationship between Gender, Household and age"
      ]
    },
    {
      "cell_type": "code",
      "metadata": {
        "colab": {
          "base_uri": "https://localhost:8080/",
          "height": 494
        },
        "id": "UGd2dSEpXzYj",
        "outputId": "06ba681c-4e96-4c09-ec0c-1af187819332"
      },
      "source": [
        "# Comparison between Gender, Household and age\n",
        "fig, (ax1,ax2) = plt.subplots(1,2, figsize=(14, 7))\n",
        "fig.suptitle('Categorical-Numerical Relationships')\n",
        "sns.barplot(x= financial_dataset['gender_of_respondent'], y= financial_dataset['household_size'], ax=ax1)\n",
        "sns.barplot(x= financial_dataset['gender_of_respondent'], y= financial_dataset['respondent_age'], ax=ax2);\n"
      ],
      "execution_count": 95,
      "outputs": [
        {
          "output_type": "display_data",
          "data": {
            "image/png": "[encoded data removed]",
            "text/plain": [
              "<Figure size 1008x504 with 2 Axes>"
            ]
          },
          "metadata": {
            "tags": [],
            "needs_background": "light"
          }
        }
      ]
    },
    {
      "cell_type": "markdown",
      "metadata": {
        "id": "Awu7h-3AZpm3"
      },
      "source": [
        "There was no statistically significance difference between age and household size when compared to gender "
      ]
    },
    {
      "cell_type": "markdown",
      "metadata": {
        "id": "Je8xAYGFaQhE"
      },
      "source": [
        "### Comparison between relationship with head and household size/age"
      ]
    },
    {
      "cell_type": "code",
      "metadata": {
        "colab": {
          "base_uri": "https://localhost:8080/",
          "height": 678
        },
        "id": "LHpP9mhJaOcI",
        "outputId": "71f6f936-86f8-4d34-b4cc-f98d1c09a17b"
      },
      "source": [
        "# Comparison between relationship with head and household size/age\n",
        "fig, (ax1,ax2) = plt.subplots(2,1, figsize=(10, 10))\n",
        "fig.suptitle('Categorical-Numerical Relationships')\n",
        "sns.barplot(x= financial_dataset['the_relationship_with_head'], y= financial_dataset['household_size'], ax=ax1)\n",
        "sns.barplot(x= financial_dataset['the_relationship_with_head'], y= financial_dataset['respondent_age'], ax=ax2);\n"
      ],
      "execution_count": 96,
      "outputs": [
        {
          "output_type": "display_data",
          "data": {
            "image/png": "[encoded data removed]",
            "text/plain": [
              "<Figure size 720x720 with 2 Axes>"
            ]
          },
          "metadata": {
            "tags": [],
            "needs_background": "light"
          }
        }
      ]
    },
    {
      "cell_type": "markdown",
      "metadata": {
        "id": "hCb__LAJbDZN"
      },
      "source": [
        "The households with average of 3 members had most respondents being the Head of the household whereas those with an average over 4 had children as the most respondents. Respondents with an average of over 40 years tended to be the heads of the house."
      ]
    },
    {
      "cell_type": "markdown",
      "metadata": {
        "id": "tOFl_ZxOblcM"
      },
      "source": [
        "### Comparison between marital status and household size/age"
      ]
    },
    {
      "cell_type": "code",
      "metadata": {
        "colab": {
          "base_uri": "https://localhost:8080/",
          "height": 494
        },
        "id": "HBh6-AoNbc0K",
        "outputId": "938afd3e-3a81-41b0-eb2c-c246c8d55581"
      },
      "source": [
        "# Comparison between marital status and household size/age\n",
        "fig, (ax1,ax2) = plt.subplots(1,2, figsize=(20, 7))\n",
        "fig.suptitle('Categorical-Numerical Relationships')\n",
        "sns.barplot(x= financial_dataset['marital_status'], y= financial_dataset['household_size'], ax=ax1)\n",
        "sns.barplot(x= financial_dataset['marital_status'], y= financial_dataset['respondent_age'], ax=ax2);\n"
      ],
      "execution_count": 97,
      "outputs": [
        {
          "output_type": "display_data",
          "data": {
            "image/png": "[encoded data removed]",
            "text/plain": [
              "<Figure size 1440x504 with 2 Axes>"
            ]
          },
          "metadata": {
            "tags": [],
            "needs_background": "light"
          }
        }
      ]
    },
    {
      "cell_type": "markdown",
      "metadata": {
        "id": "bLtBhzJRcNvG"
      },
      "source": [
        "\n",
        "Households with an average of over 4 people were largely dominated by married/living together couples while those with an average age approaching 60 were dominated by widowed people."
      ]
    },
    {
      "cell_type": "markdown",
      "metadata": {
        "id": "7rG0TR-Icrcf"
      },
      "source": [
        "### Relationship between job type and household size/age"
      ]
    },
    {
      "cell_type": "code",
      "metadata": {
        "colab": {
          "base_uri": "https://localhost:8080/",
          "height": 673
        },
        "id": "2owOw1t4colx",
        "outputId": "20d65a95-9df3-456c-da85-9e8c1d861c73"
      },
      "source": [
        "# Relationship between job type and household size/age\n",
        "fig, (ax1,ax2) = plt.subplots(2,1, figsize=(30, 14))\n",
        "fig.suptitle('Categorical-Numerical Relationships')\n",
        "sns.barplot(x= financial_dataset['type_of_job'], y= financial_dataset['household_size'], ax=ax1)\n",
        "sns.barplot(x= financial_dataset['type_of_job'], y= financial_dataset['respondent_age'], ax=ax2);\n"
      ],
      "execution_count": 98,
      "outputs": [
        {
          "output_type": "display_data",
          "data": {
            "image/png": "[encoded data removed]",
            "text/plain": [
              "<Figure size 2160x1008 with 2 Axes>"
            ]
          },
          "metadata": {
            "tags": [],
            "needs_background": "light"
          }
        }
      ]
    },
    {
      "cell_type": "markdown",
      "metadata": {
        "id": "JwGTWMJIdcol"
      },
      "source": [
        "Bigger households largely depended on farming and fishing while the elderly (60yrs) largely depended on the Government for their livelihood."
      ]
    },
    {
      "cell_type": "code",
      "metadata": {
        "colab": {
          "base_uri": "https://localhost:8080/",
          "height": 925
        },
        "id": "C6GmE1jQdcP-",
        "outputId": "b08b5b28-80dd-46b1-ec58-859b523f0f44"
      },
      "source": [
        "# Comparison between education level and household size/age\n",
        "fig, (ax1,ax2) = plt.subplots(2,1, figsize=(18, 14))\n",
        "fig.suptitle('Categorical-Numerical Relationships')\n",
        "sns.barplot(x= financial_dataset['level_of_educuation'], y= financial_dataset['household_size'], ax=ax1)\n",
        "sns.barplot(x= financial_dataset['level_of_educuation'], y= financial_dataset['respondent_age'], ax=ax2);\n"
      ],
      "execution_count": 99,
      "outputs": [
        {
          "output_type": "display_data",
          "data": {
            "image/png": "[encoded data removed]",
            "text/plain": [
              "<Figure size 1296x1008 with 2 Axes>"
            ]
          },
          "metadata": {
            "tags": [],
            "needs_background": "light"
          }
        }
      ]
    },
    {
      "cell_type": "markdown",
      "metadata": {
        "id": "ylDMUqvVeqFJ"
      },
      "source": [
        "Households with 4 people were dominated by Secondary education recipients whereas people approaching 50 years largely have no formal education."
      ]
    },
    {
      "cell_type": "code",
      "metadata": {
        "colab": {
          "base_uri": "https://localhost:8080/",
          "height": 117
        },
        "id": "sFfczNcZZBtH",
        "outputId": "8509ebcf-ebd1-440d-a324-789480c90fa6"
      },
      "source": [
        "financial_dataset.head(1)"
      ],
      "execution_count": 94,
      "outputs": [
        {
          "output_type": "execute_result",
          "data": {
            "text/html": [
              "<div>\n",
              "<style scoped>\n",
              "    .dataframe tbody tr th:only-of-type {\n",
              "        vertical-align: middle;\n",
              "    }\n",
              "\n",
              "    .dataframe tbody tr th {\n",
              "        vertical-align: top;\n",
              "    }\n",
              "\n",
              "    .dataframe thead th {\n",
              "        text-align: right;\n",
              "    }\n",
              "</style>\n",
              "<table border=\"1\" class=\"dataframe\">\n",
              "  <thead>\n",
              "    <tr style=\"text-align: right;\">\n",
              "      <th></th>\n",
              "      <th>country</th>\n",
              "      <th>year</th>\n",
              "      <th>uniqueid</th>\n",
              "      <th>has_a_bank_account</th>\n",
              "      <th>type_of_location</th>\n",
              "      <th>cell_phone_access</th>\n",
              "      <th>household_size</th>\n",
              "      <th>respondent_age</th>\n",
              "      <th>gender_of_respondent</th>\n",
              "      <th>the_relationship_with_head</th>\n",
              "      <th>marital_status</th>\n",
              "      <th>level_of_educuation</th>\n",
              "      <th>type_of_job</th>\n",
              "    </tr>\n",
              "  </thead>\n",
              "  <tbody>\n",
              "    <tr>\n",
              "      <th>0</th>\n",
              "      <td>Kenya</td>\n",
              "      <td>2018</td>\n",
              "      <td>uniqueid_1</td>\n",
              "      <td>Yes</td>\n",
              "      <td>Rural</td>\n",
              "      <td>Yes</td>\n",
              "      <td>3</td>\n",
              "      <td>24</td>\n",
              "      <td>Female</td>\n",
              "      <td>Spouse</td>\n",
              "      <td>Married/Living together</td>\n",
              "      <td>Secondary education</td>\n",
              "      <td>Self employed</td>\n",
              "    </tr>\n",
              "  </tbody>\n",
              "</table>\n",
              "</div>"
            ],
            "text/plain": [
              "  country  year  ...  level_of_educuation    type_of_job\n",
              "0   Kenya  2018  ...  Secondary education  Self employed\n",
              "\n",
              "[1 rows x 13 columns]"
            ]
          },
          "metadata": {
            "tags": []
          },
          "execution_count": 94
        }
      ]
    },
    {
      "cell_type": "markdown",
      "metadata": {
        "id": "FuVo37yIT5RK"
      },
      "source": [
        "## Multivariate Analysis"
      ]
    },
    {
      "cell_type": "code",
      "metadata": {
        "colab": {
          "base_uri": "https://localhost:8080/"
        },
        "id": "JH_67HewNm0h",
        "outputId": "a0a0d87c-5a19-4d4c-bfb3-aea80a8c3078"
      },
      "source": [
        "financial_dataset.info()"
      ],
      "execution_count": 86,
      "outputs": [
        {
          "output_type": "stream",
          "text": [
            "<class 'pandas.core.frame.DataFrame'>\n",
            "Int64Index: 22276 entries, 0 to 23522\n",
            "Data columns (total 13 columns):\n",
            " #   Column                      Non-Null Count  Dtype \n",
            "---  ------                      --------------  ----- \n",
            " 0   country                     22276 non-null  object\n",
            " 1   year                        22276 non-null  int64 \n",
            " 2   uniqueid                    22276 non-null  object\n",
            " 3   has_a_bank_account          22276 non-null  object\n",
            " 4   type_of_location            22276 non-null  object\n",
            " 5   cell_phone_access           22276 non-null  object\n",
            " 6   household_size              22276 non-null  int64 \n",
            " 7   respondent_age              22276 non-null  int64 \n",
            " 8   gender_of_respondent        22276 non-null  object\n",
            " 9   the_relationship_with_head  22276 non-null  object\n",
            " 10  marital_status              22276 non-null  object\n",
            " 11  level_of_educuation         22276 non-null  object\n",
            " 12  type_of_job                 22276 non-null  object\n",
            "dtypes: int64(3), object(10)\n",
            "memory usage: 2.4+ MB\n"
          ],
          "name": "stdout"
        }
      ]
    },
    {
      "cell_type": "code",
      "metadata": {
        "colab": {
          "base_uri": "https://localhost:8080/"
        },
        "id": "vnTD7ScIioq-",
        "outputId": "034850d5-7065-4c4b-e97f-4765217171fa"
      },
      "source": [
        "# Data for label encoding\n",
        "from sklearn.preprocessing import LabelEncoder\n",
        "lb=LabelEncoder()\n",
        "financial_encoding = financial_dataset.copy(deep=True)\n",
        "financial_encoding['country']=financial_encoding['country'].astype('category')\n",
        "financial_encoding['type_of_location']=financial_encoding['type_of_location'].astype('category')\n",
        "financial_encoding['cell_phone_access']=financial_encoding['cell_phone_access'].astype('category')\n",
        "financial_encoding['gender_of_respondent']=financial_encoding['gender_of_respondent'].astype('category')\n",
        "financial_encoding['marital_status']=financial_encoding['marital_status'].astype('category')\n",
        "financial_encoding['level_of_educuation']=financial_encoding['level_of_educuation'].astype('category')\n",
        "financial_encoding['type_of_job']=financial_encoding['type_of_job'].astype('category')\n",
        "financial_encoding.info()"
      ],
      "execution_count": 108,
      "outputs": [
        {
          "output_type": "stream",
          "text": [
            "<class 'pandas.core.frame.DataFrame'>\n",
            "Int64Index: 22276 entries, 0 to 23522\n",
            "Data columns (total 13 columns):\n",
            " #   Column                      Non-Null Count  Dtype   \n",
            "---  ------                      --------------  -----   \n",
            " 0   country                     22276 non-null  category\n",
            " 1   year                        22276 non-null  int64   \n",
            " 2   uniqueid                    22276 non-null  object  \n",
            " 3   has_a_bank_account          22276 non-null  object  \n",
            " 4   type_of_location            22276 non-null  category\n",
            " 5   cell_phone_access           22276 non-null  category\n",
            " 6   household_size              22276 non-null  int64   \n",
            " 7   respondent_age              22276 non-null  int64   \n",
            " 8   gender_of_respondent        22276 non-null  category\n",
            " 9   the_relationship_with_head  22276 non-null  object  \n",
            " 10  marital_status              22276 non-null  category\n",
            " 11  level_of_educuation         22276 non-null  category\n",
            " 12  type_of_job                 22276 non-null  category\n",
            "dtypes: category(7), int64(3), object(3)\n",
            "memory usage: 2.0+ MB\n"
          ],
          "name": "stdout"
        }
      ]
    },
    {
      "cell_type": "markdown",
      "metadata": {
        "id": "G01506PnjuZ2"
      },
      "source": [
        "### Categorical Data"
      ]
    },
    {
      "cell_type": "code",
      "metadata": {
        "colab": {
          "base_uri": "https://localhost:8080/",
          "height": 162
        },
        "id": "0XboBdfLkAmu",
        "outputId": "56180c5f-42a1-434e-a6dc-29dd4dc9bf32"
      },
      "source": [
        "# Data for label encoding\n",
        "from sklearn.preprocessing import LabelEncoder\n",
        "lb=LabelEncoder()\n",
        "#financial_encoding = financial_dataset.copy(deep=True)\n",
        "financial_encoding['country']=lb.fit_transform(financial_encoding['country'])\n",
        "financial_encoding['type_of_location']=lb.fit_transform(financial_encoding['type_of_location'])\n",
        "financial_encoding['cell_phone_access']=lb.fit_transform(financial_encoding['cell_phone_access'])\n",
        "financial_encoding['gender_of_respondent']=lb.fit_transform(financial_encoding['gender_of_respondent'])\n",
        "financial_encoding['marital_status']=lb.fit_transform(financial_encoding['marital_status'])\n",
        "financial_encoding['level_of_educuation']=lb.fit_transform(financial_encoding['level_of_educuation'])\n",
        "financial_encoding['type_of_job']=lb.fit_transform(financial_encoding['type_of_job'])\n",
        "financial_encoding.head(3)"
      ],
      "execution_count": 110,
      "outputs": [
        {
          "output_type": "execute_result",
          "data": {
            "text/html": [
              "<div>\n",
              "<style scoped>\n",
              "    .dataframe tbody tr th:only-of-type {\n",
              "        vertical-align: middle;\n",
              "    }\n",
              "\n",
              "    .dataframe tbody tr th {\n",
              "        vertical-align: top;\n",
              "    }\n",
              "\n",
              "    .dataframe thead th {\n",
              "        text-align: right;\n",
              "    }\n",
              "</style>\n",
              "<table border=\"1\" class=\"dataframe\">\n",
              "  <thead>\n",
              "    <tr style=\"text-align: right;\">\n",
              "      <th></th>\n",
              "      <th>country</th>\n",
              "      <th>year</th>\n",
              "      <th>uniqueid</th>\n",
              "      <th>has_a_bank_account</th>\n",
              "      <th>type_of_location</th>\n",
              "      <th>cell_phone_access</th>\n",
              "      <th>household_size</th>\n",
              "      <th>respondent_age</th>\n",
              "      <th>gender_of_respondent</th>\n",
              "      <th>the_relationship_with_head</th>\n",
              "      <th>marital_status</th>\n",
              "      <th>level_of_educuation</th>\n",
              "      <th>type_of_job</th>\n",
              "    </tr>\n",
              "  </thead>\n",
              "  <tbody>\n",
              "    <tr>\n",
              "      <th>0</th>\n",
              "      <td>0</td>\n",
              "      <td>2018</td>\n",
              "      <td>uniqueid_1</td>\n",
              "      <td>Yes</td>\n",
              "      <td>0</td>\n",
              "      <td>1</td>\n",
              "      <td>3</td>\n",
              "      <td>24</td>\n",
              "      <td>0</td>\n",
              "      <td>Spouse</td>\n",
              "      <td>2</td>\n",
              "      <td>4</td>\n",
              "      <td>9</td>\n",
              "    </tr>\n",
              "    <tr>\n",
              "      <th>1</th>\n",
              "      <td>0</td>\n",
              "      <td>2018</td>\n",
              "      <td>uniqueid_2</td>\n",
              "      <td>No</td>\n",
              "      <td>0</td>\n",
              "      <td>0</td>\n",
              "      <td>5</td>\n",
              "      <td>70</td>\n",
              "      <td>0</td>\n",
              "      <td>Head of Household</td>\n",
              "      <td>4</td>\n",
              "      <td>1</td>\n",
              "      <td>4</td>\n",
              "    </tr>\n",
              "    <tr>\n",
              "      <th>2</th>\n",
              "      <td>0</td>\n",
              "      <td>2018</td>\n",
              "      <td>uniqueid_3</td>\n",
              "      <td>Yes</td>\n",
              "      <td>1</td>\n",
              "      <td>1</td>\n",
              "      <td>5</td>\n",
              "      <td>26</td>\n",
              "      <td>1</td>\n",
              "      <td>Other relative</td>\n",
              "      <td>3</td>\n",
              "      <td>6</td>\n",
              "      <td>9</td>\n",
              "    </tr>\n",
              "  </tbody>\n",
              "</table>\n",
              "</div>"
            ],
            "text/plain": [
              "   country  year    uniqueid  ... marital_status  level_of_educuation  type_of_job\n",
              "0        0  2018  uniqueid_1  ...              2                    4            9\n",
              "1        0  2018  uniqueid_2  ...              4                    1            4\n",
              "2        0  2018  uniqueid_3  ...              3                    6            9\n",
              "\n",
              "[3 rows x 13 columns]"
            ]
          },
          "metadata": {
            "tags": []
          },
          "execution_count": 110
        }
      ]
    },
    {
      "cell_type": "code",
      "metadata": {
        "id": "aGAsgLmeky9O"
      },
      "source": [
        "# drop the columns that won't be used\n",
        "x = financial_encoding.drop(['has_a_bank_account', 'uniqueid'], axis= 1) # features\n",
        "y = financial_encoding['has_a_bank_account'] #target variable\n"
      ],
      "execution_count": 112,
      "outputs": []
    },
    {
      "cell_type": "code",
      "metadata": {
        "id": "lnpPkaSUldDe"
      },
      "source": [
        "# Split the data into train and test sets\n",
        "\n",
        "from sklearn.model_selection import  train_test_split\n",
        "\n",
        "x_train, x_test, y_train, y_test = train_test_split(x,y, test_size=0.2, random_state=0)"
      ],
      "execution_count": 118,
      "outputs": []
    },
    {
      "cell_type": "code",
      "metadata": {
        "colab": {
          "base_uri": "https://localhost:8080/",
          "height": 162
        },
        "id": "ofglEjLgllWn",
        "outputId": "34083285-cf65-4489-e753-62ca45d5df09"
      },
      "source": [
        "# view the x_ train data\n",
        "x_train.head(3)"
      ],
      "execution_count": 114,
      "outputs": [
        {
          "output_type": "execute_result",
          "data": {
            "text/html": [
              "<div>\n",
              "<style scoped>\n",
              "    .dataframe tbody tr th:only-of-type {\n",
              "        vertical-align: middle;\n",
              "    }\n",
              "\n",
              "    .dataframe tbody tr th {\n",
              "        vertical-align: top;\n",
              "    }\n",
              "\n",
              "    .dataframe thead th {\n",
              "        text-align: right;\n",
              "    }\n",
              "</style>\n",
              "<table border=\"1\" class=\"dataframe\">\n",
              "  <thead>\n",
              "    <tr style=\"text-align: right;\">\n",
              "      <th></th>\n",
              "      <th>country</th>\n",
              "      <th>year</th>\n",
              "      <th>type_of_location</th>\n",
              "      <th>cell_phone_access</th>\n",
              "      <th>household_size</th>\n",
              "      <th>respondent_age</th>\n",
              "      <th>gender_of_respondent</th>\n",
              "      <th>the_relationship_with_head</th>\n",
              "      <th>marital_status</th>\n",
              "      <th>level_of_educuation</th>\n",
              "      <th>type_of_job</th>\n",
              "    </tr>\n",
              "  </thead>\n",
              "  <tbody>\n",
              "    <tr>\n",
              "      <th>10912</th>\n",
              "      <td>1</td>\n",
              "      <td>2016</td>\n",
              "      <td>0</td>\n",
              "      <td>0</td>\n",
              "      <td>6</td>\n",
              "      <td>49</td>\n",
              "      <td>1</td>\n",
              "      <td>Head of Household</td>\n",
              "      <td>2</td>\n",
              "      <td>3</td>\n",
              "      <td>5</td>\n",
              "    </tr>\n",
              "    <tr>\n",
              "      <th>11709</th>\n",
              "      <td>1</td>\n",
              "      <td>2016</td>\n",
              "      <td>0</td>\n",
              "      <td>0</td>\n",
              "      <td>4</td>\n",
              "      <td>30</td>\n",
              "      <td>0</td>\n",
              "      <td>Spouse</td>\n",
              "      <td>2</td>\n",
              "      <td>1</td>\n",
              "      <td>8</td>\n",
              "    </tr>\n",
              "    <tr>\n",
              "      <th>15924</th>\n",
              "      <td>2</td>\n",
              "      <td>2017</td>\n",
              "      <td>1</td>\n",
              "      <td>0</td>\n",
              "      <td>2</td>\n",
              "      <td>40</td>\n",
              "      <td>0</td>\n",
              "      <td>Spouse</td>\n",
              "      <td>3</td>\n",
              "      <td>1</td>\n",
              "      <td>9</td>\n",
              "    </tr>\n",
              "  </tbody>\n",
              "</table>\n",
              "</div>"
            ],
            "text/plain": [
              "       country  year  ...  level_of_educuation  type_of_job\n",
              "10912        1  2016  ...                    3            5\n",
              "11709        1  2016  ...                    1            8\n",
              "15924        2  2017  ...                    1            9\n",
              "\n",
              "[3 rows x 11 columns]"
            ]
          },
          "metadata": {
            "tags": []
          },
          "execution_count": 114
        }
      ]
    },
    {
      "cell_type": "code",
      "metadata": {
        "colab": {
          "base_uri": "https://localhost:8080/"
        },
        "id": "rNRq21VYl2UU",
        "outputId": "58cebb91-ebd6-4e78-a4bd-7b201a41cd85"
      },
      "source": [
        "# view the y_train\n",
        "y_train.head(3)"
      ],
      "execution_count": 116,
      "outputs": [
        {
          "output_type": "execute_result",
          "data": {
            "text/plain": [
              "10912    No\n",
              "11709    No\n",
              "15924    No\n",
              "Name: has_a_bank_account, dtype: object"
            ]
          },
          "metadata": {
            "tags": []
          },
          "execution_count": 116
        }
      ]
    },
    {
      "cell_type": "markdown",
      "metadata": {
        "id": "PEbXcymHmJqG"
      },
      "source": [
        "The x-train and y_train both have similar index"
      ]
    },
    {
      "cell_type": "code",
      "metadata": {
        "id": "mDLR8VO4R2lm",
        "colab": {
          "base_uri": "https://localhost:8080/"
        },
        "outputId": "742b36fd-d6d5-4171-d533-745dce04d07d"
      },
      "source": [
        "# Data for label encoding\n",
        "from sklearn.preprocessing import LabelEncoder\n",
        "lb=LabelEncoder()\n",
        "financial_encoding = financial_dataset.copy(deep=True)\n",
        "financial_encoding['country']=lb.fit_transform(financial_dataset['country'].astype(str))\n",
        "financial_encoding['type_of_location']=lb.fit_transform(financial_dataset['type_of_location'].astype(str))\n",
        "financial_encoding['cell_phone_access']=lb.fit_transform(financial_dataset['cell_phone_access'].astype(str))\n",
        "financial_encoding['gender_of_respondent']=lb.fit_transform(financial_dataset['gender_of_respondent'].astype(str))\n",
        "financial_encoding['marital_status']=lb.fit_transform(financial_dataset['marital_status'].astype(str))\n",
        "financial_encoding['level_of_educuation']=lb.fit_transform(financial_dataset['level_of_educuation'].astype(str))\n",
        "financial_encoding['type_of_job']=lb.fit_transform(financial_dataset['type_of_job'].astype(str))\n",
        "financial_encoding.info()"
      ],
      "execution_count": 104,
      "outputs": [
        {
          "output_type": "stream",
          "text": [
            "<class 'pandas.core.frame.DataFrame'>\n",
            "Int64Index: 22276 entries, 0 to 23522\n",
            "Data columns (total 13 columns):\n",
            " #   Column                      Non-Null Count  Dtype \n",
            "---  ------                      --------------  ----- \n",
            " 0   country                     22276 non-null  int64 \n",
            " 1   year                        22276 non-null  int64 \n",
            " 2   uniqueid                    22276 non-null  object\n",
            " 3   has_a_bank_account          22276 non-null  object\n",
            " 4   type_of_location            22276 non-null  int64 \n",
            " 5   cell_phone_access           22276 non-null  int64 \n",
            " 6   household_size              22276 non-null  int64 \n",
            " 7   respondent_age              22276 non-null  int64 \n",
            " 8   gender_of_respondent        22276 non-null  int64 \n",
            " 9   the_relationship_with_head  22276 non-null  object\n",
            " 10  marital_status              22276 non-null  int64 \n",
            " 11  level_of_educuation         22276 non-null  int64 \n",
            " 12  type_of_job                 22276 non-null  int64 \n",
            "dtypes: int64(10), object(3)\n",
            "memory usage: 3.0+ MB\n"
          ],
          "name": "stdout"
        }
      ]
    },
    {
      "cell_type": "code",
      "metadata": {
        "id": "1uJinCcyRBG4"
      },
      "source": [
        "financial_dataset['has_a_bank_account']=lb.fit_transform(financial_dataset['has_a_bank_account'].astype(str))"
      ],
      "execution_count": null,
      "outputs": []
    },
    {
      "cell_type": "markdown",
      "metadata": {
        "id": "vTbdjSrhVIiT"
      },
      "source": [
        "## Implementing the Solution"
      ]
    },
    {
      "cell_type": "code",
      "metadata": {
        "colab": {
          "base_uri": "https://localhost:8080/",
          "height": 224
        },
        "id": "if8PA4fBrPOO",
        "outputId": "f2a9389e-150e-4d6f-bde6-b4f0f1780aa0"
      },
      "source": [
        "# check the number of respondents with bank accounts\n",
        "Bank_Account = financial_dataset[financial_dataset.has_a_bank_account == 'Yes']\n",
        "Bank_Account.head()"
      ],
      "execution_count": 126,
      "outputs": [
        {
          "output_type": "execute_result",
          "data": {
            "text/html": [
              "<div>\n",
              "<style scoped>\n",
              "    .dataframe tbody tr th:only-of-type {\n",
              "        vertical-align: middle;\n",
              "    }\n",
              "\n",
              "    .dataframe tbody tr th {\n",
              "        vertical-align: top;\n",
              "    }\n",
              "\n",
              "    .dataframe thead th {\n",
              "        text-align: right;\n",
              "    }\n",
              "</style>\n",
              "<table border=\"1\" class=\"dataframe\">\n",
              "  <thead>\n",
              "    <tr style=\"text-align: right;\">\n",
              "      <th></th>\n",
              "      <th>country</th>\n",
              "      <th>year</th>\n",
              "      <th>uniqueid</th>\n",
              "      <th>has_a_bank_account</th>\n",
              "      <th>type_of_location</th>\n",
              "      <th>cell_phone_access</th>\n",
              "      <th>household_size</th>\n",
              "      <th>respondent_age</th>\n",
              "      <th>gender_of_respondent</th>\n",
              "      <th>the_relationship_with_head</th>\n",
              "      <th>marital_status</th>\n",
              "      <th>level_of_educuation</th>\n",
              "      <th>type_of_job</th>\n",
              "    </tr>\n",
              "  </thead>\n",
              "  <tbody>\n",
              "    <tr>\n",
              "      <th>0</th>\n",
              "      <td>0</td>\n",
              "      <td>2018</td>\n",
              "      <td>uniqueid_1</td>\n",
              "      <td>Yes</td>\n",
              "      <td>0</td>\n",
              "      <td>1</td>\n",
              "      <td>3</td>\n",
              "      <td>24</td>\n",
              "      <td>0</td>\n",
              "      <td>Spouse</td>\n",
              "      <td>2</td>\n",
              "      <td>4</td>\n",
              "      <td>9</td>\n",
              "    </tr>\n",
              "    <tr>\n",
              "      <th>2</th>\n",
              "      <td>0</td>\n",
              "      <td>2018</td>\n",
              "      <td>uniqueid_3</td>\n",
              "      <td>Yes</td>\n",
              "      <td>1</td>\n",
              "      <td>1</td>\n",
              "      <td>5</td>\n",
              "      <td>26</td>\n",
              "      <td>1</td>\n",
              "      <td>Other relative</td>\n",
              "      <td>3</td>\n",
              "      <td>6</td>\n",
              "      <td>9</td>\n",
              "    </tr>\n",
              "    <tr>\n",
              "      <th>8</th>\n",
              "      <td>0</td>\n",
              "      <td>2018</td>\n",
              "      <td>uniqueid_9</td>\n",
              "      <td>Yes</td>\n",
              "      <td>0</td>\n",
              "      <td>1</td>\n",
              "      <td>3</td>\n",
              "      <td>54</td>\n",
              "      <td>1</td>\n",
              "      <td>Head of Household</td>\n",
              "      <td>2</td>\n",
              "      <td>4</td>\n",
              "      <td>1</td>\n",
              "    </tr>\n",
              "    <tr>\n",
              "      <th>11</th>\n",
              "      <td>0</td>\n",
              "      <td>2018</td>\n",
              "      <td>uniqueid_12</td>\n",
              "      <td>Yes</td>\n",
              "      <td>0</td>\n",
              "      <td>1</td>\n",
              "      <td>3</td>\n",
              "      <td>69</td>\n",
              "      <td>1</td>\n",
              "      <td>Head of Household</td>\n",
              "      <td>2</td>\n",
              "      <td>4</td>\n",
              "      <td>7</td>\n",
              "    </tr>\n",
              "    <tr>\n",
              "      <th>17</th>\n",
              "      <td>0</td>\n",
              "      <td>2018</td>\n",
              "      <td>uniqueid_18</td>\n",
              "      <td>Yes</td>\n",
              "      <td>0</td>\n",
              "      <td>1</td>\n",
              "      <td>6</td>\n",
              "      <td>27</td>\n",
              "      <td>0</td>\n",
              "      <td>Head of Household</td>\n",
              "      <td>2</td>\n",
              "      <td>4</td>\n",
              "      <td>9</td>\n",
              "    </tr>\n",
              "  </tbody>\n",
              "</table>\n",
              "</div>"
            ],
            "text/plain": [
              "    country  year  ... level_of_educuation type_of_job\n",
              "0         0  2018  ...                   4           9\n",
              "2         0  2018  ...                   6           9\n",
              "8         0  2018  ...                   4           1\n",
              "11        0  2018  ...                   4           7\n",
              "17        0  2018  ...                   4           9\n",
              "\n",
              "[5 rows x 13 columns]"
            ]
          },
          "metadata": {
            "tags": []
          },
          "execution_count": 126
        }
      ]
    },
    {
      "cell_type": "code",
      "metadata": {
        "colab": {
          "base_uri": "https://localhost:8080/"
        },
        "id": "XaUvFjxit0R8",
        "outputId": "383a309d-2d40-4e11-9abc-ac9e29945437"
      },
      "source": [
        "# Count the number of respondents with bank accounts\n",
        "Bank_Account.country.value_counts()"
      ],
      "execution_count": 127,
      "outputs": [
        {
          "output_type": "execute_result",
          "data": {
            "text/plain": [
              "0    1470\n",
              "1     958\n",
              "2     597\n",
              "3     164\n",
              "Name: country, dtype: int64"
            ]
          },
          "metadata": {
            "tags": []
          },
          "execution_count": 127
        }
      ]
    },
    {
      "cell_type": "code",
      "metadata": {
        "colab": {
          "base_uri": "https://localhost:8080/"
        },
        "id": "htFFry-mu7tk",
        "outputId": "8634480c-a1bd-4bdf-8b33-bbc9bb24e57b"
      },
      "source": [
        "# households with bank accounts\n",
        "Bank_Account.household_size.value_counts()\n"
      ],
      "execution_count": 128,
      "outputs": [
        {
          "output_type": "execute_result",
          "data": {
            "text/plain": [
              "1    664\n",
              "2    617\n",
              "3    498\n",
              "4    469\n",
              "5    410\n",
              "6    268\n",
              "7    177\n",
              "8     85\n",
              "0      1\n",
              "Name: household_size, dtype: int64"
            ]
          },
          "metadata": {
            "tags": []
          },
          "execution_count": 128
        }
      ]
    },
    {
      "cell_type": "markdown",
      "metadata": {
        "id": "wBjx3nl8vax5"
      },
      "source": [
        "Households with less people have more banking access. "
      ]
    },
    {
      "cell_type": "code",
      "metadata": {
        "colab": {
          "base_uri": "https://localhost:8080/"
        },
        "id": "Xn0IY7JSvpAx",
        "outputId": "1a7f635a-b3af-4d72-eb99-dceaced21475"
      },
      "source": [
        "# comparison of age of respondents against having a bank account\n",
        "Bank_Account.respondent_age.value_counts()\n"
      ],
      "execution_count": 130,
      "outputs": [
        {
          "output_type": "execute_result",
          "data": {
            "text/plain": [
              "30    174\n",
              "35    131\n",
              "28    125\n",
              "32    125\n",
              "40    122\n",
              "     ... \n",
              "79      7\n",
              "78      7\n",
              "17      7\n",
              "77      6\n",
              "16      5\n",
              "Name: respondent_age, Length: 65, dtype: int64"
            ]
          },
          "metadata": {
            "tags": []
          },
          "execution_count": 130
        }
      ]
    },
    {
      "cell_type": "markdown",
      "metadata": {
        "id": "nqOLpJOYwSCP"
      },
      "source": [
        "It is evident that the respondents between 28 - 40 years old have more banking access"
      ]
    },
    {
      "cell_type": "code",
      "metadata": {
        "colab": {
          "base_uri": "https://localhost:8080/"
        },
        "id": "zKCLx0nDwDvY",
        "outputId": "92458739-8fec-48fb-d16d-3f8c7c709fe0"
      },
      "source": [
        "# Gender and having bank account\n",
        "Bank_Account.gender_of_respondent.value_counts()\n"
      ],
      "execution_count": 131,
      "outputs": [
        {
          "output_type": "execute_result",
          "data": {
            "text/plain": [
              "1    1753\n",
              "0    1436\n",
              "Name: gender_of_respondent, dtype: int64"
            ]
          },
          "metadata": {
            "tags": []
          },
          "execution_count": 131
        }
      ]
    },
    {
      "cell_type": "code",
      "metadata": {
        "colab": {
          "base_uri": "https://localhost:8080/"
        },
        "id": "s7b3uuVbx1C-",
        "outputId": "593d90ee-39f8-43fe-aba3-2870c6a5ea90"
      },
      "source": [
        "# Relation with head \n",
        "Bank_Account.the_relationship_with_head\t.value_counts()\n"
      ],
      "execution_count": 134,
      "outputs": [
        {
          "output_type": "execute_result",
          "data": {
            "text/plain": [
              "Head of Household      2191\n",
              "Spouse                  678\n",
              "Child                   180\n",
              "Other relative           64\n",
              "Parent                   57\n",
              "Other non-relatives      19\n",
              "Name: the_relationship_with_head, dtype: int64"
            ]
          },
          "metadata": {
            "tags": []
          },
          "execution_count": 134
        }
      ]
    },
    {
      "cell_type": "markdown",
      "metadata": {
        "id": "Kl0lN-oayQdC"
      },
      "source": [
        "It is noted that the head of the household have more access to bank account"
      ]
    },
    {
      "cell_type": "code",
      "metadata": {
        "colab": {
          "base_uri": "https://localhost:8080/"
        },
        "id": "bF0vkfmIyhyd",
        "outputId": "d2172caa-74ab-4498-890b-070686276d59"
      },
      "source": [
        "# marital status and bank accounts\n",
        "Bank_Account.marital_status.value_counts()\n",
        "\n",
        "# Married/Living together people have more bank accounts"
      ],
      "execution_count": 135,
      "outputs": [
        {
          "output_type": "execute_result",
          "data": {
            "text/plain": [
              "2    1796\n",
              "3     940\n",
              "0     228\n",
              "4     223\n",
              "1       2\n",
              "Name: marital_status, dtype: int64"
            ]
          },
          "metadata": {
            "tags": []
          },
          "execution_count": 135
        }
      ]
    },
    {
      "cell_type": "markdown",
      "metadata": {
        "id": "qgmWM6NEwmGV"
      },
      "source": [
        "\n",
        "it is noted that the number of males respondents who have bank accounts are more than the females with have bank accounts"
      ]
    },
    {
      "cell_type": "code",
      "metadata": {
        "colab": {
          "base_uri": "https://localhost:8080/",
          "height": 131
        },
        "id": "wheRbSQuy1cV",
        "outputId": "f36c1544-3914-4e80-cb1a-f5d2aeb9aab3"
      },
      "source": [
        "Bank_Account.head(2)"
      ],
      "execution_count": 137,
      "outputs": [
        {
          "output_type": "execute_result",
          "data": {
            "text/html": [
              "<div>\n",
              "<style scoped>\n",
              "    .dataframe tbody tr th:only-of-type {\n",
              "        vertical-align: middle;\n",
              "    }\n",
              "\n",
              "    .dataframe tbody tr th {\n",
              "        vertical-align: top;\n",
              "    }\n",
              "\n",
              "    .dataframe thead th {\n",
              "        text-align: right;\n",
              "    }\n",
              "</style>\n",
              "<table border=\"1\" class=\"dataframe\">\n",
              "  <thead>\n",
              "    <tr style=\"text-align: right;\">\n",
              "      <th></th>\n",
              "      <th>country</th>\n",
              "      <th>year</th>\n",
              "      <th>uniqueid</th>\n",
              "      <th>has_a_bank_account</th>\n",
              "      <th>type_of_location</th>\n",
              "      <th>cell_phone_access</th>\n",
              "      <th>household_size</th>\n",
              "      <th>respondent_age</th>\n",
              "      <th>gender_of_respondent</th>\n",
              "      <th>the_relationship_with_head</th>\n",
              "      <th>marital_status</th>\n",
              "      <th>level_of_educuation</th>\n",
              "      <th>type_of_job</th>\n",
              "    </tr>\n",
              "  </thead>\n",
              "  <tbody>\n",
              "    <tr>\n",
              "      <th>0</th>\n",
              "      <td>0</td>\n",
              "      <td>2018</td>\n",
              "      <td>uniqueid_1</td>\n",
              "      <td>Yes</td>\n",
              "      <td>0</td>\n",
              "      <td>1</td>\n",
              "      <td>3</td>\n",
              "      <td>24</td>\n",
              "      <td>0</td>\n",
              "      <td>Spouse</td>\n",
              "      <td>2</td>\n",
              "      <td>4</td>\n",
              "      <td>9</td>\n",
              "    </tr>\n",
              "    <tr>\n",
              "      <th>2</th>\n",
              "      <td>0</td>\n",
              "      <td>2018</td>\n",
              "      <td>uniqueid_3</td>\n",
              "      <td>Yes</td>\n",
              "      <td>1</td>\n",
              "      <td>1</td>\n",
              "      <td>5</td>\n",
              "      <td>26</td>\n",
              "      <td>1</td>\n",
              "      <td>Other relative</td>\n",
              "      <td>3</td>\n",
              "      <td>6</td>\n",
              "      <td>9</td>\n",
              "    </tr>\n",
              "  </tbody>\n",
              "</table>\n",
              "</div>"
            ],
            "text/plain": [
              "   country  year    uniqueid  ... marital_status  level_of_educuation  type_of_job\n",
              "0        0  2018  uniqueid_1  ...              2                    4            9\n",
              "2        0  2018  uniqueid_3  ...              3                    6            9\n",
              "\n",
              "[2 rows x 13 columns]"
            ]
          },
          "metadata": {
            "tags": []
          },
          "execution_count": 137
        }
      ]
    },
    {
      "cell_type": "code",
      "metadata": {
        "colab": {
          "base_uri": "https://localhost:8080/"
        },
        "id": "Sr5zxKjuyxTM",
        "outputId": "b63dab92-7660-4d16-e627-89c18ac150b2"
      },
      "source": [
        "# Education level and bank accounts\n",
        "Bank_Account.level_of_educuation.value_counts()\n"
      ],
      "execution_count": 138,
      "outputs": [
        {
          "output_type": "execute_result",
          "data": {
            "text/plain": [
              "3    1047\n",
              "4     954\n",
              "5     579\n",
              "6     446\n",
              "1     152\n",
              "2       6\n",
              "0       5\n",
              "Name: level_of_educuation, dtype: int64"
            ]
          },
          "metadata": {
            "tags": []
          },
          "execution_count": 138
        }
      ]
    },
    {
      "cell_type": "markdown",
      "metadata": {
        "id": "Hu-WqY3zz4n5"
      },
      "source": [
        "People with some form of education have more acces to bank accounts"
      ]
    },
    {
      "cell_type": "code",
      "metadata": {
        "colab": {
          "base_uri": "https://localhost:8080/"
        },
        "id": "j3KHFXya0DEe",
        "outputId": "2e5769b3-d10f-452e-97b0-e847d3df0646"
      },
      "source": [
        "# Bank account and year\n",
        "\n",
        "Bank_Account.type_of_job.value_counts()\n",
        "\n",
        "# It's noted that type of job affects the banking access"
      ],
      "execution_count": 140,
      "outputs": [
        {
          "output_type": "execute_result",
          "data": {
            "text/plain": [
              "9    826\n",
              "1    607\n",
              "3    560\n",
              "5    432\n",
              "2    292\n",
              "8    228\n",
              "7    178\n",
              "4     39\n",
              "0     14\n",
              "6     13\n",
              "Name: type_of_job, dtype: int64"
            ]
          },
          "metadata": {
            "tags": []
          },
          "execution_count": 140
        }
      ]
    },
    {
      "cell_type": "code",
      "metadata": {
        "colab": {
          "base_uri": "https://localhost:8080/"
        },
        "id": "Qwk3NVB80cOA",
        "outputId": "7267f986-b797-4598-8446-816af55e5b4d"
      },
      "source": [
        "# bank account and year\n",
        "Bank_Account.year.value_counts()\n"
      ],
      "execution_count": 141,
      "outputs": [
        {
          "output_type": "execute_result",
          "data": {
            "text/plain": [
              "2018    1634\n",
              "2016     958\n",
              "2017     597\n",
              "Name: year, dtype: int64"
            ]
          },
          "metadata": {
            "tags": []
          },
          "execution_count": 141
        }
      ]
    },
    {
      "cell_type": "markdown",
      "metadata": {
        "id": "qox7C0100j-E"
      },
      "source": [
        "The access to banking facility has improved over the years from 597 in 2017, 958 in 2016 and 1634 in 2018"
      ]
    },
    {
      "cell_type": "markdown",
      "metadata": {
        "id": "Q9lkQqS6YRG4"
      },
      "source": [
        "Rwanda had the highest number of respondents (6,942) with phone access but a majority of them didn't have bank accounts. Kenya was second with highest number of respondents (4,565) with cell phone access with quite a huge number not having bank accounts as detalied below:  \n",
        "\n",
        "country   cell_phone_access\n",
        "Kenya     No                   1150\n",
        "          Yes                  4565\n",
        "Rwanda    No                   1383\n",
        "          Yes                  6942\n",
        "Tanzania  No                   2530\n",
        "          Yes                  3860\n",
        "Uganda    No                    544\n",
        "          Yes                  1302\n",
        "It was noted that majority of the respo of the respondents who didn't have access to bank accounts had primary level education and most of them lived in rural areas with Rwanda leading having more than 7,000 responses. Rwanda report a total of over 4,800 respondents with no bank accounts.\n",
        "\n"
      ]
    },
    {
      "cell_type": "markdown",
      "metadata": {
        "id": "lQ2G4ZPDVOXE"
      },
      "source": [
        "## Challenging the solution"
      ]
    },
    {
      "cell_type": "markdown",
      "metadata": {
        "id": "jWVGKGuiYMWg"
      },
      "source": [
        "> Having data collected from four different country's and in different year's, it would have been better to have data from each country in all the fours years for fair comparison and prediction.\n",
        "\n",
        "Majority of the data was from Rwanda, then Tanzania and followed by Kenya and finaaly uganda. having such disparity in sample size, the results seemed to be biased towards Rwanda with majority of the respondents having primary education, self employed, doing fishing and having no bank accounts yet they have cell phone access. This was also the main reason why rwanda had the modal age of 30 and having a household modal value of 2.\n",
        "\n",
        "Despite the data biasness to Rwanda, it was noted that in the year 2016, the commercial banks could use the mobile access to tap into the Rwandan population and ensure that there's financial inclusion.\n",
        "\n",
        "The opportunity could help the respondents in Rwanda to grow their business as most of them are self employed and practice fish farming. The banks could also give them funds to enable them have value addition to their products. \n",
        "\n",
        "\n",
        "\n",
        "\n"
      ]
    },
    {
      "cell_type": "markdown",
      "metadata": {
        "id": "BOhU-7Wa-xtO"
      },
      "source": [
        "## Recommendations"
      ]
    },
    {
      "cell_type": "markdown",
      "metadata": {
        "id": "82d4T9lW-191"
      },
      "source": [
        "Banks should leverage on the high penetration of mobile phones across the region to increase the banked population\n",
        "Education and knowledge about money and banking should be increased. Possibly in the primary school curriculum - This is the common place to reach most of the population\n",
        "Farmers, self employed people and people in the informal sector should also be targeted by future marketing campaigns\n",
        "There is a great potential for growth of the formal banking sector\n",
        "Interestingly, the uptake of formal banking is equal both in rural and urban areas despite more of the skew being towards the rural population. Shows that marketing campaigns should focus their attention to the rural population."
      ]
    },
    {
      "cell_type": "markdown",
      "metadata": {
        "id": "xrmHVMVsVS--"
      },
      "source": [
        "## Follow up questions"
      ]
    },
    {
      "cell_type": "markdown",
      "metadata": {
        "id": "HPQviDmNtta8"
      },
      "source": [
        "### a). Did we have the right data?"
      ]
    },
    {
      "cell_type": "markdown",
      "metadata": {
        "id": "KEDzPV0Kkfl1"
      },
      "source": [
        "Yes we had the right data. However, majority of the data was biased to one country thus influencing the results."
      ]
    },
    {
      "cell_type": "markdown",
      "metadata": {
        "id": "qjFHK1CKty7o"
      },
      "source": [
        "### b). Do we need other data to answer our question?"
      ]
    },
    {
      "cell_type": "markdown",
      "metadata": {
        "id": "muuZrufrkO9J"
      },
      "source": [
        "No. We don't need other data to answer our question."
      ]
    },
    {
      "cell_type": "markdown",
      "metadata": {
        "id": "HSsicSdvt4Zs"
      },
      "source": [
        "### c). Did we have the right question?"
      ]
    },
    {
      "cell_type": "markdown",
      "metadata": {
        "id": "8eb-PoOkjiVu"
      },
      "source": [
        "Yes we had the right question. The main objective was to predict which individuals wereto use bank accounts and it was noted that the self employed respondents in the rural areas were the main target as the market was untapped with a majority in Rwanda, followed by Tanzanians."
      ]
    },
    {
      "cell_type": "code",
      "metadata": {
        "id": "9k7O2lq4Ujuh"
      },
      "source": [
        ""
      ],
      "execution_count": null,
      "outputs": []
    }
  ]
}